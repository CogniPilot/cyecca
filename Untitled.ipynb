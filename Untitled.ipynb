{
 "cells": [
  {
   "cell_type": "code",
   "execution_count": 5,
   "id": "f15b3f45-7a24-49d8-9884-e36d290e33a8",
   "metadata": {
    "tags": []
   },
   "outputs": [],
   "source": [
    "import cyecca\n",
    "import casadi as ca"
   ]
  },
  {
   "cell_type": "code",
   "execution_count": 6,
   "id": "e6856ba8-a755-4dbf-a783-53d93ea94597",
   "metadata": {
    "tags": []
   },
   "outputs": [],
   "source": [
    "import cyecca.lie as lie"
   ]
  },
  {
   "cell_type": "code",
   "execution_count": 9,
   "id": "8b75968d-3f25-4f0f-8539-50b3d897a1e5",
   "metadata": {
    "tags": []
   },
   "outputs": [
    {
     "data": {
      "text/plain": [
       "SX(@1=0.540302, @2=0, \n",
       "[[@1, -0.841471, @2], \n",
       " [0.841471, @1, @2], \n",
       " [@2, @2, 1]])"
      ]
     },
     "execution_count": 9,
     "metadata": {},
     "output_type": "execute_result"
    }
   ],
   "source": [
    "lie.SO3EulerB321.elem(ca.DM([1, 0, 0])).to_Matrix()"
   ]
  },
  {
   "cell_type": "code",
   "execution_count": 12,
   "id": "a5cd4f02-fdb6-4d3e-83bd-35ed2cff5191",
   "metadata": {
    "tags": []
   },
   "outputs": [
    {
     "data": {
      "text/plain": [
       "SX(@1=1, \n",
       "[[-0.342033, 0.909806, 0.235087, 0.4, 0.1], \n",
       " [0.126799, -0.203202, 0.970892, 0.5, 0.2], \n",
       " [0.931094, 0.361886, -0.0458605, 0.6, 0.3], \n",
       " [00, 00, 00, @1, 00], \n",
       " [00, 00, 00, 00, @1]])"
      ]
     },
     "execution_count": 12,
     "metadata": {},
     "output_type": "execute_result"
    }
   ],
   "source": [
    "lie.SE23Mrp.elem(ca.DM([0.1, 0.2, 0.3, 0.4, 0.5, 0.6, 0.7, 0.8, 0.9])).to_Matrix()"
   ]
  },
  {
   "cell_type": "code",
   "execution_count": null,
   "id": "b62dd7ef-c486-4ecf-b218-233295bfa5d4",
   "metadata": {},
   "outputs": [],
   "source": [
    "lie.SO3EulerB321.elem(ca.DM([1, 0, 0])).to_Matrix()"
   ]
  }
 ],
 "metadata": {
  "kernelspec": {
   "display_name": "Python 3 (ipykernel)",
   "language": "python",
   "name": "python3"
  },
  "language_info": {
   "codemirror_mode": {
    "name": "ipython",
    "version": 3
   },
   "file_extension": ".py",
   "mimetype": "text/x-python",
   "name": "python",
   "nbconvert_exporter": "python",
   "pygments_lexer": "ipython3",
   "version": "3.10.12"
  }
 },
 "nbformat": 4,
 "nbformat_minor": 5
}
