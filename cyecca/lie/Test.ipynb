{
 "cells": [
  {
   "cell_type": "code",
   "execution_count": 1,
   "id": "51a4922e-fa13-4884-abed-03d10c177f8c",
   "metadata": {
    "tags": []
   },
   "outputs": [],
   "source": [
    "%load_ext autoreload\n",
    "%autoreload 2\n",
    "from cyecca import lie\n",
    "import casadi as ca\n",
    "import numpy as np\n",
    "import scipy.linalg"
   ]
  },
  {
   "cell_type": "code",
   "execution_count": 2,
   "id": "a160d068-baff-4ca2-a932-120a468481b7",
   "metadata": {
    "tags": []
   },
   "outputs": [],
   "source": [
    "np.set_printoptions(precision=3, linewidth=100)"
   ]
  },
  {
   "cell_type": "code",
   "execution_count": 3,
   "id": "61a94362-3d6f-4015-9398-5756b10c5138",
   "metadata": {
    "tags": []
   },
   "outputs": [],
   "source": [
    "x = lie.se23.elem(ca.vertcat(0.1,0.2,0.3,0.4,0.5,0.6,0.1,0.2,0.3))"
   ]
  },
  {
   "cell_type": "markdown",
   "id": "58d2fa61-547b-4a1f-919f-8119429c4d52",
   "metadata": {
    "tags": []
   },
   "source": [
    "$e^{ad_x} = Ad e^x$"
   ]
  },
  {
   "cell_type": "code",
   "execution_count": 4,
   "id": "da5ad357-034b-4fb1-acb2-92e66db5e375",
   "metadata": {
    "tags": []
   },
   "outputs": [
    {
     "data": {
      "text/plain": [
       "array([[ 0.936, -0.283,  0.21 ,  0.   ,  0.   ,  0.   , -0.273, -0.491,  0.556],\n",
       "       [ 0.303,  0.951, -0.068,  0.   ,  0.   ,  0.   ,  0.618, -0.215, -0.248],\n",
       "       [-0.181,  0.127,  0.975,  0.   ,  0.   ,  0.   , -0.379,  0.512, -0.137],\n",
       "       [ 0.   ,  0.   ,  0.   ,  0.936, -0.283,  0.21 , -0.127, -0.26 ,  0.215],\n",
       "       [ 0.   ,  0.   ,  0.   ,  0.303,  0.951, -0.068,  0.299, -0.098, -0.034],\n",
       "       [ 0.   ,  0.   ,  0.   , -0.181,  0.127,  0.975, -0.157,  0.152, -0.049],\n",
       "       [ 0.   ,  0.   ,  0.   ,  0.   ,  0.   ,  0.   ,  0.936, -0.283,  0.21 ],\n",
       "       [ 0.   ,  0.   ,  0.   ,  0.   ,  0.   ,  0.   ,  0.303,  0.951, -0.068],\n",
       "       [ 0.   ,  0.   ,  0.   ,  0.   ,  0.   ,  0.   , -0.181,  0.127,  0.975]])"
      ]
     },
     "execution_count": 4,
     "metadata": {},
     "output_type": "execute_result"
    }
   ],
   "source": [
    "exp_ad_x = scipy.linalg.expm(ca.DM(x.ad()))\n",
    "exp_ad_x"
   ]
  },
  {
   "cell_type": "code",
   "execution_count": 5,
   "id": "6b7e65d6-cc7e-4494-b5c8-acadfdb19b02",
   "metadata": {
    "tags": []
   },
   "outputs": [
    {
     "data": {
      "text/plain": [
       "array([[ 0.936, -0.283,  0.21 ,  0.   ,  0.   ,  0.   , -0.273, -0.491,  0.556],\n",
       "       [ 0.303,  0.951, -0.068,  0.   ,  0.   ,  0.   ,  0.618, -0.215, -0.248],\n",
       "       [-0.181,  0.127,  0.975,  0.   ,  0.   ,  0.   , -0.379,  0.512, -0.137],\n",
       "       [ 0.   ,  0.   ,  0.   ,  0.936, -0.283,  0.21 , -0.127, -0.26 ,  0.215],\n",
       "       [ 0.   ,  0.   ,  0.   ,  0.303,  0.951, -0.068,  0.299, -0.098, -0.034],\n",
       "       [ 0.   ,  0.   ,  0.   , -0.181,  0.127,  0.975, -0.157,  0.152, -0.049],\n",
       "       [ 0.   ,  0.   ,  0.   ,  0.   ,  0.   ,  0.   ,  0.936, -0.283,  0.21 ],\n",
       "       [ 0.   ,  0.   ,  0.   ,  0.   ,  0.   ,  0.   ,  0.303,  0.951, -0.068],\n",
       "       [ 0.   ,  0.   ,  0.   ,  0.   ,  0.   ,  0.   , -0.181,  0.127,  0.975]])"
      ]
     },
     "execution_count": 5,
     "metadata": {},
     "output_type": "execute_result"
    }
   ],
   "source": [
    "Ad_exp_x = np.array(ca.DM(x.exp(lie.SE23Mrp).Ad()))\n",
    "Ad_exp_x"
   ]
  },
  {
   "cell_type": "code",
   "execution_count": 6,
   "id": "5b041081-e6ed-444f-83f5-1f8644eca3b3",
   "metadata": {
    "tags": []
   },
   "outputs": [
    {
     "data": {
      "text/plain": [
       "2.6193750069204537e-16"
      ]
     },
     "execution_count": 6,
     "metadata": {},
     "output_type": "execute_result"
    }
   ],
   "source": [
    "np.linalg.norm(exp_ad_x - Ad_exp_x)"
   ]
  },
  {
   "cell_type": "code",
   "execution_count": 8,
   "id": "8d961f8c-9517-428a-987a-667f7383f749",
   "metadata": {
    "tags": []
   },
   "outputs": [
    {
     "data": {
      "text/plain": [
       "SX(@1=(-x_7), @2=(-x_8), @3=(-x_6), \n",
       "[[00, @2, x_7, 00, 00, 00, 00, (-x_5), x_4], \n",
       " [x_8, 00, @3, 00, 00, 00, x_5, 00, (-x_3)], \n",
       " [@1, x_6, 00, 00, 00, 00, (-x_4), x_3, 00], \n",
       " [00, 00, 00, 00, @2, x_7, 00, (-x_2), x_1], \n",
       " [00, 00, 00, x_8, 00, @3, x_2, 00, (-x_0)], \n",
       " [00, 00, 00, @1, x_6, 00, (-x_1), x_0, 00], \n",
       " [00, 00, 00, 00, 00, 00, 00, @2, x_7], \n",
       " [00, 00, 00, 00, 00, 00, x_8, 00, @3], \n",
       " [00, 00, 00, 00, 00, 00, @1, x_6, 00]])"
      ]
     },
     "execution_count": 8,
     "metadata": {},
     "output_type": "execute_result"
    }
   ],
   "source": [
    "x.algebra.elem(ca.SX.sym(\"x\", 9)).ad()"
   ]
  },
  {
   "cell_type": "code",
   "execution_count": 9,
   "id": "7ad565d9-fa71-4bfa-bccc-02ab2d521e4e",
   "metadata": {
    "tags": []
   },
   "outputs": [
    {
     "data": {
      "text/plain": [
       "SX(@1=0.978484, @2=0.151568, @3=-0.0938736, @4=-0.144948, @5=0.98345, @6=0.0593496, @7=0.103804, @8=-0.0394891, @9=0.991725, \n",
       "[[@1, @4, @7, 00, 00, 00, -0.0919934, -0.267181, 0.271445], \n",
       " [@2, @5, @8, 00, 00, 00, 0.31, -0.0722919, -0.150667], \n",
       " [@3, @6, @9, 00, 00, 00, -0.212181, 0.239404, -0.0460762], \n",
       " [00, 00, 00, @1, @4, @7, -0.0427297, -0.138217, 0.106388], \n",
       " [00, 00, 00, @2, @5, @8, 0.151364, -0.032869, -0.0285422], \n",
       " [00, 00, 00, @3, @6, @9, -0.0866664, 0.067985, -0.0164345], \n",
       " [00, 00, 00, 00, 00, 00, @1, @4, @7], \n",
       " [00, 00, 00, 00, 00, 00, @2, @5, @8], \n",
       " [00, 00, 00, 00, 00, 00, @3, @6, @9]])"
      ]
     },
     "execution_count": 9,
     "metadata": {},
     "output_type": "execute_result"
    }
   ],
   "source": [
    "x.diff_correction_inv()"
   ]
  },
  {
   "cell_type": "code",
   "execution_count": 10,
   "id": "898e7bf5-bb90-408d-963e-f75e171c033f",
   "metadata": {
    "tags": []
   },
   "outputs": [],
   "source": [
    "import math"
   ]
  },
  {
   "cell_type": "code",
   "execution_count": 11,
   "id": "af47c123-57e5-411b-802b-e5b79f79f9b2",
   "metadata": {
    "tags": []
   },
   "outputs": [],
   "source": [
    "def derive_Ul_inv_series(n):\n",
    "    x = lie.se23.elem(ca.SX.sym('x', 9))\n",
    "    X = x.ad()\n",
    "    Ul_inv = ca.SX.zeros(9, 9)\n",
    "    #print(ca.mpower(X, 0))\n",
    "    for k in range(n):\n",
    "        Xp = ca.mpower(X, k)\n",
    "        #print(k)\n",
    "        #print(Xp.sparsity().spy())\n",
    "        Ul_inv += Xp/math.factorial(k+1)\n",
    "    Ul_inv = ca.sparsify(Ul_inv)\n",
    "    return ca.Function('Ul_inv_series', [x.param], [Ul_inv])\n",
    "Ul_inv_series = derive_Ul_inv_series(10)"
   ]
  },
  {
   "cell_type": "code",
   "execution_count": 12,
   "id": "755c964a-4bcf-4338-b659-23dc87c4ac12",
   "metadata": {
    "tags": []
   },
   "outputs": [
    {
     "data": {
      "text/plain": [
       "array([[-1.24989e-12,  2.25903e-13,  2.66065e-13,  0.00000e+00,  0.00000e+00,  0.00000e+00, -2.82378e-11,  5.60102e-12,  6.43652e-12],\n",
       "       [ 1.58734e-13, -9.61453e-13,  5.88092e-13,  0.00000e+00,  0.00000e+00,  0.00000e+00,  3.93069e-12, -2.18101e-11,  1.34444e-11],\n",
       "       [ 3.10835e-13,  5.65707e-13, -4.80838e-13,  0.00000e+00,  0.00000e+00,  0.00000e+00,  7.57250e-12,  1.28431e-11, -1.14820e-11],\n",
       "       [ 0.00000e+00,  0.00000e+00,  0.00000e+00, -1.24989e-12,  2.25903e-13,  2.66065e-13, -1.24983e-11,  2.29233e-12,  2.63782e-12],\n",
       "       [ 0.00000e+00,  0.00000e+00,  0.00000e+00,  1.58734e-13, -9.61453e-13,  5.88092e-13,  1.55320e-12, -9.61405e-12,  5.89162e-12],\n",
       "       [ 0.00000e+00,  0.00000e+00,  0.00000e+00,  3.10835e-13,  5.65707e-13, -4.80838e-13,  3.13059e-12,  5.64523e-12, -4.80702e-12],\n",
       "       [ 0.00000e+00,  0.00000e+00,  0.00000e+00,  0.00000e+00,  0.00000e+00,  0.00000e+00, -1.24989e-12,  2.25903e-13,  2.66065e-13],\n",
       "       [ 0.00000e+00,  0.00000e+00,  0.00000e+00,  0.00000e+00,  0.00000e+00,  0.00000e+00,  1.58734e-13, -9.61453e-13,  5.88092e-13],\n",
       "       [ 0.00000e+00,  0.00000e+00,  0.00000e+00,  0.00000e+00,  0.00000e+00,  0.00000e+00,  3.10835e-13,  5.65707e-13, -4.80838e-13]])"
      ]
     },
     "execution_count": 12,
     "metadata": {},
     "output_type": "execute_result"
    }
   ],
   "source": [
    "np.set_printoptions(precision=5, linewidth=200, suppress=False)\n",
    "np.array(ca.DM(x.diff_correction_inv()) - ca.DM(Ul_inv_series(x.param)))"
   ]
  },
  {
   "cell_type": "code",
   "execution_count": 15,
   "id": "331810b9-cd95-4856-857e-917c6859d532",
   "metadata": {
    "tags": []
   },
   "outputs": [
    {
     "name": "stdout",
     "output_type": "stream",
     "text": [
      "30 ns ± 0.0387 ns per loop (mean ± std. dev. of 7 runs, 10,000,000 loops each)\n"
     ]
    }
   ],
   "source": [
    "%%timeit\n",
    "x.diff_correction_inv"
   ]
  },
  {
   "cell_type": "code",
   "execution_count": 14,
   "id": "60423244-1a21-40e8-90fc-be2a810ee7f3",
   "metadata": {
    "tags": []
   },
   "outputs": [
    {
     "name": "stdout",
     "output_type": "stream",
     "text": [
      "889 µs ± 1.23 µs per loop (mean ± std. dev. of 7 runs, 1,000 loops each)\n"
     ]
    }
   ],
   "source": [
    "%%timeit\n",
    "Ul_inv_series(x.param)"
   ]
  },
  {
   "cell_type": "code",
   "execution_count": null,
   "id": "40b0e2da-cbd0-4e75-874f-a4882eeead1b",
   "metadata": {},
   "outputs": [],
   "source": []
  }
 ],
 "metadata": {
  "kernelspec": {
   "display_name": "Python 3 (ipykernel)",
   "language": "python",
   "name": "python3"
  },
  "language_info": {
   "codemirror_mode": {
    "name": "ipython",
    "version": 3
   },
   "file_extension": ".py",
   "mimetype": "text/x-python",
   "name": "python",
   "nbconvert_exporter": "python",
   "pygments_lexer": "ipython3",
   "version": "3.10.12"
  }
 },
 "nbformat": 4,
 "nbformat_minor": 5
}
