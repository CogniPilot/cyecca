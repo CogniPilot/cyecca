{
 "cells": [
  {
   "cell_type": "code",
   "execution_count": 60,
   "metadata": {},
   "outputs": [],
   "source": [
    "import casadi as ca\n",
    "import cyecca.lie as lie\n"
   ]
  },
  {
   "cell_type": "code",
   "execution_count": 61,
   "metadata": {},
   "outputs": [],
   "source": [
    "def derive_model():\n",
    "    # p, parameters\n",
    "    thr_max = ca.SX.sym(\"thr_max\")\n",
    "    m = ca.SX.sym(\"m\")\n",
    "    cl = ca.SX.sym(\"cl\")\n",
    "    cd = ca.SX.sym(\"cd\")\n",
    "    S = ca.SX.sym(\"S\")\n",
    "    rho = ca.SX.sym(\"rho\")\n",
    "    g = ca.SX.sym(\"g\")\n",
    "\n",
    "    p= ca.vertcat(\n",
    "        thr_max,\n",
    "        m,\n",
    "        cl,\n",
    "        cd,\n",
    "        S,\n",
    "        rho,\n",
    "        g\n",
    "    )\n",
    "    p_defaults = {\n",
    "        \"thr_max\" : 1.0,\n",
    "        \"m\" : 0.2,\n",
    "        \"cl\": 3.5,\n",
    "        \"cd\" : 0.0,\n",
    "        \"S\":1.0,\n",
    "        \"rho\": 1.225,\n",
    "        \"g\": 9.8,\n",
    "    }\n",
    "\n",
    "    # states\n",
    "    # x, state\n",
    "    posx = ca.SX.sym(\"posx\")\n",
    "    posy = ca.SX.sym(\"posy\")\n",
    "    posz = ca.SX.sym(\"posz\")\n",
    "    velx = ca.SX.sym(\"velx\")\n",
    "    vely = ca.SX.sym(\"vely\")\n",
    "    velz = ca.SX.sym(\"velz\")\n",
    "    x = ca.vertcat(\n",
    "        posx,\n",
    "        posy,\n",
    "        posz,\n",
    "        velx,\n",
    "        vely,\n",
    "        velz,\n",
    "        )\n",
    "    x0_defaults = {\n",
    "        \"posx\" : 0,\n",
    "        \"posy\" : 0,\n",
    "        \"posz\" : 0,\n",
    "        \"velx\" : 0,\n",
    "        \"vely\" : 0,\n",
    "        \"velz\" : 0,\n",
    "    }\n",
    "\n",
    "    # input\n",
    "    throttle_cmd = ca.SX.sym(\"throttle_cmd\")\n",
    "    u = ca.vertcat(throttle_cmd)\n",
    "\n",
    "\n",
    "    # force and moment\n",
    "    VT = ca.norm_2(ca.vertcat(velx,vely,velz))\n",
    "    q = 0.5 * rho * VT **2\n",
    "\n",
    "    # velx = (ax_b)*dt\n",
    "    ground = ca.if_else( posz<0,\n",
    "                        -posz * 15000 - velz * 15000,\n",
    "                        0)\n",
    "    D = cd * q * S\n",
    "    L = cl * q * S\n",
    "\n",
    "    fx_b = (thr_max*u[0]-velx) - D\n",
    "    ax_b = fx_b/m\n",
    "    fz_b = L - m *g +ground\n",
    "    az_b = fz_b/m\n",
    "    # velz = az_b *dt\n",
    "\n",
    "\n",
    "    # states derivative\n",
    "    posx_dot = velx #ax_b * dt\n",
    "    posy_dot = vely\n",
    "    posz_dot = velz #az_b *dt\n",
    "    velx_dot = ax_b\n",
    "    vely_dot = 0 #assume no slip\n",
    "    velz_dot = az_b\n",
    "    xdot = ca.vertcat(posx_dot, posy_dot, posz_dot, velx_dot, vely_dot, velz_dot)\n",
    "\n",
    "\n",
    "    # algebraic (these algebraic expressions are used during the simulation)\n",
    "    z = ca.vertcat()\n",
    "    alg = z\n",
    "\n",
    "\n",
    "    f = ca.Function(\"f\", [x, u, p], [xdot], [\"x\", \"u\", \"p\"], [\"xdot\"])\n",
    "\n",
    "    dae = {\"x\": x, \"ode\": f(x, u, p), \"p\": p, \"u\": u, \"z\": z, \"alg\": alg}\n",
    "\n",
    "    return locals()\n"
   ]
  },
  {
   "cell_type": "code",
   "execution_count": 62,
   "metadata": {},
   "outputs": [],
   "source": [
    "pnew = [1, 0.1, 1.8, 1, 0, 1.225, 9.8] # [m cl S] \n",
    "unew = [1] #throttle\n",
    "\n",
    "model = derive_model()\n"
   ]
  },
  {
   "cell_type": "code",
   "execution_count": 63,
   "metadata": {},
   "outputs": [
    {
     "data": {
      "text/plain": [
       "DM([0.900005, -2.34e-23, -4.12985e-05, 0.999954, -2.34004e-23, -2.4035e-05])"
      ]
     },
     "execution_count": 63,
     "metadata": {},
     "output_type": "execute_result"
    }
   ],
   "source": [
    "F = ca.integrator('F', 'idas', model[\"dae\"])\n",
    "res = F(x0=[0,0,0,0,0,0], z0=0, u=[1], p=pnew)\n",
    "res[\"xf\"]"
   ]
  },
  {
   "cell_type": "code",
   "execution_count": 64,
   "metadata": {},
   "outputs": [
    {
     "data": {
      "text/plain": [
       "DM([1.49998, 3.74014e-21, -3.65612e-05, 1.00023, 6.32056e-21, -2.87724e-05])"
      ]
     },
     "execution_count": 64,
     "metadata": {},
     "output_type": "execute_result"
    }
   ],
   "source": [
    "F = ca.integrator('F', 'idas', model[\"dae\"], 0,1)\n",
    "res = F(x0=[0,0,0,6,0,2], z0=0, u=[1], p=pnew)\n",
    "res[\"xf\"]"
   ]
  },
  {
   "cell_type": "code",
   "execution_count": 65,
   "metadata": {},
   "outputs": [
    {
     "data": {
      "text/plain": [
       "casadi.casadi.DM"
      ]
     },
     "execution_count": 65,
     "metadata": {},
     "output_type": "execute_result"
    }
   ],
   "source": [
    "type(res[\"xf\"])"
   ]
  },
  {
   "cell_type": "code",
   "execution_count": 66,
   "metadata": {},
   "outputs": [
    {
     "data": {
      "text/plain": [
       "array([ 1.49997716e+00,  3.74013776e-21, -3.65611610e-05,  1.00022843e+00,\n",
       "        6.32055546e-21, -2.87723642e-05])"
      ]
     },
     "execution_count": 66,
     "metadata": {},
     "output_type": "execute_result"
    }
   ],
   "source": [
    "import numpy as np\n",
    "np.array(res[\"xf\"]).reshape(-1)"
   ]
  },
  {
   "cell_type": "code",
   "execution_count": 101,
   "metadata": {},
   "outputs": [],
   "source": [
    "def derive_model():\n",
    "    # p, parameters\n",
    "    thr_max = ca.SX.sym(\"thr_max\")\n",
    "    m = ca.SX.sym(\"m\")\n",
    "    cl = ca.SX.sym(\"cl\")\n",
    "    cd = ca.SX.sym(\"cd\")\n",
    "    S = ca.SX.sym(\"S\")\n",
    "    rho = ca.SX.sym(\"rho\")\n",
    "    g = ca.SX.sym(\"g\")\n",
    "    Jx = ca.SX.sym(\"Jx\")\n",
    "    Jy = ca.SX.sym(\"Jy\")\n",
    "    Jz = ca.SX.sym(\"Jz\")\n",
    "    J = ca.diag(ca.vertcat(Jx, Jy, Jz))\n",
    "    Cl_p = ca.SX.sym(\"Cl_p\")\n",
    "    Cm_q = ca.SX.sym(\"Cm_q\")\n",
    "    Cn_r = ca.SX.sym(\"Cn_r\")\n",
    "    p= ca.vertcat(\n",
    "        thr_max,\n",
    "        m,\n",
    "        cl,\n",
    "        cd,\n",
    "        S,\n",
    "        rho,\n",
    "        g,\n",
    "        Jx,\n",
    "        Jy,\n",
    "        Jz,\n",
    "        Cl_p,\n",
    "        Cm_q,\n",
    "        Cn_r,\n",
    "    )\n",
    "    p_defaults = {\n",
    "        \"thr_max\" : 1.0,\n",
    "        \"m\" : 0.2,\n",
    "        \"cl\": 3.5,\n",
    "        \"cd\" : 0.0,\n",
    "        \"S\":1.0,\n",
    "        \"rho\": 1.225,\n",
    "        \"g\": 9.8,\n",
    "        'Jx': 0.0217,\n",
    "        'Jy': 0.0217,\n",
    "        \"Jz\" : 0.04,\n",
    "        \"Cl_p\": 0,\n",
    "        \"Cm_q\": 0,\n",
    "        \"Cn_r\": 0,\n",
    "    }\n",
    "\n",
    "    # states\n",
    "    # # x, state\n",
    "    # posx = ca.SX.sym(\"posx\")\n",
    "    # posy = ca.SX.sym(\"posy\")\n",
    "    # posz = ca.SX.sym(\"posz\")\n",
    "    # velx = ca.SX.sym(\"velx\")\n",
    "    # vely = ca.SX.sym(\"vely\")\n",
    "    # velz = ca.SX.sym(\"velz\")\n",
    "\n",
    "    position_w = ca.SX.sym(\"position_w\",3) # w = world frame\n",
    "    velocity_b = ca.SX.sym(\"velocity_b\",3)\n",
    "    quat_wb = ca.SX.sym(\"quat_b\",4) # Quaternion world - body frame\n",
    "    # quad_w = ca.SX.sym(\"quad_w\",4)\n",
    "    omega_wb_b = ca.SX.sym(\"omega_wb_b\",3)\n",
    "    # quat_bn = ca.SX.sym(\"quat_bn\",4) # Quaternion body - wind frame\n",
    "    # omega_bn_b = ca.SX.sym(\"omega_bn\", 3) #omega body-wind\n",
    "\n",
    "    x = ca.vertcat(\n",
    "        position_w,\n",
    "        velocity_b,\n",
    "        quat_wb,\n",
    "        omega_wb_b,\n",
    "        # quat_bn,\n",
    "        # omega_bn_b ,\n",
    "        )\n",
    "    x0_defaults = {\n",
    "        \"position_w_0\" : 0,\n",
    "        \"position_w_1\" : 0,\n",
    "        \"position_w_2\" : 0,\n",
    "        \"velocity_b_0\" : 0.001,\n",
    "        \"velocity_b_1\" : 0.001,\n",
    "        \"velocity_b_2\" : 0.001,\n",
    "        \"quat_wb_0\" : 1,\n",
    "        \"quat_wb_1\" : 0,\n",
    "        \"quat_wb_2\" : 0,\n",
    "        \"quat_wb_3\" : 0,\n",
    "        \"omega_wb_b_0\" : 0,\n",
    "        \"omega_wb_b_1\" : 0,\n",
    "        \"omega_wb_b_2\" : 0,\n",
    "        # \"quat_bn_0\" : 0,\n",
    "        # \"quat_bn_1\" : 0,\n",
    "        # \"quat_bn_2\" : 0,\n",
    "        # \"quat_bn_3\" : 0,\n",
    "        # \"omega_bn_b_0\" : 0,\n",
    "        # \"omega_bn_b_1\" : 0,\n",
    "        # \"omega_bn_b_2\" : 0,\n",
    "    }\n",
    "\n",
    "    # input\n",
    "    throttle_cmd = ca.SX.sym(\"throttle_cmd\")\n",
    "    elev_cmd = ca.SX.sym(\"elev_cmd\")\n",
    "\n",
    "    u = ca.vertcat(throttle_cmd, elev_cmd)\n",
    "\n",
    "\n",
    "    # Defining frames\n",
    "    # code this, recheck in stewen and lewis\n",
    "   # alpha = atan(vel_b_z/vel_b_x)\n",
    "   # beta = y/atan(posy/posx)\n",
    "   # test =lie.SO3EulerB321.elem(ca.vertcat(beta,-alpha,0))\n",
    "    # q_bn = lie.SO3Quat.from_Euler(test)  #body to wind\n",
    "    # fn = ca.vert(L ,sideforce,drag) #n is wind frame\n",
    "    # fb= q_bn@fn #force in body frame\n",
    "\n",
    "    # idea:calculate alpha and beta based on stephen and lewis\n",
    "    # quat --> world to body\n",
    "    # Quat --> body to wind\n",
    "    xAxis = ca.vertcat(1, 0, 0)\n",
    "    yAxis = ca.vertcat(0, 1, 0)\n",
    "    zAxis = ca.vertcat(0, 0, 1)\n",
    "\n",
    "\n",
    "    # VT = ca.norm_2(ca.vertcat(velocity_b[0],velocity_b[1],velocity_b[2]))\n",
    "    V_b = ca.norm_2(velocity_b)\n",
    "    alpha = ca.atan(velocity_b[2]/velocity_b[0])\n",
    "    beta = ca.asin(velocity_b[1]/V_b) #RECHECK\n",
    "    euler_n = lie.SO3EulerB321.elem(ca.vertcat(beta, -alpha, 0)) # Euler elements for wind frame\n",
    "    quat_bn = lie.SO3Quat.from_Euler(euler_n)\n",
    "\n",
    "    quat_wb = lie.SO3Quat.elem(quat_wb)\n",
    "    quat_bw = quat_wb.inverse()\n",
    "    P = omega_wb_b[0]\n",
    "    Q = omega_wb_b[1]\n",
    "    R = omega_wb_b[2]\n",
    "\n",
    "\n",
    "    # force and moment\n",
    "    qbar = 0.5 * rho * velocity_b[0]**2# VT **2 # TODO velocity should be in wind frame\n",
    "\n",
    "    # velx = (ax_b)*dt\n",
    "    ground = ca.if_else(position_w[2]<0,\n",
    "                        -position_w[2] * 150 - velocity_b[2] * 150,\n",
    "                        0)\n",
    "    D = cd * qbar * S\n",
    "    L = cl * qbar * S\n",
    "\n",
    "    fx_b = (thr_max*u[0]-velocity_b[0]) - D\n",
    "    ax_b = fx_b/m\n",
    "    fz_b = L - m *g +ground\n",
    "    az_b = fz_b/m\n",
    "\n",
    "    Fs = 0 #side force\n",
    "    F_n = ca.vertcat(L, Fs, D) #force in wind frame (n)\n",
    "    F_b = quat_bn@F_n # Aerodynamic force from wind\n",
    "\n",
    "    F_b += quat_bw @ (-m * g * zAxis) # gravity\n",
    "\n",
    "    # #Angle\n",
    "    # e = SO3EulerB321.elem(ca.SX.sym(\"e\",3))\n",
    "    # qw = SO3Quat.from_Euler(e).param #param gets array\n",
    "\n",
    "\n",
    "\n",
    "    # Moment\n",
    "    M_b = ca.vertcat(0, 0, 0)\n",
    "    Cl = Cl_p * P  # rolling moment\n",
    "    Cm = Cm_q * Q  # pitching moment\n",
    "    Cn = Cn_r * R  # yawing moment\n",
    "    Fi_b = fx_b * xAxis #thrust\n",
    "    Mi_b = ca.vertcat(Cl, Cm, Cn) * S # aerodynamic moment in body frame\n",
    "    F_b += Fi_b\n",
    "    M_b += Mi_b\n",
    "\n",
    "    # # kinematics TODO ADD THIS\n",
    "    derivative_omega_wb_b = ca.inv(J) @ (M_b - ca.cross(omega_wb_b, J @ omega_wb_b))\n",
    "    derivative_quaternion_wb = quat_wb.right_jacobian() @ omega_wb_b\n",
    "    derivative_position_w = quat_wb @ velocity_b\n",
    "    derivative_velocity_b = F_b / m - ca.cross(omega_wb_b, velocity_b)\n",
    "    # derivative_omega_bn_b = ca.inv(J) @ (M_b - ca.cross(omega_bn_b, J @ omega_bn_b))\n",
    "    # derivative_quaternion_bn = quat_bn.right_jacobian() @ omega_bn_b\n",
    "\n",
    "\n",
    "\n",
    "\n",
    "    # # states derivative\n",
    "    # posx_dot = velocity_b[0] #ax_b * dt\n",
    "    # posy_dot = velocity_b[1]\n",
    "    # posz_dot = velocity_b[2] #az_b *dt\n",
    "    # velx_dot = ax_b\n",
    "    # vely_dot = 0 #assume no slip\n",
    "    # velz_dot = az_b\n",
    "    # xdot = ca.vertcat(posx_dot, posy_dot, posz_dot, velx_dot, vely_dot, velz_dot)\n",
    "\n",
    "    # state derivative vector\n",
    "    xdot = ca.vertcat(\n",
    "        derivative_position_w,\n",
    "        derivative_velocity_b,\n",
    "        derivative_quaternion_wb,\n",
    "        derivative_omega_wb_b,\n",
    "        # derivative_quaternion_bn,\n",
    "        # derivative_omega_bn_b,\n",
    "    )\n",
    "\n",
    "\n",
    "    # algebraic (these algebraic expressions are used during the simulation)\n",
    "    z = ca.vertcat()\n",
    "    alg = z\n",
    "\n",
    "\n",
    "    f = ca.Function(\"f\", [x, u, p], [xdot], [\"x\", \"u\", \"p\"], [\"xdot\"])\n",
    "\n",
    "    dae = {\"x\": x, \"ode\": f(x, u, p), \"p\": p, \"u\": u, \"z\": z, \"alg\": alg}\n",
    "\n",
    "    return locals()"
   ]
  },
  {
   "cell_type": "code",
   "execution_count": 102,
   "metadata": {},
   "outputs": [],
   "source": [
    "model = derive_model()\n",
    "x0_dict = model[\"x0_defaults\"]\n",
    "state = np.array(list(x0_dict.values()),dtype=float)\n",
    "p_dict = model[\"p_defaults\"]\n",
    "p = np.array(list(p_dict.values()), dtype=float)"
   ]
  },
  {
   "cell_type": "code",
   "execution_count": 103,
   "metadata": {},
   "outputs": [
    {
     "data": {
      "text/plain": [
       "array([1.    , 0.2   , 3.5   , 0.    , 1.    , 1.225 , 9.8   , 0.0217,\n",
       "       0.0217, 0.04  , 0.    , 0.    , 0.    ])"
      ]
     },
     "execution_count": 103,
     "metadata": {},
     "output_type": "execute_result"
    }
   ],
   "source": [
    "state\n",
    "p"
   ]
  },
  {
   "cell_type": "code",
   "execution_count": 104,
   "metadata": {},
   "outputs": [],
   "source": [
    "# model[\"F_b\"]"
   ]
  },
  {
   "cell_type": "code",
   "execution_count": 105,
   "metadata": {},
   "outputs": [
    {
     "data": {
      "text/plain": [
       "DM([0.00100304, 0.00100206, 0.00100367, 0.00898664, 0.0110795, 0.00999399, 0.984823, 0.110405, 0.118448, 0.0624931, 4.27121, 4.91809, 2.5])"
      ]
     },
     "execution_count": 105,
     "metadata": {},
     "output_type": "execute_result"
    }
   ],
   "source": [
    "unew = [1,0] #throttle\n",
    "\n",
    "F = ca.integrator('F', 'idas', model[\"dae\"], 0, 0.1)\n",
    "res = F(x0=state, z0=0, u=[0.6,0.6], p=p)\n",
    "res[\"xf\"]"
   ]
  },
  {
   "cell_type": "code",
   "execution_count": 98,
   "metadata": {},
   "outputs": [
    {
     "data": {
      "text/plain": [
       "Function(F:(x0[13],z0[0],p[13],u[2],adj_xf[],adj_zf[],adj_qf[])->(xf[13],zf[0],qf[0],adj_x0[],adj_z0[],adj_p[],adj_u[]) IdasInterface)"
      ]
     },
     "execution_count": 98,
     "metadata": {},
     "output_type": "execute_result"
    }
   ],
   "source": [
    "F"
   ]
  },
  {
   "cell_type": "code",
   "execution_count": 84,
   "metadata": {},
   "outputs": [
    {
     "name": "stderr",
     "output_type": "stream",
     "text": [
      "CasADi - 2024-10-24 13:27:17 WARNING(\"F:daeF failed: NaN detected for output ode, at (row 3, col 0).\") [.../casadi/core/oracle_function.cpp:393]\n",
      "The residual function failed at the first call. \n"
     ]
    },
    {
     "ename": "RuntimeError",
     "evalue": "Error in Function::call for 'F' [IdasInterface] at .../casadi/core/function.cpp:1432:\nError in Function::call for 'F' [IdasInterface] at .../casadi/core/function.cpp:361:\n.../casadi/interfaces/sundials/idas_interface.cpp:596: IDACalcIC returned \"IDA_FIRST_RES_FAIL\". Consult IDAS documentation.",
     "output_type": "error",
     "traceback": [
      "\u001b[0;31m---------------------------------------------------------------------------\u001b[0m",
      "\u001b[0;31mRuntimeError\u001b[0m                              Traceback (most recent call last)",
      "\u001b[0;32m/tmp/ipykernel_32732/4259530600.py\u001b[0m in \u001b[0;36m?\u001b[0;34m()\u001b[0m\n\u001b[0;32m----> 1\u001b[0;31m \u001b[0mF\u001b[0m\u001b[0;34m(\u001b[0m\u001b[0mx0\u001b[0m\u001b[0;34m=\u001b[0m\u001b[0mstate\u001b[0m\u001b[0;34m,\u001b[0m \u001b[0mz0\u001b[0m\u001b[0;34m=\u001b[0m\u001b[0;36m0\u001b[0m\u001b[0;34m,\u001b[0m \u001b[0mp\u001b[0m\u001b[0;34m=\u001b[0m\u001b[0mp\u001b[0m\u001b[0;34m,\u001b[0m \u001b[0mu\u001b[0m\u001b[0;34m=\u001b[0m\u001b[0mca\u001b[0m\u001b[0;34m.\u001b[0m\u001b[0mvertcat\u001b[0m\u001b[0;34m(\u001b[0m\u001b[0;36m0\u001b[0m\u001b[0;34m,\u001b[0m\u001b[0;36m0\u001b[0m\u001b[0;34m)\u001b[0m\u001b[0;34m)\u001b[0m\u001b[0;34m\u001b[0m\u001b[0;34m\u001b[0m\u001b[0m\n\u001b[0m",
      "\u001b[0;32m~/anaconda3/envs/fixedwing/lib/python3.12/site-packages/casadi/casadi.py\u001b[0m in \u001b[0;36m?\u001b[0;34m(self, *args, **kwargs)\u001b[0m\n\u001b[1;32m  23527\u001b[0m         \u001b[0;32melse\u001b[0m\u001b[0;34m:\u001b[0m\u001b[0;34m\u001b[0m\u001b[0;34m\u001b[0m\u001b[0m\n\u001b[1;32m  23528\u001b[0m           \u001b[0;32mreturn\u001b[0m \u001b[0mtuple\u001b[0m\u001b[0;34m(\u001b[0m\u001b[0mret\u001b[0m\u001b[0;34m)\u001b[0m\u001b[0;34m\u001b[0m\u001b[0;34m\u001b[0m\u001b[0m\n\u001b[1;32m  23529\u001b[0m       \u001b[0;32melse\u001b[0m\u001b[0;34m:\u001b[0m\u001b[0;34m\u001b[0m\u001b[0;34m\u001b[0m\u001b[0m\n\u001b[1;32m  23530\u001b[0m     \u001b[0;31m# Named inputs -> return dictionary\u001b[0m\u001b[0;34m\u001b[0m\u001b[0;34m\u001b[0m\u001b[0m\n\u001b[0;32m> 23531\u001b[0;31m         \u001b[0;32mreturn\u001b[0m \u001b[0mself\u001b[0m\u001b[0;34m.\u001b[0m\u001b[0mcall\u001b[0m\u001b[0;34m(\u001b[0m\u001b[0mkwargs\u001b[0m\u001b[0;34m)\u001b[0m\u001b[0;34m\u001b[0m\u001b[0;34m\u001b[0m\u001b[0m\n\u001b[0m",
      "\u001b[0;32m~/anaconda3/envs/fixedwing/lib/python3.12/site-packages/casadi/casadi.py\u001b[0m in \u001b[0;36m?\u001b[0;34m(self, *args)\u001b[0m\n\u001b[1;32m  20176\u001b[0m \u001b[0;34m\u001b[0m\u001b[0m\n\u001b[1;32m  20177\u001b[0m \u001b[0;34m\u001b[0m\u001b[0m\n\u001b[1;32m  20178\u001b[0m \u001b[0;34m\u001b[0m\u001b[0m\n\u001b[1;32m  20179\u001b[0m         \"\"\"\n\u001b[0;32m> 20180\u001b[0;31m         \u001b[0;32mreturn\u001b[0m \u001b[0m_casadi\u001b[0m\u001b[0;34m.\u001b[0m\u001b[0mFunction_call\u001b[0m\u001b[0;34m(\u001b[0m\u001b[0mself\u001b[0m\u001b[0;34m,\u001b[0m \u001b[0;34m*\u001b[0m\u001b[0margs\u001b[0m\u001b[0;34m)\u001b[0m\u001b[0;34m\u001b[0m\u001b[0;34m\u001b[0m\u001b[0m\n\u001b[0m",
      "\u001b[0;31mRuntimeError\u001b[0m: Error in Function::call for 'F' [IdasInterface] at .../casadi/core/function.cpp:1432:\nError in Function::call for 'F' [IdasInterface] at .../casadi/core/function.cpp:361:\n.../casadi/interfaces/sundials/idas_interface.cpp:596: IDACalcIC returned \"IDA_FIRST_RES_FAIL\". Consult IDAS documentation."
     ]
    }
   ],
   "source": [
    "F(x0=state, z0=0, p=p, u=ca.vertcat(0,0))\n"
   ]
  },
  {
   "cell_type": "code",
   "execution_count": null,
   "metadata": {},
   "outputs": [],
   "source": []
  }
 ],
 "metadata": {
  "kernelspec": {
   "display_name": "fixedwing",
   "language": "python",
   "name": "python3"
  },
  "language_info": {
   "codemirror_mode": {
    "name": "ipython",
    "version": 3
   },
   "file_extension": ".py",
   "mimetype": "text/x-python",
   "name": "python",
   "nbconvert_exporter": "python",
   "pygments_lexer": "ipython3",
   "version": "3.12.5"
  }
 },
 "nbformat": 4,
 "nbformat_minor": 2
}
