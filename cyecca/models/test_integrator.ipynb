{
 "cells": [
  {
   "cell_type": "code",
   "execution_count": 116,
   "metadata": {},
   "outputs": [],
   "source": [
    "import casadi as ca"
   ]
  },
  {
   "cell_type": "code",
   "execution_count": 135,
   "metadata": {},
   "outputs": [],
   "source": [
    "def derive_model(dt):\n",
    "    # p, parameters\n",
    "    thr_max = ca.SX.sym(\"thr_max\")\n",
    "    m = ca.SX.sym(\"m\")\n",
    "    cl = ca.SX.sym(\"cl\")\n",
    "    S = ca.SX.sym(\"S\")\n",
    "    rho = ca.SX.sym(\"rho\")\n",
    "    g = ca.SX.sym(\"g\")\n",
    "\n",
    "    p= ca.vertcat(\n",
    "        thr_max,\n",
    "        m,\n",
    "        cl,\n",
    "        S,\n",
    "        rho,\n",
    "        g\n",
    "    )\n",
    "\n",
    "    # states\n",
    "    # x, state\n",
    "    posx = ca.SX.sym(\"posx\")\n",
    "    velx = ca.SX.sym(\"velx\")\n",
    "    x = ca.vertcat(posx,velx)\n",
    "\n",
    "    # input\n",
    "    throttle_cmd = ca.SX.sym(\"throttle_cmd\")\n",
    "    u = ca.vertcat(throttle_cmd)\n",
    "\n",
    "\n",
    "    # force and moment\n",
    "    fx_b = thr_max*u[0]-velx\n",
    "    ax_b = fx_b/m\n",
    "    velx = (ax_b)*dt\n",
    "\n",
    "    # states derivative\n",
    "    posx_dot = velx\n",
    "    velx_dot = ax_b\n",
    "    xdot = ca.vertcat(posx_dot,velx_dot)\n",
    "\n",
    "\n",
    "    # algebraic (these algebraic expressions are used during the simulation)\n",
    "    z = ca.vertcat()\n",
    "    alg = z\n",
    "\n",
    "\n",
    "    f = ca.Function(\"f\", [x, u, p], [xdot], [\"x\", \"u\", \"p\"], [\"xdot\"])\n",
    "\n",
    "    dae = {\"x\": x, \"ode\": f(x, u, p), \"p\": p, \"u\": u, \"z\": z, \"alg\": alg}\n",
    "\n",
    "    return locals()"
   ]
  },
  {
   "cell_type": "code",
   "execution_count": 136,
   "metadata": {},
   "outputs": [],
   "source": [
    "pnew = [1, 0.1, 1.8, 1, 1.225, 9.8] # [m cl S] \n",
    "unew = [1] #throttle\n",
    "\n",
    "model = derive_model(0.1)\n"
   ]
  },
  {
   "cell_type": "code",
   "execution_count": 137,
   "metadata": {},
   "outputs": [
    {
     "data": {
      "text/plain": [
       "DM([3.9, 4.54042e-05])"
      ]
     },
     "execution_count": 137,
     "metadata": {},
     "output_type": "execute_result"
    }
   ],
   "source": [
    "F = ca.integrator('F', 'idas', model[\"dae\"])\n",
    "res = F(x0=[4,1], z0=0, u=[0], p=pnew)\n",
    "res[\"xf\"]"
   ]
  },
  {
   "cell_type": "code",
   "execution_count": 138,
   "metadata": {},
   "outputs": [
    {
     "data": {
      "text/plain": [
       "DM([1.95, 0.500023])"
      ]
     },
     "execution_count": 138,
     "metadata": {},
     "output_type": "execute_result"
    }
   ],
   "source": [
    "F = ca.integrator('F', 'idas', model[\"dae\"], 0,1)\n",
    "res = F(x0=[2,1], z0=0, u=[0.5], p=pnew)\n",
    "res[\"xf\"]"
   ]
  },
  {
   "cell_type": "code",
   "execution_count": 123,
   "metadata": {},
   "outputs": [
    {
     "data": {
      "text/plain": [
       "casadi.casadi.DM"
      ]
     },
     "execution_count": 123,
     "metadata": {},
     "output_type": "execute_result"
    }
   ],
   "source": [
    "type(res[\"xf\"])"
   ]
  },
  {
   "cell_type": "code",
   "execution_count": 142,
   "metadata": {},
   "outputs": [
    {
     "data": {
      "text/plain": [
       "array([1.95000226, 0.50002259])"
      ]
     },
     "execution_count": 142,
     "metadata": {},
     "output_type": "execute_result"
    }
   ],
   "source": [
    "import numpy as np\n",
    "np.array(res[\"xf\"]).reshape(-1)"
   ]
  },
  {
   "cell_type": "code",
   "execution_count": null,
   "metadata": {},
   "outputs": [],
   "source": []
  }
 ],
 "metadata": {
  "kernelspec": {
   "display_name": "fixedwing",
   "language": "python",
   "name": "python3"
  },
  "language_info": {
   "codemirror_mode": {
    "name": "ipython",
    "version": 3
   },
   "file_extension": ".py",
   "mimetype": "text/x-python",
   "name": "python",
   "nbconvert_exporter": "python",
   "pygments_lexer": "ipython3",
   "version": "3.12.5"
  }
 },
 "nbformat": 4,
 "nbformat_minor": 2
}
