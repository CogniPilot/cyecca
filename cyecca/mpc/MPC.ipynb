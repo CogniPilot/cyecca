{
 "cells": [
  {
   "cell_type": "code",
   "execution_count": 65,
   "id": "49d33c5c-9fdb-4301-846a-8b4630e0d358",
   "metadata": {
    "tags": []
   },
   "outputs": [],
   "source": [
    "import casadi as ca\n",
    "import matplotlib.pyplot as plt\n",
    "import numpy as np\n",
    "\n",
    "\n",
    "def R1(theta):\n",
    "    return ca.vertcat(\n",
    "        ca.horzcat(1, 0, 0),\n",
    "        ca.horzcat(0, ca.cos(theta), ca.sin(theta)),\n",
    "        ca.horzcat(0, -ca.sin(theta), ca.cos(theta)),\n",
    "    )\n",
    "\n",
    "\n",
    "def R2(theta):\n",
    "    return ca.vertcat(\n",
    "        ca.horzcat(ca.cos(theta), 0, -ca.sin(theta)),\n",
    "        ca.horzcat(0, 1, 0),\n",
    "        ca.horzcat(ca.sin(theta), 0, ca.cos(theta)),\n",
    "    )\n",
    "\n",
    "\n",
    "def R3(theta):\n",
    "    return ca.vertcat(\n",
    "        ca.horzcat(ca.cos(theta), ca.sin(theta), 0),\n",
    "        ca.horzcat(-ca.sin(theta), ca.cos(theta), 0),\n",
    "        ca.horzcat(0, 0, 1),\n",
    "    );"
   ]
  },
  {
   "cell_type": "code",
   "execution_count": 73,
   "id": "eb393d69-0552-4cd9-8a68-0b5104bd89d3",
   "metadata": {
    "tags": []
   },
   "outputs": [
    {
     "data": {
      "image/png": "[encoded data removed]",
      "text/plain": [
       "<Figure size 640x480 with 1 Axes>"
      ]
     },
     "metadata": {},
     "output_type": "display_data"
    }
   ],
   "source": [
    "# input\n",
    "thr = ca.SX.sym(\"thr\")\n",
    "el = ca.SX.sym(\"el\")\n",
    "rdr = ca.SX.sym(\"rdr\")\n",
    "u_vect = ca.vertcat(thr, el, rdr)\n",
    "\n",
    "# state\n",
    "U = ca.SX.sym(\"U\")\n",
    "V = ca.SX.sym(\"V\")\n",
    "W = ca.SX.sym(\"W\")\n",
    "phi = ca.SX.sym(\"phi\")\n",
    "theta = ca.SX.sym(\"theta\")\n",
    "psi = ca.SX.sym(\"psi\")\n",
    "P = ca.SX.sym(\"P\")\n",
    "Q = ca.SX.sym(\"Q\")\n",
    "R = ca.SX.sym(\"R\")\n",
    "p_N = ca.SX.sym(\"p_N\")\n",
    "p_E = ca.SX.sym(\"p_E\")\n",
    "h = ca.SX.sym(\"h\")\n",
    "x_vect = ca.vertcat(U, V, W, phi, theta, psi, P, Q, R, p_N, p_E, h)\n",
    "\n",
    "# parameters\n",
    "g = ca.SX.sym(\"g\")\n",
    "J_x = ca.SX.sym(\"J_x\")\n",
    "J_y = ca.SX.sym(\"J_y\")\n",
    "J_z = ca.SX.sym(\"J_z\")\n",
    "J_xz = ca.SX.sym(\"J_xz\")\n",
    "m = ca.SX.sym(\"m\")\n",
    "rho = ca.SX.sym(\"rho\")\n",
    "CL_0 = ca.SX.sym(\"CL_0\")\n",
    "CL_a = ca.SX.sym(\"CL_a\")\n",
    "CD_0 = ca.SX.sym(\"CD_0\")\n",
    "k_CDCL = ca.SX.sym(\"k_CDCL\")\n",
    "S = ca.SX.sym(\"S\")\n",
    "p_vect = ca.vertcat(g, m, J_x, J_y, J_z, J_xz, CL_0, CL_a, CD_0, k_CDCL, S)\n",
    "\n",
    "p_dict = {\n",
    "    g: 9.8,\n",
    "    m: 0.1,\n",
    "    J_x: 0.01,\n",
    "    J_y: 0.01,\n",
    "    J_z: 0.01,\n",
    "    J_xz: 0,\n",
    "    CL_0: 0,\n",
    "    CL_a: 0,\n",
    "    CD_0: 0,\n",
    "    k_CDCL: 0.01,\n",
    "    S: 0.01,\n",
    "}\n",
    "\n",
    "# forces\n",
    "V_T = ca.norm_2(ca.vertcat(U, V, W))\n",
    "alpha = ca.if_else(ca.fabs(U) > 1e-2, ca.atan(W / U), 0)\n",
    "beta = ca.if_else(ca.fabs(V_T) > 1e-2, ca.asin(V / V_T), 0)\n",
    "\n",
    "Fx = 1\n",
    "Fy = 1\n",
    "Fz = 1\n",
    "\n",
    "# moments\n",
    "Mx = 1\n",
    "My = 1\n",
    "Mz = 1\n",
    "\n",
    "sin_theta = ca.sin(theta)\n",
    "cos_theta = ca.cos(theta)\n",
    "tan_theta = ca.tan(theta)\n",
    "\n",
    "sin_phi = ca.sin(phi)\n",
    "cos_phi = ca.cos(phi)\n",
    "\n",
    "# force equations\n",
    "U_dot = R * V - Q * W - g * sin_theta + Fx / m\n",
    "V_dot = -R * U + P * W + g * sin_phi * cos_theta + Fy / m\n",
    "W_dot = Q * U - P * V + g * cos_phi * cos_theta + Fz / m\n",
    "\n",
    "# kinematic equations\n",
    "phi_dot = P + tan_theta * (Q * sin_phi + R * cos_phi)\n",
    "theta_dot = Q * cos_phi - R * sin_phi\n",
    "psi_dot = (Q * sin_phi + R * cos_phi) / cos_theta\n",
    "\n",
    "# moment equations\n",
    "Gamma = J_x * J_z - J_xz**2\n",
    "c1 = ((J_y - J_z) * J_z - J_xz**2) / Gamma\n",
    "c2 = (J_x - J_y + J_z) * J_xz / Gamma\n",
    "c3 = J_z / Gamma\n",
    "c4 = J_xz / Gamma\n",
    "c5 = (J_z - J_x) / J_y\n",
    "c6 = J_xz / J_y\n",
    "c7 = 1 / J_y\n",
    "c8 = (J_x * (J_x - J_y) + J_xz**2) / Gamma\n",
    "c9 = J_x / Gamma\n",
    "P_dot = (c1 * R + c2 * P) * Q + c3 * Mx + c4 * Mz\n",
    "Q_dot = c5 * P * R - c6 * (P**2 - R**2) + c7 * My\n",
    "R_dot = (c8 * P - c2 * R) * Q + c4 * Mx + c9 * Mz\n",
    "\n",
    "# navigation equations\n",
    "R_nb = R1(phi) @ R2(theta) @ R3(psi)\n",
    "V_T_n = R_nb @ ca.vertcat(U, V, W)\n",
    "p_n_dot = V_T_n[0]\n",
    "p_e_dot = V_T_n[1]\n",
    "h_dot = V_T_n[2]\n",
    "\n",
    "x_dot_vect = ca.vertcat(\n",
    "    U_dot,\n",
    "    V_dot,\n",
    "    W_dot,\n",
    "    phi_dot,\n",
    "    theta_dot,\n",
    "    psi_dot,\n",
    "    P_dot,\n",
    "    Q_dot,\n",
    "    R_dot,\n",
    "    p_n_dot,\n",
    "    p_e_dot,\n",
    "    h_dot,\n",
    ")\n",
    "\n",
    "\n",
    "f = ca.Function(\"f\", [x_vect, u_vect, p_vect], [x_dot_vect])\n",
    "\n",
    "# output\n",
    "waypoints = np.array([[0, 1], [1, 1], [1, 0], [0, 0]])\n",
    "plt.plot(waypoints[:, 0], waypoints[:, 1], \"rx\")\n",
    "plt.grid()"
   ]
  },
  {
   "cell_type": "code",
   "execution_count": 70,
   "id": "6066c89c-be3a-4cdb-ab80-ca5742efbee0",
   "metadata": {
    "tags": []
   },
   "outputs": [
    {
     "data": {
      "text/plain": [
       "SX(@1=cos(theta), @2=cos(psi), @3=sin(phi), @4=sin(theta), @5=(@3*@4), @6=cos(phi), @7=sin(psi), @8=cos(phi), @9=(@8*@4), @10=sin(phi), @11=sin(psi), @12=cos(psi), @13=cos(theta), \n",
       "[[(@1*@2), (@1*@11), (-sin(theta))], \n",
       " [((@5*@2)-(@6*@7)), ((@5*@11)+(@6*@12)), (@3*@13)], \n",
       " [((@9*@2)+(@10*@7)), ((@9*@11)-(@10*@12)), (@8*@13)]])"
      ]
     },
     "execution_count": 70,
     "metadata": {},
     "output_type": "execute_result"
    }
   ],
   "source": [
    "R_nb"
   ]
  },
  {
   "cell_type": "code",
   "execution_count": null,
   "id": "6bc52817-42fe-4d13-b3e2-9710a4382080",
   "metadata": {},
   "outputs": [],
   "source": []
  }
 ],
 "metadata": {
  "kernelspec": {
   "display_name": "Python 3 (ipykernel)",
   "language": "python",
   "name": "python3"
  },
  "language_info": {
   "codemirror_mode": {
    "name": "ipython",
    "version": 3
   },
   "file_extension": ".py",
   "mimetype": "text/x-python",
   "name": "python",
   "nbconvert_exporter": "python",
   "pygments_lexer": "ipython3",
   "version": "3.12.3"
  }
 },
 "nbformat": 4,
 "nbformat_minor": 5
}
