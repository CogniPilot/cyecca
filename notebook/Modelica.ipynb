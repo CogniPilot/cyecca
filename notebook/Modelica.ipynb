{
 "cells": [
  {
   "cell_type": "code",
   "execution_count": 7,
   "id": "dd04f9e1-2c2b-4fd1-99cb-2f6419db87a4",
   "metadata": {
    "tags": []
   },
   "outputs": [
    {
     "name": "stdout",
     "output_type": "stream",
     "text": [
      "\n",
      "loadFile(getInstallationDirectoryPath() + \"/share/doc/omc/testmodels/BouncingBall.mo\"):\n",
      "True\n",
      "\n",
      "simulate(BouncingBall):\n",
      "{'resultFile': '/home/jgoppert/cognipilot/tools/src/cyecca/notebook/BouncingBall_res.mat', 'simulationOptions': \"startTime = 0.0, stopTime = 1.0, numberOfIntervals = 500, tolerance = 1e-06, method = 'dassl', fileNamePrefix = 'BouncingBall', options = '', outputFormat = 'mat', variableFilter = '.*', cflags = '', simflags = ''\", 'messages': 'LOG_SUCCESS       | info    | The initialization finished successfully without homotopy method.\\nLOG_SUCCESS       | info    | The simulation finished successfully.\\n', 'timeFrontend': 0.001650815, 'timeBackend': 0.00326506, 'timeSimCode': 0.001074534, 'timeTemplates': 0.004755474, 'timeCompile': 0.324725261, 'timeSimulation': 0.011475833, 'timeTotal': 0.347049901}\n",
      "\n",
      "plot(h):\n",
      "False\n"
     ]
    }
   ],
   "source": [
    "from OMPython import OMCSessionZMQ\n",
    "omc = OMCSessionZMQ()\n",
    "cmds = [\n",
    "  'loadFile(getInstallationDirectoryPath() + \"/share/doc/omc/testmodels/BouncingBall.mo\")',\n",
    "  \"simulate(BouncingBall)\",\n",
    "  \"plot(h)\"\n",
    "  ]\n",
    "for cmd in cmds:\n",
    "  answer = omc.sendExpression(cmd)\n",
    "  print(\"\\n{}:\\n{}\".format(cmd, answer))"
   ]
  },
  {
   "cell_type": "code",
   "execution_count": 5,
   "id": "da67b3c8-8d62-4fbe-8dfb-e61a98b03db5",
   "metadata": {
    "tags": []
   },
   "outputs": [
    {
     "data": {
      "text/plain": [
       "'OpenModelica 1.22.3'"
      ]
     },
     "execution_count": 5,
     "metadata": {},
     "output_type": "execute_result"
    }
   ],
   "source": [
    "omc.sendExpression(\"getVersion()\")"
   ]
  },
  {
   "cell_type": "code",
   "execution_count": null,
   "id": "917b0b63-c3dd-4ce7-8717-9edddeb4d784",
   "metadata": {},
   "outputs": [],
   "source": [
    "omc.sendExpression(\""
   ]
  }
 ],
 "metadata": {
  "kernelspec": {
   "display_name": "Python 3 (ipykernel)",
   "language": "python",
   "name": "python3"
  },
  "language_info": {
   "codemirror_mode": {
    "name": "ipython",
    "version": 3
   },
   "file_extension": ".py",
   "mimetype": "text/x-python",
   "name": "python",
   "nbconvert_exporter": "python",
   "pygments_lexer": "ipython3",
   "version": "3.10.12"
  }
 },
 "nbformat": 4,
 "nbformat_minor": 5
}
