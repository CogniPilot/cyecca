{
 "cells": [
  {
   "cell_type": "code",
   "execution_count": 1,
   "id": "7774d16e-c6a4-41e1-bcbd-6a98c31f15e1",
   "metadata": {
    "tags": []
   },
   "outputs": [
    {
     "data": {
      "text/plain": [
       "DM([0, 0, 0])"
      ]
     },
     "execution_count": 1,
     "metadata": {},
     "output_type": "execute_result"
    }
   ],
   "source": [
    "import casadi as ca\n",
    "import numpy as np\n",
    "import matplotlib.pyplot as plt\n",
    "from cyecca.lie.group_so3 import SO3Quat, SO3EulerB321, SO3Mrp, SO3Dcm\n",
    "\n",
    "# actual attitude, expressed as quaternion\n",
    "q = ca.SX.sym(\"q\", 4)\n",
    "X = SO3Quat.elem(q)\n",
    "\n",
    "# in auto level mode\n",
    "# user will input desired roll angle and desired pitch angel with\n",
    "# sticks, these desired angles will not approach roll/pitch = 90 deg\n",
    "# as the desired angles will be saturated\n",
    "yaw_r = ca.SX.sym(\"yaw_r\")\n",
    "pitch_r = ca.SX.sym(\"pitch_r\")\n",
    "roll_r = ca.SX.sym(\"roll_r\")\n",
    "R = SO3Quat.from_Euler(SO3EulerB321.elem(ca.vertcat(yaw_r, pitch_r, roll_r)))\n",
    "\n",
    "# the difference between vehicle attitudes will use Lie log map\n",
    "# to get the angular velocity to get between the current and\n",
    "# desired attitude in 1 sec, this will be used to drive the desired body\n",
    "# rates for the inner rate loop\n",
    "\n",
    "# Lie algebra\n",
    "omega = (X.inverse() * R).log()  # angular velocity to get to desired att in 1 sec\n",
    "# input to acro (rate loop)\n",
    "\n",
    "f_rot = ca.Function(\"f\", [q, yaw_r, pitch_r, roll_r], [omega.param])\n",
    "\n",
    "f_rot([1, 0, 0, 0], 0, 0, 0)"
   ]
  },
  {
   "cell_type": "code",
   "execution_count": 2,
   "id": "40c12ebe-7b28-416e-9c50-ee548393f0ba",
   "metadata": {
    "tags": []
   },
   "outputs": [
    {
     "data": {
      "text/plain": [
       "SO3QuatLieGroup: SX(@1=cos(yaw_r), @2=cos(pitch_r), @3=(@1*@2), @4=cos(yaw_r), @5=cos(roll_r), @6=sin(yaw_r), @7=sin(pitch_r), @8=(@6*@7), @9=sin(roll_r), @10=((@4*@5)+(@8*@9)), @11=cos(pitch_r), @12=cos(roll_r), @13=(@11*@12), @14=(0<((@3+@10)+@13)), @15=0.5, @16=1, @17=(@15*sqrt((((@16+@3)+@10)+@13))), @18=(!@14), @19=((@10<@3)&&(@13<@3)), @20=(@11*@9), @21=sin(roll_r), @22=((@8*@12)-(@4*@21)), @23=4, @24=(@15*sqrt((((@16+@3)-@10)-@13))), @25=(!@19), @26=(@13<@10), @27=sin(yaw_r), @28=(@1*@7), @29=((@27*@21)+(@28*@12)), @30=sin(pitch_r), @31=(@15*sqrt((((@16-@3)+@10)-@13))), @32=(!@26), @33=(@6*@2), @34=((@28*@9)-(@27*@5)), @35=(@15*sqrt((((@16-@3)-@10)+@13))), @36=((@14?@17:0)+(@18?((@19?((@20-@22)/(@23*@24)):0)+(@25?((@26?((@29+@30)/(@23*@31)):0)+(@32?((@33-@34)/(@23*@35)):0)):0)):0)), @37=((@14?((@20-@22)/(@23*@17)):0)+(@18?((@19?@24:0)+(@25?((@26?((@34+@33)/(@23*@31)):0)+(@32?((@29-@30)/(@23*@35)):0)):0)):0)), @38=((@14?((@29+@30)/(@23*@17)):0)+(@18?((@19?((@34+@33)/(@23*@24)):0)+(@25?((@26?@31:0)+(@32?((@22+@20)/(@23*@35)):0)):0)):0)), @39=((@14?((@33-@34)/(@23*@17)):0)+(@18?((@19?((@29-@30)/(@23*@24)):0)+(@25?((@26?((@22+@20)/(@23*@31)):0)+(@32?@35:0)):0)):0)), [((((q_0*@36)+(q_1*@37))+(q_2*@38))+(q_3*@39)), ((((q_0*@37)-(q_1*@36))+(q_3*@38))-(q_2*@39)), (((q_0*@38)-((q_2*@36)+(q_3*@37)))+(q_1*@39)), ((((q_2*@37)-(q_3*@36))-(q_1*@38))+(q_0*@39))])"
      ]
     },
     "execution_count": 2,
     "metadata": {},
     "output_type": "execute_result"
    }
   ],
   "source": [
    "(X.inverse() * R)"
   ]
  },
  {
   "cell_type": "code",
   "execution_count": 3,
   "id": "413643ad-5d5e-475a-a278-2584aed63d07",
   "metadata": {
    "tags": []
   },
   "outputs": [
    {
     "data": {
      "text/plain": [
       "<bound method LieGroupElement.inverse of SO3QuatLieGroup: SX([q_0, q_1, q_2, q_3])>"
      ]
     },
     "execution_count": 3,
     "metadata": {},
     "output_type": "execute_result"
    }
   ],
   "source": [
    "X.inverse"
   ]
  },
  {
   "cell_type": "code",
   "execution_count": 6,
   "id": "735ab1f0-a0f8-4bb0-aff4-c8bf2f9183c9",
   "metadata": {
    "tags": []
   },
   "outputs": [
    {
     "data": {
      "text/plain": [
       "[<matplotlib.lines.Line2D at 0x7f7a7eb41540>]"
      ]
     },
     "execution_count": 6,
     "metadata": {},
     "output_type": "execute_result"
    },
    {
     "data": {
      "image/png": "[encoded data removed]",
      "text/plain": [
       "<Figure size 640x480 with 1 Axes>"
      ]
     },
     "metadata": {},
     "output_type": "display_data"
    }
   ],
   "source": [
    "import casadi as ca\n",
    "import numpy as np\n",
    "import matplotlib.pyplot as plt\n",
    "from cyecca.lie.group_so3 import SO3Quat, SO3EulerB321, SO3Mrp, SO3Dcm\n",
    "\n",
    "yaw_r = ca.SX.sym(\"yaw_r\")\n",
    "# Group = SO3Dcm\n",
    "Group = SO3Quat\n",
    "# Group = SO3Mrp\n",
    "\n",
    "X = Group.from_Euler(SO3EulerB321.elem(ca.vertcat(0, 0, 0)))\n",
    "R = Group.from_Euler(SO3EulerB321.elem(ca.vertcat(yaw_r, 0, 0)))\n",
    "omega_norm = ca.norm_2((X.inverse() * R).log().param)\n",
    "f_omega_norm = ca.Function(\"f\", [yaw_r], [omega_norm])\n",
    "\n",
    "yaw_r = np.linspace(-2 * ca.pi, 2 * ca.pi, 10000)\n",
    "\n",
    "plt.plot(yaw_r, f_omega_norm(yaw_r))"
   ]
  },
  {
   "cell_type": "code",
   "execution_count": 36,
   "id": "d4515f39-9881-42a9-8bbc-6b81d1b345f7",
   "metadata": {
    "tags": []
   },
   "outputs": [
    {
     "data": {
      "text/plain": [
       "2.0943951023931953"
      ]
     },
     "execution_count": 36,
     "metadata": {},
     "output_type": "execute_result"
    }
   ],
   "source": [
    "np.pi * 2 / 3"
   ]
  },
  {
   "cell_type": "code",
   "execution_count": 13,
   "id": "a93e6d11-d253-4d15-a860-d48fa9b67d33",
   "metadata": {
    "tags": []
   },
   "outputs": [
    {
     "data": {
      "text/plain": [
       "SO3LieAlgebra: SX(@1=0, @2=cos(yaw_r), @3=cos(yaw_r), @4=1, @5=(@1<((@2+@3)+@4)), @6=(!@5), @7=(@1&&(@4<@2)), @8=(!@7), @9=(@4<@3), @10=nan, @11=sin(yaw_r), @12=sin(yaw_r), @13=4, @14=0.5, @15=(@14*sqrt((((@4+@2)+@3)+@4))), @16=(!@9), @17=(@14*sqrt((((@4-@2)-@3)+@4))), @18=((@5?((@11+@12)/(@13*@15)):0)+(@6?((@7?@10:0)+(@8?((@9?@10:0)+(@16?@17:0)):0)):0)), @19=sqrt(((@6?((@8?(@9?(@6?(@8?(@9?@10:0):0):0):0):0)+(@7?(@6?(@7?@10:0):0):0)):0)+sq(@18))), @20=(1e-10<fabs(@19)), @21=((@5?@15:0)+(@6?((@7?@10:0)+(@8?((@9?@10:0)+(@16?((@11+@12)/(@13*@17)):0)):0)):0)), @22=atan2(@19,@21), @23=(!@20), @24=sign(@21), @25=2, [((@20?((@6?(@8?(@9?(@10*@22):0):0):0)/@19):0)+(@23?(@6?(@8?(@9?(@10*@24):0):0):0):0)), ((@20?((@6?(@7?(@10*@22):0):0)/@19):0)+(@23?(@6?(@7?(@10*@24):0):0):0)), ((@20?(((@25*@18)*@22)/@19):0)+(@23?((@25*@18)*@24):0))])"
      ]
     },
     "execution_count": 13,
     "metadata": {},
     "output_type": "execute_result"
    }
   ],
   "source": [
    "omega = (X.inverse() * R).log()\n",
    "omega"
   ]
  },
  {
   "cell_type": "code",
   "execution_count": 40,
   "id": "ec0b9860-838e-4802-8394-206ca693c009",
   "metadata": {
    "tags": []
   },
   "outputs": [
    {
     "data": {
      "text/plain": [
       "SO3MrpLieGroup: SX([0.309505, 0.216318, -0.500216])"
      ]
     },
     "execution_count": 40,
     "metadata": {},
     "output_type": "execute_result"
    }
   ],
   "source": [
    "X = SO3Mrp.from_Euler(SO3EulerB321.elem(ca.vertcat(1, 2, 3)))"
   ]
  },
  {
   "cell_type": "code",
   "execution_count": null,
   "id": "7f84e451-80c9-4e36-ad16-da9dd55e75b5",
   "metadata": {},
   "outputs": [],
   "source": [
    "SO3"
   ]
  }
 ],
 "metadata": {
  "kernelspec": {
   "display_name": "Python 3 (ipykernel)",
   "language": "python",
   "name": "python3"
  },
  "language_info": {
   "codemirror_mode": {
    "name": "ipython",
    "version": 3
   },
   "file_extension": ".py",
   "mimetype": "text/x-python",
   "name": "python",
   "nbconvert_exporter": "python",
   "pygments_lexer": "ipython3",
   "version": "3.10.12"
  }
 },
 "nbformat": 4,
 "nbformat_minor": 5
}
