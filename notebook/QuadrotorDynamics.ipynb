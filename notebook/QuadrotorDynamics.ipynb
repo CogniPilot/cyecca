{
 "cells": [
  {
   "cell_type": "code",
   "execution_count": 2,
   "id": "95a46f00-d78c-41d5-8389-8979f6aea001",
   "metadata": {
    "tags": []
   },
   "outputs": [],
   "source": [
    "import casadi as ca\n",
    "from cyecca import lie"
   ]
  },
  {
   "cell_type": "code",
   "execution_count": 7,
   "id": "7cfed41d-4e59-493f-9e2a-8092fef942b4",
   "metadata": {},
   "outputs": [
    {
     "data": {
      "text/plain": [
       "SE23LieGroup: SX([x_0, x_1, x_2, x_3, x_4, x_5, x_6, x_7, x_8])"
      ]
     },
     "execution_count": 7,
     "metadata": {},
     "output_type": "execute_result"
    }
   ],
   "source": [
    "X = lie.SE23Mrp.elem(ca.SX.sym('x', 9))\n",
    "X"
   ]
  },
  {
   "cell_type": "code",
   "execution_count": 9,
   "id": "d08679ea-7868-4a9c-bd36-7cd441d01f5a",
   "metadata": {
    "tags": []
   },
   "outputs": [
    {
     "data": {
      "text/plain": [
       "SX(@1=1, @2=8, @3=((sq(x_6)+sq(x_7))+sq(x_8)), @4=sq((@1+@3)), @5=(4*(@1-@3)), \n",
       "[[(@1-((@2*(sq(x_8)+sq(x_7)))/@4)), (((@2*(x_6*x_7))-(@5*x_8))/@4), (((@2*(x_6*x_8))+(@5*x_7))/@4), x_3, x_0], \n",
       " [(((@2*(x_7*x_6))+(@5*x_8))/@4), (@1-((@2*(sq(x_8)+sq(x_6)))/@4)), (((@2*(x_7*x_8))-(@5*x_6))/@4), x_4, x_1], \n",
       " [(((@2*(x_8*x_6))-(@5*x_7))/@4), (((@2*(x_8*x_7))+(@5*x_6))/@4), (@1-((@2*(sq(x_7)+sq(x_6)))/@4)), x_5, x_2], \n",
       " [00, 00, 00, @1, 00], \n",
       " [00, 00, 00, 00, @1]])"
      ]
     },
     "execution_count": 9,
     "metadata": {},
     "output_type": "execute_result"
    }
   ],
   "source": [
    "X.to_Matrix()"
   ]
  },
  {
   "cell_type": "code",
   "execution_count": null,
   "id": "277fb34f-063b-4b37-8262-1ad62a37cd80",
   "metadata": {},
   "outputs": [],
   "source": []
  }
 ],
 "metadata": {
  "kernelspec": {
   "display_name": "Python 3 (ipykernel)",
   "language": "python",
   "name": "python3"
  },
  "language_info": {
   "codemirror_mode": {
    "name": "ipython",
    "version": 3
   },
   "file_extension": ".py",
   "mimetype": "text/x-python",
   "name": "python",
   "nbconvert_exporter": "python",
   "pygments_lexer": "ipython3",
   "version": "3.10.12"
  }
 },
 "nbformat": 4,
 "nbformat_minor": 5
}
