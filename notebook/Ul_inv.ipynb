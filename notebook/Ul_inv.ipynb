{
 "cells": [
  {
   "cell_type": "code",
   "execution_count": 139,
   "id": "6839da2c-5503-4e6f-a97d-7f4f168cb63c",
   "metadata": {
    "tags": []
   },
   "outputs": [],
   "source": [
    "import casadi as ca\n",
    "from cyecca import lie\n",
    "import math\n",
    "from cyecca.symbolic import taylor_series_near_zero\n",
    "import sympy\n",
    "import numpy as np\n"
   ]
  },
  {
   "cell_type": "code",
   "execution_count": 140,
   "id": "af8224ef-509f-426f-bbdd-17d30c640078",
   "metadata": {
    "tags": []
   },
   "outputs": [],
   "source": [
    "def derive_Ul_inv_closed_form():\n",
    "    x = ca.SX.sym('x', 9)\n",
    "    v = x[:3]\n",
    "    a = x[3:6]\n",
    "    r = x[6:]\n",
    "    theta = ca.norm_2(r)\n",
    "\n",
    "    A = lie.so3.elem(a).ad()\n",
    "    V = lie.so3.elem(v).ad()\n",
    "    Omega = lie.so3.elem(r).ad()\n",
    "    Omega_sq = Omega @ Omega\n",
    "    \n",
    "    th = sympy.symbols('th')\n",
    "    sin = sympy.sin\n",
    "    cos = sympy.cos\n",
    "    \n",
    "    c_theta = ca.cos(theta)\n",
    "    s_theta = ca.sin(theta)\n",
    "    \n",
    "    Coeff = ca.if_else(ca.fabs(theta) > 1e-3, \n",
    "        ca.vertcat(\n",
    "            (1 - c_theta)/theta**2,\n",
    "            (theta - s_theta)/theta**3,\n",
    "            (2 - 2*c_theta - theta*s_theta)/(2*theta**4),\n",
    "            (theta**2 + 2*c_theta - 2)/(2*theta**4),\n",
    "            (theta*c_theta + 2*theta - 3*s_theta)/(2*theta**5),\n",
    "            (theta**2 + theta*s_theta + 4*c_theta - 4)/(2*theta**6)),\n",
    "        ca.vertcat(\n",
    "            1/2 - theta**2/24 + theta**4/720,\n",
    "            1/6 - theta**2/120 + theta**4/5040,\n",
    "            1/24 - theta**2/360 + theta**4/13440,\n",
    "            1/24 - theta**2/720 + theta**4/40320,\n",
    "            1/120 - theta**2/2520 + theta**4/120960,\n",
    "            1/720 - theta**2/210600 + theta**4/1209600)\n",
    "        )\n",
    "    \n",
    "    R = ca.SX.eye(3) + Coeff[0] * Omega + Coeff[1] * Omega_sq\n",
    "    \n",
    "    C = A/2\n",
    "    C += Coeff[1] * (Omega@A + A@Omega)\n",
    "    C += Coeff[2] * (Omega@A@Omega)\n",
    "    C += Coeff[3] * (Omega_sq@A + A@Omega_sq)\n",
    "    C += Coeff[4] * (Omega_sq@A@Omega + Omega@A@Omega_sq)\n",
    "    C += Coeff[5] * (Omega_sq@A@Omega_sq)\n",
    "    \n",
    "    f_C = ca.Function('f_C', [r, a], [C])\n",
    "    \n",
    "    C_A = f_C(r, a)\n",
    "    C_V = f_C(r, v)\n",
    "\n",
    "    Z = ca.SX.zeros(3, 3)\n",
    "    Ul_inv = ca.sparsify(ca.vertcat(\n",
    "        ca.horzcat(R, Z, C_A),\n",
    "        ca.horzcat(Z, R, C_V),\n",
    "        ca.horzcat(Z, Z, R)))\n",
    "    return ca.Function('Ul_inv_closed_form', [x], [Ul_inv], ['x'], ['Ul_inv'])\n",
    "\n",
    "Ul_inv_cf = derive_Ul_inv_closed_form()"
   ]
  },
  {
   "cell_type": "code",
   "execution_count": 142,
   "id": "62153b57-c32f-42ab-9b51-81606c3d8a74",
   "metadata": {
    "tags": []
   },
   "outputs": [],
   "source": [
    "def derive_Ul_inv_series(n):\n",
    "    x = lie.se23.elem(ca.SX.sym('x', 9))\n",
    "    X = x.ad()\n",
    "    Ul_inv = ca.SX.zeros(9, 9)\n",
    "    #print(ca.mpower(X,  0))\n",
    "    for k in range(n):\n",
    "        Xp = ca.mpower(X,  k)\n",
    "        #print(k)\n",
    "        #print(Xp.sparsity().spy())\n",
    "        Ul_inv += Xp/math.factorial(k+1)\n",
    "    Ul_inv = ca.sparsify(Ul_inv)\n",
    "    return ca.Function('Ul_inv_series', [x.param], [Ul_inv])\n",
    "\n",
    "Ul_inv_series = derive_Ul_inv_series(10)"
   ]
  },
  {
   "cell_type": "code",
   "execution_count": 155,
   "id": "2158690b-c42b-4bda-855a-877ecda75d6d",
   "metadata": {
    "tags": []
   },
   "outputs": [],
   "source": [
    "x = lie.se23.elem(ca.DM([0.1, 0.2, 0.3, 0.4, 0.5, 0.6, 0.5, 0.6, 0.7]))"
   ]
  },
  {
   "cell_type": "code",
   "execution_count": 156,
   "id": "afe57f75-f44e-4fd4-b46a-a5e63cef2316",
   "metadata": {
    "tags": []
   },
   "outputs": [
    {
     "name": "stdout",
     "output_type": "stream",
     "text": [
      "158 µs ± 219 ns per loop (mean ± std. dev. of 7 runs, 10,000 loops each)\n"
     ]
    }
   ],
   "source": [
    "%%timeit\n",
    "Ul_inv_cf(x.param)"
   ]
  },
  {
   "cell_type": "code",
   "execution_count": 157,
   "id": "487fb6d3-56c3-4b6d-984a-315c8104def8",
   "metadata": {
    "tags": []
   },
   "outputs": [
    {
     "name": "stdout",
     "output_type": "stream",
     "text": [
      "861 µs ± 10.1 µs per loop (mean ± std. dev. of 7 runs, 1,000 loops each)\n"
     ]
    }
   ],
   "source": [
    "%%timeit\n",
    "Ul_inv_series(x.param)"
   ]
  },
  {
   "cell_type": "code",
   "execution_count": 158,
   "id": "adddc7be-f1f3-4678-97cf-7f1895d16d52",
   "metadata": {
    "tags": []
   },
   "outputs": [
    {
     "data": {
      "text/plain": [
       "array([[ 0.86592, -0.27175,  0.3287 ,  0.     ,  0.     ,  0.     , -0.21477, -0.15072,  0.27158],\n",
       "       [ 0.36639,  0.88328, -0.16166,  0.     ,  0.     ,  0.     ,  0.29657, -0.18483, -0.04084],\n",
       "       [-0.21828,  0.29416,  0.90378,  0.     ,  0.     ,  0.     , -0.09879,  0.2526 , -0.14886],\n",
       "       [ 0.     ,  0.     ,  0.     ,  0.86592, -0.27175,  0.3287 , -0.099  , -0.09272,  0.10611],\n",
       "       [ 0.     ,  0.     ,  0.     ,  0.36639,  0.88328, -0.16166,  0.13959, -0.07758,  0.01708],\n",
       "       [ 0.     ,  0.     ,  0.     , -0.21828,  0.29416,  0.90378, -0.04092,  0.07883, -0.04996],\n",
       "       [ 0.     ,  0.     ,  0.     ,  0.     ,  0.     ,  0.     ,  0.86592, -0.27175,  0.3287 ],\n",
       "       [ 0.     ,  0.     ,  0.     ,  0.     ,  0.     ,  0.     ,  0.36639,  0.88328, -0.16166],\n",
       "       [ 0.     ,  0.     ,  0.     ,  0.     ,  0.     ,  0.     , -0.21828,  0.29416,  0.90378]])"
      ]
     },
     "execution_count": 158,
     "metadata": {},
     "output_type": "execute_result"
    }
   ],
   "source": [
    "Ul_inv = np.array(ca.DM(Ul_inv_cf(x.param)))\n",
    "Ul_inv"
   ]
  },
  {
   "cell_type": "code",
   "execution_count": 159,
   "id": "95e74681-798f-41a3-8bb9-3f11a9b88f44",
   "metadata": {
    "tags": []
   },
   "outputs": [
    {
     "data": {
      "text/plain": [
       "DM(\n",
       "[[1, 0, -2.77556e-17], \n",
       " [-2.08167e-17, 1, 0], \n",
       " [-5.55112e-17, 5.55112e-17, 1]])"
      ]
     },
     "execution_count": 159,
     "metadata": {},
     "output_type": "execute_result"
    }
   ],
   "source": [
    "ca.inv(Ul_inv[:3,:3]) @ Ul_inv[:3,:3]"
   ]
  },
  {
   "cell_type": "code",
   "execution_count": 160,
   "id": "b1bbc20a-7559-4ef8-8cc8-a07233c8e1ad",
   "metadata": {
    "tags": []
   },
   "outputs": [
    {
     "data": {
      "text/plain": [
       "array([[0.93171, 0.0241 , 0.02812],\n",
       "       [0.0241 , 0.94055, 0.03374],\n",
       "       [0.02812, 0.03374, 0.95099]])"
      ]
     },
     "execution_count": 160,
     "metadata": {},
     "output_type": "execute_result"
    }
   ],
   "source": [
    "Ul_inv[:3,:3].T @ Ul_inv[:3,:3]"
   ]
  },
  {
   "cell_type": "code",
   "execution_count": 134,
   "id": "c36dffd9-7404-421a-bea0-28120014c699",
   "metadata": {
    "tags": []
   },
   "outputs": [
    {
     "data": {
      "text/plain": [
       "array([[ 0.98, -0.14,  0.1 ,  0.  ,  0.  ,  0.  , -0.09, -0.27,  0.27],\n",
       "       [ 0.15,  0.98, -0.04,  0.  ,  0.  ,  0.  ,  0.31, -0.07, -0.15],\n",
       "       [-0.09,  0.06,  0.99,  0.  ,  0.  ,  0.  , -0.21,  0.24, -0.05],\n",
       "       [ 0.  ,  0.  ,  0.  ,  0.98, -0.14,  0.1 , -0.04, -0.14,  0.11],\n",
       "       [ 0.  ,  0.  ,  0.  ,  0.15,  0.98, -0.04,  0.15, -0.03, -0.03],\n",
       "       [ 0.  ,  0.  ,  0.  , -0.09,  0.06,  0.99, -0.09,  0.07, -0.02],\n",
       "       [ 0.  ,  0.  ,  0.  ,  0.  ,  0.  ,  0.  ,  0.98, -0.14,  0.1 ],\n",
       "       [ 0.  ,  0.  ,  0.  ,  0.  ,  0.  ,  0.  ,  0.15,  0.98, -0.04],\n",
       "       [ 0.  ,  0.  ,  0.  ,  0.  ,  0.  ,  0.  , -0.09,  0.06,  0.99]])"
      ]
     },
     "execution_count": 134,
     "metadata": {},
     "output_type": "execute_result"
    }
   ],
   "source": [
    "np.array(ca.DM(Ul_inv_series(x.param)))"
   ]
  },
  {
   "cell_type": "code",
   "execution_count": 138,
   "id": "cb5f2b67-77d7-4982-ac2e-c525564c309c",
   "metadata": {
    "tags": []
   },
   "outputs": [
    {
     "data": {
      "text/plain": [
       "array([[-1.24989e-12,  2.25903e-13,  2.66065e-13,  0.00000e+00,  0.00000e+00,  0.00000e+00, -2.82378e-11,  5.60102e-12,  6.43652e-12],\n",
       "       [ 1.58734e-13, -9.61453e-13,  5.88092e-13,  0.00000e+00,  0.00000e+00,  0.00000e+00,  3.93069e-12, -2.18101e-11,  1.34444e-11],\n",
       "       [ 3.10835e-13,  5.65707e-13, -4.80838e-13,  0.00000e+00,  0.00000e+00,  0.00000e+00,  7.57250e-12,  1.28431e-11, -1.14820e-11],\n",
       "       [ 0.00000e+00,  0.00000e+00,  0.00000e+00, -1.24989e-12,  2.25903e-13,  2.66065e-13, -1.24983e-11,  2.29233e-12,  2.63782e-12],\n",
       "       [ 0.00000e+00,  0.00000e+00,  0.00000e+00,  1.58734e-13, -9.61453e-13,  5.88092e-13,  1.55320e-12, -9.61405e-12,  5.89162e-12],\n",
       "       [ 0.00000e+00,  0.00000e+00,  0.00000e+00,  3.10835e-13,  5.65707e-13, -4.80838e-13,  3.13059e-12,  5.64523e-12, -4.80702e-12],\n",
       "       [ 0.00000e+00,  0.00000e+00,  0.00000e+00,  0.00000e+00,  0.00000e+00,  0.00000e+00, -1.24989e-12,  2.25903e-13,  2.66065e-13],\n",
       "       [ 0.00000e+00,  0.00000e+00,  0.00000e+00,  0.00000e+00,  0.00000e+00,  0.00000e+00,  1.58734e-13, -9.61453e-13,  5.88092e-13],\n",
       "       [ 0.00000e+00,  0.00000e+00,  0.00000e+00,  0.00000e+00,  0.00000e+00,  0.00000e+00,  3.10835e-13,  5.65707e-13, -4.80838e-13]])"
      ]
     },
     "execution_count": 138,
     "metadata": {},
     "output_type": "execute_result"
    }
   ],
   "source": [
    "np.set_printoptions(precision=5, linewidth=200, suppress=False)\n",
    "np.array(ca.DM(Ul_inv_cf(x.param)) - ca.DM(Ul_inv_series(x.param)))"
   ]
  },
  {
   "cell_type": "code",
   "execution_count": null,
   "id": "d90bf391-5305-4096-bc17-b8ea49c40550",
   "metadata": {},
   "outputs": [],
   "source": []
  }
 ],
 "metadata": {
  "kernelspec": {
   "display_name": "Python 3 (ipykernel)",
   "language": "python",
   "name": "python3"
  },
  "language_info": {
   "codemirror_mode": {
    "name": "ipython",
    "version": 3
   },
   "file_extension": ".py",
   "mimetype": "text/x-python",
   "name": "python",
   "nbconvert_exporter": "python",
   "pygments_lexer": "ipython3",
   "version": "3.10.12"
  }
 },
 "nbformat": 4,
 "nbformat_minor": 5
}
