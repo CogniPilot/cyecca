{
 "cells": [
  {
   "cell_type": "code",
   "execution_count": 47,
   "metadata": {},
   "outputs": [],
   "source": [
    "import cyecca\n",
    "import numpy as np\n",
    "import casadi as ca\n",
    "from cyecca.lie.group_so3 import SO3Quat, so3"
   ]
  },
  {
   "cell_type": "code",
   "execution_count": 120,
   "metadata": {},
   "outputs": [],
   "source": [
    "chi = so3.elem(ca.SX.sym(\"chi\", 3))\n",
    "wb = so3.elem(ca.SX.sym(\"wb\", 3))\n",
    "A = -wb.ad()\n",
    "# B = chi.right_jacobian_inv()\n",
    "\n",
    "\n",
    "def sym33_to_vector6(m):\n",
    "    return ca.vertcat(m[0, 0], m[0, 1], m[0, 2], m[1, 1], m[1, 2], m[2, 2])\n",
    "\n",
    "\n",
    "def vector6_to_sym33(v):\n",
    "    return ca.vertcat(\n",
    "        ca.horzcat(v[0], v[1], v[2]),\n",
    "        ca.horzcat(v[1], v[3], v[4]),\n",
    "        ca.horzcat(v[2], v[4], v[5]),\n",
    "    )\n",
    "\n",
    "\n",
    "P0 = ca.triu2symm(ca.SX.sym(\"P0\", ca.Sparsity.upper(3)))\n",
    "Q = ca.triu2symm(ca.SX.sym(\"Q\", ca.Sparsity.upper(3)))\n",
    "dt = ca.SX.sym(\"dt\")\n",
    "\n",
    "# prediction\n",
    "P1 = ca.triu(P0 + A @ P0 + P0 @ A.T + Q)\n",
    "\n",
    "f = ca.Function(\n",
    "    \"f\",\n",
    "    [sym33_to_vector6(P0), sym33_to_vector6(Q), wb.param, dt],\n",
    "    [sym33_to_vector6(P1)],\n",
    "    [\"P0\", \"Q0\", \"wb\", \"dt\"],\n",
    "    [\"P1\"],\n",
    ")"
   ]
  },
  {
   "cell_type": "code",
   "execution_count": 128,
   "metadata": {},
   "outputs": [
    {
     "data": {
      "text/plain": [
       "DM([101, 0, 0, 101, 0, 101])"
      ]
     },
     "execution_count": 128,
     "metadata": {},
     "output_type": "execute_result"
    }
   ],
   "source": [
    "P = np.array([1, 0, 0, 1, 0, 1], dtype=float)\n",
    "dt = 0.01\n",
    "wb = np.array([1, 2, 3], dtype=float)\n",
    "Q = 0.1 * np.array([1, 0, 0, 1, 0, 1], dtype=float)\n",
    "for i in range(1000):\n",
    "    P = f(P, Q, wb, dt)\n",
    "P"
   ]
  },
  {
   "cell_type": "code",
   "execution_count": 132,
   "metadata": {},
   "outputs": [],
   "source": [
    "X = SO3Quat.elem(ca.SX.sym(\"X\", 4))\n",
    "Xr = SO3Quat.elem(ca.SX.sym(\"Xr\", 4))"
   ]
  },
  {
   "cell_type": "code",
   "execution_count": null,
   "metadata": {},
   "outputs": [],
   "source": []
  }
 ],
 "metadata": {
  "kernelspec": {
   "display_name": "Python 3",
   "language": "python",
   "name": "python3"
  },
  "language_info": {
   "codemirror_mode": {
    "name": "ipython",
    "version": 3
   },
   "file_extension": ".py",
   "mimetype": "text/x-python",
   "name": "python",
   "nbconvert_exporter": "python",
   "pygments_lexer": "ipython3",
   "version": "3.12.3"
  }
 },
 "nbformat": 4,
 "nbformat_minor": 2
}
