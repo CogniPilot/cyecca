{
 "cells": [
  {
   "cell_type": "code",
   "execution_count": 65,
   "metadata": {},
   "outputs": [],
   "source": [
    "import cyecca\n",
    "import numpy as np\n",
    "import casadi as ca\n",
    "from cyecca.lie.group_so3 import SO3Quat, so3\n",
    "\n",
    "def derive_cov_prop():\n",
    "    chi = so3.elem(ca.SX.sym('chi', 3))\n",
    "    wb = so3.elem(ca.SX.sym('wb', 3))\n",
    "    A = -wb.ad()\n",
    "    #B = chi.right_jacobian_inv()\n",
    "\n",
    "    P0 = ca.SX.sym('P0', 3, 3)\n",
    "    Q = ca.SX.sym('Q', 3, 3)\n",
    "    dt = ca.SX.sym('dt')\n",
    "\n",
    "    # prediction\n",
    "    P1 = P0 + A @ P0 + P0 @ A.T + Q\n",
    "\n",
    "    f_cov_prop = ca.Function('cov_prop', [P0, dt, wb.param, Q], [P1], ['P0', 'dt', 'wb', 'Q'], ['P1'])\n",
    "\n",
    "    return {\n",
    "        'f_cov_prop': f_cov_prop,\n",
    "    }\n",
    "\n",
    "\n",
    "res = derive_cov_prop()"
   ]
  },
  {
   "cell_type": "code",
   "execution_count": 71,
   "metadata": {},
   "outputs": [
    {
     "data": {
      "text/plain": [
       "DM(\n",
       "[[101, 0, 0], \n",
       " [0, 101, 0], \n",
       " [0, 0, 101]])"
      ]
     },
     "execution_count": 71,
     "metadata": {},
     "output_type": "execute_result"
    }
   ],
   "source": [
    "P = np.eye(3)\n",
    "dt = 0.01\n",
    "w = np.array([1, 2, 3])\n",
    "Q = np.eye(3)*0.1\n",
    "for i in range(1000):\n",
    "    P = res[\"f_cov_prop\"](P, dt, w, Q)\n",
    "P"
   ]
  },
  {
   "cell_type": "code",
   "execution_count": 80,
   "metadata": {},
   "outputs": [
    {
     "data": {
      "text/plain": [
       "array([[1., 0., 0., 0., 0., 0.],\n",
       "       [0., 1., 0., 0., 0., 0.],\n",
       "       [0., 0., 1., 0., 0., 0.],\n",
       "       [0., 0., 0., 1., 0., 0.],\n",
       "       [0., 0., 0., 0., 1., 0.],\n",
       "       [0., 0., 0., 0., 0., 1.]])"
      ]
     },
     "execution_count": 80,
     "metadata": {},
     "output_type": "execute_result"
    }
   ],
   "source": [
    "np.block([\n",
    "    [np.eye(3), np.zeros((3, 3))],\n",
    "    [np.zeros((3, 3)), np.eye(3)]\n",
    "    ])"
   ]
  },
  {
   "cell_type": "code",
   "execution_count": null,
   "metadata": {},
   "outputs": [],
   "source": [
    "np.block([])"
   ]
  }
 ],
 "metadata": {
  "kernelspec": {
   "display_name": "Python 3",
   "language": "python",
   "name": "python3"
  },
  "language_info": {
   "codemirror_mode": {
    "name": "ipython",
    "version": 3
   },
   "file_extension": ".py",
   "mimetype": "text/x-python",
   "name": "python",
   "nbconvert_exporter": "python",
   "pygments_lexer": "ipython3",
   "version": "3.12.3"
  }
 },
 "nbformat": 4,
 "nbformat_minor": 2
}
