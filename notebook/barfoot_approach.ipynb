{
 "cells": [
  {
   "cell_type": "code",
   "execution_count": 1,
   "id": "2f153374-d348-41d7-bc71-5eba3c00559f",
   "metadata": {
    "tags": []
   },
   "outputs": [],
   "source": [
    "from cyecca import lie\n",
    "import casadi as ca\n",
    "import math\n",
    "import scipy.special\n",
    "from scipy.special import bernoulli"
   ]
  },
  {
   "cell_type": "code",
   "execution_count": 2,
   "id": "1376ce45-6078-4a7c-937f-35bfd7428f46",
   "metadata": {},
   "outputs": [
    {
     "data": {
      "text/plain": [
       "1.0"
      ]
     },
     "execution_count": 2,
     "metadata": {},
     "output_type": "execute_result"
    }
   ],
   "source": [
    "Phi = lie.so3.elem(ca.SX.sym('phi', 3))\n",
    "phi = ca.norm_2(Phi.param)\n",
    "scipy.special.bernoulli(0)[-1]"
   ]
  },
  {
   "cell_type": "code",
   "execution_count": 3,
   "id": "587f38dd-9664-445c-b5d9-7be44d9c4e01",
   "metadata": {
    "tags": []
   },
   "outputs": [
    {
     "data": {
      "text/plain": [
       "SX(@1=sqrt(((sq(phi_0)+sq(phi_1))+sq(phi_2))), @2=(phi_2/@1), @3=(phi_1/@1), @4=(phi_0/@1), \n",
       "[[00, (-@2), @3], \n",
       " [@2, 00, (-@4)], \n",
       " [(-@3), @4, 00]])"
      ]
     },
     "execution_count": 3,
     "metadata": {},
     "output_type": "execute_result"
    }
   ],
   "source": [
    "a = (1/phi)*Phi\n",
    "a.to_Matrix()"
   ]
  },
  {
   "cell_type": "code",
   "execution_count": 4,
   "id": "6b7108a6-5d59-431d-be8e-618c02234253",
   "metadata": {
    "tags": []
   },
   "outputs": [],
   "source": [
    "def Jr_series(Phi: lie.base.LieAlgebraElement, order: int):\n",
    "    ad_Phi = Phi.ad()\n",
    "    S = ca.SX.zeros(3, 3)\n",
    "    for n in range(order+1):\n",
    "        S += (-1)**n*ca.mpower(ad_Phi, n)/math.factorial(n+1)\n",
    "    return S"
   ]
  },
  {
   "cell_type": "code",
   "execution_count": 5,
   "id": "b2bc1672-4e72-4844-bed5-3eae76d06583",
   "metadata": {
    "tags": []
   },
   "outputs": [],
   "source": [
    "def Jl_series(Phi: lie.base.LieAlgebraElement, order: int):\n",
    "    ad_Phi = Phi.ad()\n",
    "    S = ca.SX.zeros(ad_Phi.shape)\n",
    "    for n in range(order+1):\n",
    "        S += ca.mpower(ad_Phi, n)/math.factorial(n+1)\n",
    "    return S"
   ]
  },
  {
   "cell_type": "code",
   "execution_count": 6,
   "id": "2fb32c33-fcbd-4fa6-8aa8-0c3276e101b9",
   "metadata": {
    "tags": []
   },
   "outputs": [],
   "source": [
    "def Jl_inv_series(Phi: lie.base.LieAlgebraElement, order: int):\n",
    "    ad_Phi = Phi.ad()\n",
    "    S= ca.SX.zeros(ad_Phi.shape)\n",
    "    for n in range(order+1):\n",
    "        Bn = bernoulli(n)[-1]\n",
    "        S += Bn*ca.mpower(ad_Phi, n)/math.factorial(n)\n",
    "    return S"
   ]
  },
  {
   "cell_type": "code",
   "execution_count": 7,
   "id": "a508d54c-0da4-44b7-aeea-88e1ab95f313",
   "metadata": {
    "tags": []
   },
   "outputs": [],
   "source": [
    "def Jr_inv_series(Phi: lie.base.LieAlgebraElement, order: int):\n",
    "    ad_Phi = Phi.ad()\n",
    "    S = ca.SX.zeros(ad_Phi.shape)\n",
    "    for n in range(order+1):\n",
    "        Bn = bernoulli(n)[-1]\n",
    "        S += (-1)**n*Bn*ca.mpower(ad_Phi, n)/math.factorial(n)\n",
    "    return S"
   ]
  },
  {
   "cell_type": "code",
   "execution_count": 8,
   "id": "7b41d9b7-f117-4c3a-827d-e9bb4ec4252d",
   "metadata": {
    "tags": []
   },
   "outputs": [],
   "source": [
    "def SO3_Jl_cf(Phi: lie.group_so3.SO3LieAlgebraElement):\n",
    "    ad_Phi = Phi.ad()\n",
    "    phi = ca.norm_2(Phi.param)\n",
    "    cos_phi = ca.cos(phi)\n",
    "    sin_phi = ca.sin(phi)\n",
    "    C = ca.if_else(ca.fabs(phi) > 1e-3,\n",
    "        ca.vertcat(\n",
    "            (1 - cos_phi)/phi**2,\n",
    "            (phi - sin_phi)/phi**3),\n",
    "        ca.vertcat(\n",
    "            1/2 - phi**2/24 + phi**4/720,\n",
    "            1/6 - phi**2/120 + phi**4/5040))\n",
    "    return ca.SX.eye(3) + C[0]*ad_Phi + C[1]*ad_Phi@ad_Phi"
   ]
  },
  {
   "cell_type": "code",
   "execution_count": 9,
   "id": "48e7ebfb-e38b-4915-8978-3818e8e41fe5",
   "metadata": {
    "tags": []
   },
   "outputs": [],
   "source": [
    "def SO3_Jl_inv_cf(Phi: lie.group_so3.SO3LieAlgebraElement):\n",
    "    ad_Phi = Phi.ad()\n",
    "    phi = ca.norm_2(Phi.param)\n",
    "    C = ca.if_else(ca.fabs(phi) > 1e-3,\n",
    "        (2 - phi/ca.tan(phi/2))/(2*phi**2),\n",
    "        1/12 + phi**2/720 + phi**4/30240\n",
    "    )\n",
    "    return ca.SX.eye(3) - (1/2)*ad_Phi + C*ad_Phi@ad_Phi"
   ]
  },
  {
   "cell_type": "markdown",
   "id": "049cdb0d-8ea4-4768-8fbf-5c27aba96780",
   "metadata": {},
   "source": [
    "This is a singularity in inverse map at 2pi."
   ]
  },
  {
   "cell_type": "code",
   "execution_count": 36,
   "id": "8840b28d-a281-4b9f-8b2d-ba94510a19e5",
   "metadata": {
    "tags": []
   },
   "outputs": [
    {
     "data": {
      "text/plain": [
       "DM(\n",
       "[[1, 00, 00], \n",
       " [00, 20.827, 3.29867], \n",
       " [00, -3.29867, 20.827]])"
      ]
     },
     "execution_count": 36,
     "metadata": {},
     "output_type": "execute_result"
    }
   ],
   "source": [
    "Phi = lie.so3.elem(ca.vertcat(2.1*ca.pi, 0, 0))\n",
    "ca.DM(SO3_Jl_inv_cf(Phi))"
   ]
  },
  {
   "cell_type": "code",
   "execution_count": 37,
   "id": "30c002d3-6997-4d8e-b9b0-f205de53e5df",
   "metadata": {
    "tags": []
   },
   "outputs": [
    {
     "data": {
      "text/plain": [
       "DM(\n",
       "[[1, 00, 00], \n",
       " [00, -18.8435, 2.98451], \n",
       " [00, -2.98451, -18.8435]])"
      ]
     },
     "execution_count": 37,
     "metadata": {},
     "output_type": "execute_result"
    }
   ],
   "source": [
    "Phi = lie.so3.elem(ca.vertcat(1.9*ca.pi, 0, 0))\n",
    "ca.DM(SO3_Jl_inv_cf(Phi))"
   ]
  },
  {
   "cell_type": "code",
   "execution_count": 32,
   "id": "9a1b422e-20a6-4df1-ae29-66095437c875",
   "metadata": {
    "tags": []
   },
   "outputs": [],
   "source": [
    "def SO3_Jr_cf(Phi: lie.group_so3.SO3LieAlgebraElement):\n",
    "    # TODO\n",
    "    pass"
   ]
  },
  {
   "cell_type": "code",
   "execution_count": 13,
   "id": "e9a4c817-01e8-446e-9b50-3502f7c0bc79",
   "metadata": {
    "tags": []
   },
   "outputs": [],
   "source": [
    "def SO3_Jr_inv_cf(Phi: lie.group_so3.SO3LieAlgebraElement):\n",
    "    # TODO\n",
    "    pass"
   ]
  },
  {
   "cell_type": "code",
   "execution_count": 14,
   "id": "be7c631a-384e-4a54-b358-d8cbd58aaa00",
   "metadata": {
    "tags": []
   },
   "outputs": [
    {
     "data": {
      "text/plain": [
       "DM(\n",
       "[[1, 0, 0], \n",
       " [0, 0.915244, 0.5], \n",
       " [0, -0.5, 0.915244]])"
      ]
     },
     "execution_count": 14,
     "metadata": {},
     "output_type": "execute_result"
    }
   ],
   "source": [
    "ca.DM(Jl_inv_series(lie.so3.elem(ca.vertcat(1, 0, 0)), 10))"
   ]
  },
  {
   "cell_type": "code",
   "execution_count": 15,
   "id": "80bae134-60f6-4f5b-bc2f-1627ad409fef",
   "metadata": {
    "tags": []
   },
   "outputs": [
    {
     "data": {
      "text/plain": [
       "DM(\n",
       "[[1, 0, 0], \n",
       " [0, 1, -4.04747e-07], \n",
       " [0, 4.04747e-07, 1]])"
      ]
     },
     "execution_count": 15,
     "metadata": {},
     "output_type": "execute_result"
    }
   ],
   "source": [
    "Phi = lie.so3.elem(ca.vertcat(1*ca.pi, 0, 0))\n",
    "ca.DM(Jl_series(Phi, 20) @ Jl_inv_series(Phi, 20))"
   ]
  },
  {
   "cell_type": "code",
   "execution_count": 16,
   "id": "90695c51-d7b1-4916-a825-a98d69f49e71",
   "metadata": {
    "tags": []
   },
   "outputs": [
    {
     "data": {
      "text/plain": [
       "DM(\n",
       "[[1, 00, 00], \n",
       " [00, 0, 0], \n",
       " [00, 0, 0]])"
      ]
     },
     "execution_count": 16,
     "metadata": {},
     "output_type": "execute_result"
    }
   ],
   "source": [
    "Phi = lie.so3.elem(ca.vertcat(2*ca.pi, 0, 0))\n",
    "ca.DM(SO3_Jl_cf(Phi)) #SO3_Jl_inv_cf(Phi))"
   ]
  },
  {
   "cell_type": "code",
   "execution_count": 17,
   "id": "89fa39eb-8ecb-479b-8d07-18f8bb14fd2c",
   "metadata": {
    "tags": []
   },
   "outputs": [
    {
     "data": {
      "text/plain": [
       "DM(\n",
       "[[1, 0, 0], \n",
       " [0, -10.4993, 3.14159], \n",
       " [0, -3.14159, -10.4993]])"
      ]
     },
     "execution_count": 17,
     "metadata": {},
     "output_type": "execute_result"
    }
   ],
   "source": [
    "ca.DM(Jl_inv_series(lie.so3.elem(ca.vertcat(2*ca.pi, 0, 0)), 10))"
   ]
  },
  {
   "cell_type": "code",
   "execution_count": 18,
   "id": "bb2993ee-47e7-4479-81cc-2130c9fc883b",
   "metadata": {
    "tags": []
   },
   "outputs": [
    {
     "data": {
      "text/plain": [
       "SX(@1=-2.58682e-14, @2=-6.47121e-14, @3=-1.29431e-13, \n",
       "[[3.75366e-13, @1, @2], \n",
       " [@1, 3.36509e-13, @3], \n",
       " [@2, @3, 6.4726e-14]])"
      ]
     },
     "execution_count": 18,
     "metadata": {},
     "output_type": "execute_result"
    }
   ],
   "source": [
    "Phi = lie.so3.elem(ca.DM([0.1, 0.2, 0.5]))\n",
    "Jl_inv_series(Phi, 10) - SO3_Jl_inv_cf(Phi)"
   ]
  },
  {
   "cell_type": "code",
   "execution_count": 19,
   "id": "bb81c4c2-9273-4020-a5d1-303992b46aeb",
   "metadata": {
    "tags": []
   },
   "outputs": [
    {
     "data": {
      "text/plain": [
       "SX(\n",
       "[[-1.13021e-13, -2.5244e-12, 1.0324e-12], \n",
       " [2.54008e-12, -1.01252e-13, -4.67494e-13], \n",
       " [-9.934e-13, 5.45411e-13, -1.94289e-14]])"
      ]
     },
     "execution_count": 19,
     "metadata": {},
     "output_type": "execute_result"
    }
   ],
   "source": [
    "Jl_series(Phi, 10) - SO3_Jl_cf(Phi)"
   ]
  },
  {
   "cell_type": "code",
   "execution_count": 20,
   "id": "3ffc3a91-44d6-46af-a825-44750ffc3079",
   "metadata": {
    "tags": []
   },
   "outputs": [
    {
     "data": {
      "text/plain": [
       "SX(\n",
       "[[1, -2.66024e-12, 8.67903e-13], \n",
       " [2.52499e-12, 1, -8.56863e-13], \n",
       " [-1.20619e-12, 1.80189e-13, 1]])"
      ]
     },
     "execution_count": 20,
     "metadata": {},
     "output_type": "execute_result"
    }
   ],
   "source": [
    "Jl_series(Phi, 10) @ Jl_inv_series(Phi, 10)"
   ]
  },
  {
   "cell_type": "code",
   "execution_count": 21,
   "id": "30e824d7-1acb-47ea-97e6-5debe0057012",
   "metadata": {
    "tags": []
   },
   "outputs": [
    {
     "data": {
      "text/plain": [
       "SX(@1=1, \n",
       "[[@1, -1.37043e-16, 2.77556e-17], \n",
       " [7.71952e-17, @1, -6.245e-17], \n",
       " [-5.55112e-17, -2.08167e-17, @1]])"
      ]
     },
     "execution_count": 21,
     "metadata": {},
     "output_type": "execute_result"
    }
   ],
   "source": [
    "SO3_Jl_cf(Phi) @ SO3_Jl_inv_cf(Phi)"
   ]
  },
  {
   "cell_type": "code",
   "execution_count": 22,
   "id": "eaa460a5-a3a1-4a74-9920-c6bd63375f1e",
   "metadata": {
    "tags": []
   },
   "outputs": [
    {
     "data": {
      "text/plain": [
       "SX(\n",
       "[[1, 2.52499e-12, -1.2062e-12], \n",
       " [-2.66024e-12, 1, 1.80203e-13], \n",
       " [8.67903e-13, -8.56863e-13, 1]])"
      ]
     },
     "execution_count": 22,
     "metadata": {},
     "output_type": "execute_result"
    }
   ],
   "source": [
    "Jr_series(Phi, 10) @ Jr_inv_series(Phi, 10)"
   ]
  },
  {
   "cell_type": "code",
   "execution_count": 23,
   "id": "e4c8c839-457b-402c-97f5-d8008c91907c",
   "metadata": {},
   "outputs": [
    {
     "data": {
      "text/plain": [
       "SX(\n",
       "[[sq(x_0), (x_0*x_1), (x_0*x_2)], \n",
       " [(x_1*x_0), sq(x_1), (x_1*x_2)], \n",
       " [(x_2*x_0), (x_2*x_1), sq(x_2)]])"
      ]
     },
     "execution_count": 23,
     "metadata": {},
     "output_type": "execute_result"
    }
   ],
   "source": [
    "x = ca.SX.sym('x', 3)\n",
    "x @ x.T"
   ]
  },
  {
   "cell_type": "code",
   "execution_count": 24,
   "id": "e6e25da1-bc64-44f6-99a4-5aa70cffb1c3",
   "metadata": {
    "tags": []
   },
   "outputs": [
    {
     "data": {
      "text/plain": [
       "SX(@1=-2.58682e-14, @2=-6.47121e-14, @3=-1.29431e-13, \n",
       "[[3.75366e-13, @1, @2], \n",
       " [@1, 3.36509e-13, @3], \n",
       " [@2, @3, 6.4726e-14]])"
      ]
     },
     "execution_count": 24,
     "metadata": {},
     "output_type": "execute_result"
    }
   ],
   "source": [
    "Jl_inv_series(Phi, 10) - SO3_Jl_inv_cf(Phi)"
   ]
  },
  {
   "cell_type": "code",
   "execution_count": 25,
   "id": "3c979daf-88fc-4e6f-89d7-e4f6ce87f83b",
   "metadata": {},
   "outputs": [],
   "source": [
    "import cyecca.symbolic"
   ]
  },
  {
   "cell_type": "code",
   "execution_count": 26,
   "id": "fff3113f-37c8-4a20-8aa4-20d0d4ee07d1",
   "metadata": {
    "tags": []
   },
   "outputs": [
    {
     "data": {
      "text/plain": [
       "SO3LieAlgebra: SX([(phi*a_0), (phi*a_1), (phi*a_2)])"
      ]
     },
     "execution_count": 26,
     "metadata": {},
     "output_type": "execute_result"
    }
   ],
   "source": [
    "a = ca.SX.sym('a', 3)\n",
    "phi = ca.SX.sym('phi')\n",
    "Phi = lie.so3.elem(phi*a)\n",
    "Phi"
   ]
  },
  {
   "cell_type": "code",
   "execution_count": 27,
   "id": "3b7248f6-c310-4516-9c26-08c0264c6737",
   "metadata": {
    "tags": []
   },
   "outputs": [
    {
     "data": {
      "text/latex": [
       "$\\displaystyle \\left[\\begin{matrix}- a_{1}^{2} \\phi^{2} - a_{2}^{2} \\phi^{2} & a_{0} a_{1} \\phi^{2} & a_{0} a_{2} \\phi^{2}\\\\a_{0} a_{1} \\phi^{2} & - a_{0}^{2} \\phi^{2} - a_{2}^{2} \\phi^{2} & a_{1} a_{2} \\phi^{2}\\\\a_{0} a_{2} \\phi^{2} & a_{1} a_{2} \\phi^{2} & - a_{0}^{2} \\phi^{2} - a_{1}^{2} \\phi^{2}\\end{matrix}\\right]$"
      ],
      "text/plain": [
       "Matrix([\n",
       "[-a_1**2*phi**2 - a_2**2*phi**2,                 a_0*a_1*phi**2,                 a_0*a_2*phi**2],\n",
       "[                a_0*a_1*phi**2, -a_0**2*phi**2 - a_2**2*phi**2,                 a_1*a_2*phi**2],\n",
       "[                a_0*a_2*phi**2,                 a_1*a_2*phi**2, -a_0**2*phi**2 - a_1**2*phi**2]])"
      ]
     },
     "execution_count": 27,
     "metadata": {},
     "output_type": "execute_result"
    }
   ],
   "source": [
    "cyecca.symbolic.casadi_to_sympy(Phi.ad() @ Phi.ad())"
   ]
  },
  {
   "cell_type": "code",
   "execution_count": 28,
   "id": "79c12318-c69b-4ccb-8767-f04eba15d147",
   "metadata": {
    "tags": []
   },
   "outputs": [
    {
     "data": {
      "text/latex": [
       "$\\displaystyle \\left[\\begin{matrix}\\phi^{2} \\left(- a_{1}^{2} - a_{2}^{2}\\right) & a_{0} a_{1} \\phi^{2} & a_{0} a_{2} \\phi^{2}\\\\a_{0} a_{1} \\phi^{2} & \\phi^{2} \\left(- a_{0}^{2} - a_{2}^{2}\\right) & a_{1} a_{2} \\phi^{2}\\\\a_{0} a_{2} \\phi^{2} & a_{1} a_{2} \\phi^{2} & - \\phi^{2} \\left(a_{0}^{2} + a_{1}^{2}\\right)\\end{matrix}\\right]$"
      ],
      "text/plain": [
       "Matrix([\n",
       "[phi**2*(-a_1**2 - a_2**2),            a_0*a_1*phi**2,            a_0*a_2*phi**2],\n",
       "[           a_0*a_1*phi**2, phi**2*(-a_0**2 - a_2**2),            a_1*a_2*phi**2],\n",
       "[           a_0*a_2*phi**2,            a_1*a_2*phi**2, -phi**2*(a_0**2 + a_1**2)]])"
      ]
     },
     "execution_count": 28,
     "metadata": {},
     "output_type": "execute_result"
    }
   ],
   "source": [
    "cyecca.symbolic.casadi_to_sympy(phi**2 * (a @ a.T - a.T @ a * ca.SX.eye(3)))"
   ]
  },
  {
   "cell_type": "code",
   "execution_count": 29,
   "id": "1f33ecf3-1b8d-4c50-bb77-98a6e1dd9e65",
   "metadata": {
    "tags": []
   },
   "outputs": [],
   "source": [
    "def Jr_inv_series(Phi: lie.base.LieAlgebraElement, order: int):\n",
    "    ad_Phi = Phi.ad()\n",
    "    S = ca.SX.zeros(ad_Phi.shape)\n",
    "    for n in range(order+1):\n",
    "        Bn = bernoulli(n)[-1]\n",
    "        S += (-1)**n*Bn*ca.mpower(ad_Phi, n)/math.factorial(n)\n",
    "    return S"
   ]
  },
  {
   "cell_type": "code",
   "execution_count": null,
   "id": "bdaa4fbf-65c8-48d4-944c-f7fd13302834",
   "metadata": {},
   "outputs": [],
   "source": []
  },
  {
   "cell_type": "code",
   "execution_count": null,
   "id": "ae34a9f5-6825-44e6-b0df-77f3fecd1584",
   "metadata": {},
   "outputs": [],
   "source": []
  }
 ],
 "metadata": {
  "kernelspec": {
   "display_name": "Python 3 (ipykernel)",
   "language": "python",
   "name": "python3"
  },
  "language_info": {
   "codemirror_mode": {
    "name": "ipython",
    "version": 3
   },
   "file_extension": ".py",
   "mimetype": "text/x-python",
   "name": "python",
   "nbconvert_exporter": "python",
   "pygments_lexer": "ipython3",
   "version": "3.10.12"
  }
 },
 "nbformat": 4,
 "nbformat_minor": 5
}
