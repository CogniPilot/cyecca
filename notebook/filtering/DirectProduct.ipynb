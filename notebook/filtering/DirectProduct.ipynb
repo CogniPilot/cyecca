{
 "cells": [
  {
   "cell_type": "code",
   "execution_count": 1,
   "id": "15d4d316-4810-4ec5-aa1e-5ed197030da3",
   "metadata": {
    "tags": []
   },
   "outputs": [],
   "source": [
    "import casadi as ca\n",
    "from cyecca import lie"
   ]
  },
  {
   "cell_type": "code",
   "execution_count": 2,
   "id": "e46ceb04-f0fe-4e47-a29d-17ecb8b4cad3",
   "metadata": {
    "tags": []
   },
   "outputs": [
    {
     "data": {
      "text/plain": [
       "SO3MrpLieGroup x RnLieGroup x SE2LieGroup"
      ]
     },
     "execution_count": 2,
     "metadata": {},
     "output_type": "execute_result"
    }
   ],
   "source": [
    "G = lie.SO3Mrp * lie.R3 * lie.SE2\n",
    "G"
   ]
  },
  {
   "cell_type": "code",
   "execution_count": 3,
   "id": "5d8a1cff-e186-4a3d-b402-784c144ca48f",
   "metadata": {
    "tags": []
   },
   "outputs": [],
   "source": [
    "g1 = G.algebra.elem(ca.SX([1, 0, 0, 0, 0, 0, 0, 0, 0]))"
   ]
  },
  {
   "cell_type": "code",
   "execution_count": 4,
   "id": "8e0801fc-36bd-4b02-b996-0763b69692d9",
   "metadata": {
    "tags": []
   },
   "outputs": [
    {
     "data": {
      "text/plain": [
       "SO3MrpLieGroup x RnLieGroup x SE2LieGroup: SX(@1=0, [1, @1, @1, @1, @1, @1, @1, @1, @1])"
      ]
     },
     "execution_count": 4,
     "metadata": {},
     "output_type": "execute_result"
    }
   ],
   "source": [
    "G1 = G.elem(ca.SX([1, 0, 0, 0, 0, 0, 0, 0, 0]))\n",
    "G1"
   ]
  },
  {
   "cell_type": "code",
   "execution_count": 5,
   "id": "5a4ca268-9a93-45c1-ab86-409fdf05f04e",
   "metadata": {
    "tags": []
   },
   "outputs": [
    {
     "data": {
      "text/plain": [
       "SO3MrpLieGroup x RnLieGroup x SE2LieGroup: SX(@1=0, [@1, 1, @1, @1, @1, @1, @1, @1, @1])"
      ]
     },
     "execution_count": 5,
     "metadata": {},
     "output_type": "execute_result"
    }
   ],
   "source": [
    "G2 = G.elem(ca.SX([0, 1, 0, 0, 0, 0, 0, 0, 0]))\n",
    "G2"
   ]
  },
  {
   "cell_type": "code",
   "execution_count": 6,
   "id": "64b1c5c3-e63b-4555-b57a-03ed8717bdb0",
   "metadata": {
    "tags": []
   },
   "outputs": [
    {
     "data": {
      "text/plain": [
       "SX(@1=0, [@1, @1, 1, @1, @1, @1, @1, @1, @1])"
      ]
     },
     "execution_count": 6,
     "metadata": {},
     "output_type": "execute_result"
    }
   ],
   "source": [
    "(G1 * G2).param"
   ]
  },
  {
   "cell_type": "code",
   "execution_count": 7,
   "id": "7ac4da73-6c43-4751-a321-9292990297e0",
   "metadata": {
    "tags": []
   },
   "outputs": [
    {
     "data": {
      "text/plain": [
       "SO3MrpLieGroup x RnLieGroup x SE2LieGroup: SX(@1=0, [-1, @1, @1, @1, @1, @1, @1, @1, @1])"
      ]
     },
     "execution_count": 7,
     "metadata": {},
     "output_type": "execute_result"
    }
   ],
   "source": [
    "G1.inverse()"
   ]
  },
  {
   "cell_type": "code",
   "execution_count": 8,
   "id": "bc508cd0-c1fa-4c72-ae1e-c9a49e6987bd",
   "metadata": {
    "tags": []
   },
   "outputs": [
    {
     "data": {
      "text/plain": [
       "SX(1)"
      ]
     },
     "execution_count": 8,
     "metadata": {},
     "output_type": "execute_result"
    }
   ],
   "source": [
    "G1.inverse() * G1 == G.identity()"
   ]
  }
 ],
 "metadata": {
  "kernelspec": {
   "display_name": "Python 3 (ipykernel)",
   "language": "python",
   "name": "python3"
  },
  "language_info": {
   "codemirror_mode": {
    "name": "ipython",
    "version": 3
   },
   "file_extension": ".py",
   "mimetype": "text/x-python",
   "name": "python",
   "nbconvert_exporter": "python",
   "pygments_lexer": "ipython3",
   "version": "3.12.3"
  }
 },
 "nbformat": 4,
 "nbformat_minor": 5
}
