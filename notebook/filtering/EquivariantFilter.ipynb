{
 "cells": [
  {
   "cell_type": "markdown",
   "id": "e9546bb0-c9bc-424c-a13c-31cf0f532007",
   "metadata": {},
   "source": [
    "# Equivariant Systems"
   ]
  },
  {
   "cell_type": "markdown",
   "id": "e73087ca-8634-49d0-b5d1-3435e5427222",
   "metadata": {},
   "source": [
    "A kinematic system is termed **equivariant** if there exists a smooth right group action : $\\psi: G \\times \\mathcal{L} \\rightarrow \\mathcal{L}$, such that\n",
    "\n",
    "$D_{\\phi_X} f_u(\\xi) = f_{\\psi_X(u)}(\\phi_X(\\xi))$"
   ]
  },
  {
   "cell_type": "code",
   "execution_count": 1,
   "id": "058dcb64-1711-4a75-ab5f-6dd3bab05683",
   "metadata": {
    "tags": []
   },
   "outputs": [],
   "source": [
    "import casadi as ca\n",
    "import cyecca.lie as lie\n",
    "\n",
    "G = lie.SO3Dcm\n",
    "eta = ca.SX.sym(\"eta\", 3)\n",
    "R = G.elem(ca.SX.sym(\"R\", G.n_param))\n",
    "Rh = G.elem(ca.SX.sym(\"Rh\", G.n_param))\n",
    "omega = G.algebra.elem(ca.SX.sym(\"omega\", G.algebra.n_param))"
   ]
  },
  {
   "cell_type": "markdown",
   "id": "8d5a1310-4631-41a2-9a60-49ce0ef37317",
   "metadata": {
    "tags": []
   },
   "source": [
    "## Kinematics\n",
    "$f(\\Omega, \\eta) = -\\Omega^{\\times} \\eta$"
   ]
  },
  {
   "cell_type": "code",
   "execution_count": 2,
   "id": "ef6ea7f2-1da7-4f87-8557-3e8ee765c74b",
   "metadata": {
    "tags": []
   },
   "outputs": [],
   "source": [
    "def f(u: G.algebra, xi: ca.SX) -> ca.SX:\n",
    "    return -u.to_Matrix() @ xi\n",
    "\n",
    "\n",
    "f_omega = lambda xi: -omega.to_Matrix() @ xi"
   ]
  },
  {
   "cell_type": "markdown",
   "id": "e3bded0d-6c9e-42d4-9881-39057ee01ac4",
   "metadata": {},
   "source": [
    "## State Symmetry\n",
    "$\\phi(X, \\xi) := R^T \\xi$\n",
    "\n",
    "$\\phi_X(\\xi) := X^T \\xi := \\xi'$\n",
    "\n",
    "$\\xi = \\phi^{-1}_X(\\xi') := X \\xi'$"
   ]
  },
  {
   "cell_type": "code",
   "execution_count": 3,
   "id": "df2340ee-d9f4-4c89-872c-e374a7af9d80",
   "metadata": {
    "tags": []
   },
   "outputs": [],
   "source": [
    "def phi(X: G, xi: ca.SX) -> ca.SX:\n",
    "    return X.inverse().to_Matrix() @ xi"
   ]
  },
  {
   "cell_type": "code",
   "execution_count": 4,
   "id": "cc73bd33-2cc9-4ca4-93b6-9b62b096daee",
   "metadata": {
    "tags": []
   },
   "outputs": [],
   "source": [
    "phi_X = lambda xi: phi(X, xi)"
   ]
  },
  {
   "cell_type": "code",
   "execution_count": 5,
   "id": "2ca7a275-1098-4190-a823-50dd50c12f53",
   "metadata": {
    "tags": []
   },
   "outputs": [],
   "source": [
    "def phi_inv_X(X: G, xi: ca.SX) -> ca.SX:\n",
    "    return X.to_Matrix() @ xi"
   ]
  },
  {
   "cell_type": "markdown",
   "id": "47203e58-5066-43f2-a011-0e88e51442d7",
   "metadata": {
    "tags": []
   },
   "source": [
    "## System Equivariance\n",
    "$\\psi(X, u) := X^T u$"
   ]
  },
  {
   "cell_type": "code",
   "execution_count": 6,
   "id": "f16cd6d2-aff7-42af-8401-b55b9c3cbf83",
   "metadata": {
    "tags": []
   },
   "outputs": [],
   "source": [
    "def psi(X: G, u: G.algebra) -> G.algebra:\n",
    "    return G.algebra.elem(X.inverse().to_Matrix() @ u.param)"
   ]
  },
  {
   "cell_type": "markdown",
   "id": "1898a084-b6fd-4428-a4eb-dc845a381f0d",
   "metadata": {
    "tags": []
   },
   "source": [
    "$\\Phi(X, f) := D_{\\phi_X} \\cdot f \\circ \\phi^{-1}_X$"
   ]
  },
  {
   "cell_type": "code",
   "execution_count": 7,
   "id": "6a924c86-cea9-4c20-80a5-5b54ff55c7a7",
   "metadata": {
    "tags": []
   },
   "outputs": [],
   "source": [
    "# x = ca.jacobian(phi(R, eta), eta) @ f_omega(phi_inv_X(R, eta))\n",
    "# x"
   ]
  },
  {
   "cell_type": "code",
   "execution_count": 8,
   "id": "29fe5edf-7bb7-4b5c-a7df-8c7b80707556",
   "metadata": {
    "tags": []
   },
   "outputs": [],
   "source": [
    "# f(psi(R, omega), eta)"
   ]
  },
  {
   "cell_type": "code",
   "execution_count": 9,
   "id": "e6c3a3e7-8a56-468c-82a6-ddbb9ca0c005",
   "metadata": {
    "tags": []
   },
   "outputs": [],
   "source": [
    "# def Phi(R, f):\n",
    "#    return ca.jacobian(phi(R, f), f)\n",
    "\n",
    "# Phi(R, f_omega)"
   ]
  },
  {
   "cell_type": "code",
   "execution_count": 10,
   "id": "b506132b-cdde-49ec-a8a2-e65eb0b5caf9",
   "metadata": {
    "tags": []
   },
   "outputs": [],
   "source": [
    "# ca.jacobian(R.inverse().to_Matrix(),"
   ]
  },
  {
   "cell_type": "code",
   "execution_count": 11,
   "id": "a0fc55c5-e413-4088-a239-ff8c8011c184",
   "metadata": {
    "tags": []
   },
   "outputs": [],
   "source": [
    "# ca.substitute(ca.jacobian(phi(R, eta), eta), R.param, lie.SO3Mrp.identity().param)"
   ]
  },
  {
   "cell_type": "code",
   "execution_count": 12,
   "id": "ec53e0ed-3deb-4f03-b5b9-30074841d54a",
   "metadata": {
    "tags": []
   },
   "outputs": [],
   "source": [
    "# phi(R, eta)"
   ]
  },
  {
   "cell_type": "code",
   "execution_count": 13,
   "id": "7662d19b-979e-4dd9-a61a-41bb13765100",
   "metadata": {
    "tags": []
   },
   "outputs": [],
   "source": [
    "# I = ca.SX.zeros(3, 3)\n",
    "# I\n",
    "# ca.densify(ca.SX.eye(3))"
   ]
  },
  {
   "cell_type": "code",
   "execution_count": 14,
   "id": "b2805cc5-7e18-4fce-9633-0057307de23a",
   "metadata": {
    "tags": []
   },
   "outputs": [],
   "source": [
    "# e = ca.SX.sym('e', 3)\n",
    "# e1 = ca.vertcat(1, 0, 0)"
   ]
  },
  {
   "cell_type": "code",
   "execution_count": 15,
   "id": "cb3610bc-7e9e-4a4a-9d1e-9e38f6d825eb",
   "metadata": {
    "tags": []
   },
   "outputs": [],
   "source": [
    "# e = phi(Rh."
   ]
  }
 ],
 "metadata": {
  "kernelspec": {
   "display_name": "Python 3 (ipykernel)",
   "language": "python",
   "name": "python3"
  },
  "language_info": {
   "codemirror_mode": {
    "name": "ipython",
    "version": 3
   },
   "file_extension": ".py",
   "mimetype": "text/x-python",
   "name": "python",
   "nbconvert_exporter": "python",
   "pygments_lexer": "ipython3",
   "version": "3.10.12"
  }
 },
 "nbformat": 4,
 "nbformat_minor": 5
}
