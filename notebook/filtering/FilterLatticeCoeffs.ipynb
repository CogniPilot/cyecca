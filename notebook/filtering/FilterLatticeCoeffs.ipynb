{
 "cells": [
  {
   "cell_type": "code",
   "execution_count": 111,
   "id": "25f73b82-d455-44c7-9567-cad7faaf5979",
   "metadata": {
    "tags": []
   },
   "outputs": [],
   "source": [
    "import sympy\n",
    "import numpy as np\n",
    "\n",
    "def tf2latc(b, a):\n",
    "    # see: DOI: 10.1109/TAU.1973.1162522 Digital Lattice Ladder Filter Synthesis (Gray, Markel)\n",
    "    def drop_small_coeffs(expr, var, tol):\n",
    "        poly = sympy.Poly(expr, [var, 1/var])\n",
    "        to_remove = [abs(i) for i in poly.coeffs() if abs(i) < tol]\n",
    "        for i in to_remove:\n",
    "            poly = poly.subs(i, 0)\n",
    "        return poly.as_expr()\n",
    "\n",
    "    w = sympy.symbols('w')\n",
    "    M = len(b) - 1\n",
    "    PM = 0\n",
    "    AM = 0\n",
    "    for n in range(M+1):\n",
    "        PM += b[M-n]*w**(M-n)\n",
    "        AM += a[M-n]*w**(M-n)\n",
    "    #G = PM/AM\n",
    "\n",
    "    k = sympy.Matrix.zeros(M, 1)\n",
    "    v = sympy.Matrix.zeros(M+1, 1)\n",
    "\n",
    "    Am = AM\n",
    "    Pm = PM\n",
    "    for m in range(M, 0, -1):\n",
    "        #print('\\n\\nm', m)\n",
    "        #print('Am:\\t', Am)\n",
    "        #print('Am coeffs', sympy.Poly(Am, w).coeffs())\n",
    "        k[m-1] = sympy.Poly(Am, w).coeffs()[0]\n",
    "        #print('am[m]',  k[m-1])\n",
    "        z_Bm = (Am.subs(w, 1/w)*w**m).simplify()\n",
    "        #print('z_Bm:\\t', z_Bm)\n",
    "        #print('Pm', Pm)\n",
    "        v[m] = sympy.Poly(Pm, w).coeffs()[0]\n",
    "        #print('v[m]', v[m])\n",
    "\n",
    "        # next step\n",
    "        Am = drop_small_coeffs((Am - k[m-1]*z_Bm).expand()/(1 - k[m-1]**2), w, 1e-10)\n",
    "        Pm = drop_small_coeffs(Pm - z_Bm*v[m], w, 1e-10)\n",
    "\n",
    "    v[0] = sympy.Poly(Pm, w).coeffs()[0]\n",
    "    return (np.array(k[:], dtype=float), np.array(v[:], dtype=float))"
   ]
  },
  {
   "cell_type": "code",
   "execution_count": 46,
   "id": "8ff39b6c-7033-4ed4-9a4f-7471e0f31f5f",
   "metadata": {
    "tags": []
   },
   "outputs": [],
   "source": [
    "def q31_to_double(q31_value, shift):\n",
    "    if q31_value > 1 << 31 or q31_value < - (1 << 31):\n",
    "        raise IOError(\"out of range\")\n",
    "    return q31_value / ( 1<< (31 - shift))"
   ]
  },
  {
   "cell_type": "code",
   "execution_count": 47,
   "id": "269d7b65-56d0-48d5-9a52-81bab43a9275",
   "metadata": {
    "tags": []
   },
   "outputs": [],
   "source": [
    "def double_to_q31(value, shift):\n",
    "    return int(value * ( 1<< (31 - shift)))"
   ]
  },
  {
   "cell_type": "code",
   "execution_count": 110,
   "id": "88139490-6138-454e-a148-fdb0c405dc84",
   "metadata": {
    "tags": []
   },
   "outputs": [
    {
     "name": "stdout",
     "output_type": "stream",
     "text": [
      "k:  [-0.99981143  0.99977812 -0.99902359  0.92824057]\n",
      "v:  [ 6.14211180e-07  1.09028114e-06  2.09173736e-04 -4.87393617e-04\n",
      "  9.69307000e-03]\n"
     ]
    }
   ],
   "source": [
    "b = [ 0.00969307, -0.0385379 ,  0.05769036, -0.0385379 ,  0.00969307]\n",
    "a = [ 1.        , -3.92553715,  5.77937447, -3.78207718,  0.92824057]\n",
    "k, v = tf2latc(b, a)\n",
    "print('k: ', k)\n",
    "print('v: ', v)"
   ]
  },
  {
   "cell_type": "code",
   "execution_count": 91,
   "id": "0ce7dc3e-ce2f-4995-9922-f0b8b84a824b",
   "metadata": {
    "tags": []
   },
   "outputs": [
    {
     "name": "stdout",
     "output_type": "stream",
     "text": [
      "k shift 1 [1993381445, -2145386814, 2147007153, -2147078688]\n",
      "v shift 1 [20815709, -1046669, 449197, 2341, 1319]\n"
     ]
    }
   ],
   "source": [
    "print('k shift 1', [double_to_q31(ki, 0) for ki in reversed(k)])\n",
    "print('v shift 1', [double_to_q31(vi, 0) for vi in reversed(v)])\n"
   ]
  },
  {
   "cell_type": "code",
   "execution_count": 105,
   "id": "78fcb209-426f-45f7-97ec-c015cbdb1268",
   "metadata": {},
   "outputs": [
    {
     "name": "stdout",
     "output_type": "stream",
     "text": [
      "k:  [1.]\n",
      "v:  [1. 1.]\n"
     ]
    }
   ],
   "source": [
    "b = [0, 1]\n",
    "a = [0, 1]\n",
    "k, v = tf2latc(b, a)\n",
    "print('k: ', k)\n",
    "print('v: ', v)"
   ]
  },
  {
   "cell_type": "code",
   "execution_count": null,
   "id": "a47052d1-7345-4d70-a02d-f34487307dfa",
   "metadata": {},
   "outputs": [],
   "source": [
    "print('k: ', list(reversed(k)))\n",
    "print('v: ', list(reversed(v)))"
   ]
  }
 ],
 "metadata": {
  "kernelspec": {
   "display_name": "Python 3 (ipykernel)",
   "language": "python",
   "name": "python3"
  },
  "language_info": {
   "codemirror_mode": {
    "name": "ipython",
    "version": 3
   },
   "file_extension": ".py",
   "mimetype": "text/x-python",
   "name": "python",
   "nbconvert_exporter": "python",
   "pygments_lexer": "ipython3",
   "version": "3.10.12"
  }
 },
 "nbformat": 4,
 "nbformat_minor": 5
}
