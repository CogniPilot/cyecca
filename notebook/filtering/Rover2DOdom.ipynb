{
 "cells": [
  {
   "cell_type": "code",
   "execution_count": 1,
   "id": "f9795d87-1a39-4ace-9c34-89029f9ed5da",
   "metadata": {
    "tags": []
   },
   "outputs": [],
   "source": [
    "from cyecca import lie\n",
    "import casadi as ca\n",
    "import numpy as np\n",
    "import matplotlib.pyplot as plt\n",
    "import pathlib"
   ]
  },
  {
   "cell_type": "markdown",
   "id": "f94608fc-b59d-45c8-9205-335d4a6e113c",
   "metadata": {
    "tags": []
   },
   "source": [
    "$\\dot{x} = u \\cos(\\theta)$\n",
    "\n",
    "$\\dot{y} = u \\sin(\\theta)$\n",
    "\n",
    "$\\dot{\\theta} = \\dfrac{u}{l} \\tan{\\delta}$"
   ]
  },
  {
   "cell_type": "code",
   "execution_count": 2,
   "id": "69251611-e912-4ed9-9492-29b1db9dfac9",
   "metadata": {
    "tags": []
   },
   "outputs": [],
   "source": [
    "# define symbols\n",
    "x = ca.SX.sym(\"x\")  # x position in world frame of rear axle (north)\n",
    "y = ca.SX.sym(\"y\")  # y position in world frame of rear axle (east)\n",
    "theta = ca.SX.sym(\"theta\")  # angular heading in world frame (rotation about down)\n",
    "u = ca.SX.sym(\"u\")  # forward velocity, along body x\n",
    "delta = ca.SX.sym(\"delta\")  # steering angle, positive rotation about body down\n",
    "l = ca.SX.sym(\"l\")  # length between rear wheel and front wheels\n",
    "dt = ca.SX.sym(\"dt\")  # time stemp"
   ]
  },
  {
   "cell_type": "code",
   "execution_count": 3,
   "id": "7139804c-e00c-4baa-bf6f-5e79a2a3f0d9",
   "metadata": {
    "tags": []
   },
   "outputs": [
    {
     "data": {
      "text/plain": [
       "SX(@1=cos(theta), @2=sin(theta), \n",
       "[[@1, (-@2), x], \n",
       " [@2, @1, y], \n",
       " [00, 00, 1]])"
      ]
     },
     "execution_count": 3,
     "metadata": {},
     "output_type": "execute_result"
    }
   ],
   "source": [
    "G = lie.SE2\n",
    "X = G.elem(ca.vertcat(x, y, theta))\n",
    "X.to_Matrix()"
   ]
  },
  {
   "cell_type": "code",
   "execution_count": 4,
   "id": "94a13b65-74e6-4e97-9e0a-97965c3658d2",
   "metadata": {
    "tags": []
   },
   "outputs": [
    {
     "name": "stdout",
     "output_type": "stream",
     "text": [
      "<class 'casadi.casadi.SX'>\n"
     ]
    },
    {
     "data": {
      "text/plain": [
       "SX(@1=((u/l)*tan(delta)), \n",
       "[[00, (-@1), u], \n",
       " [@1, 00, 0], \n",
       " [00, 00, 00]])"
      ]
     },
     "execution_count": 4,
     "metadata": {},
     "output_type": "execute_result"
    }
   ],
   "source": [
    "omega = u / l * ca.tan(delta)\n",
    "v = G.algebra.elem(ca.vertcat(u, 0, omega))\n",
    "v.to_Matrix()"
   ]
  },
  {
   "cell_type": "code",
   "execution_count": 5,
   "id": "b09a06d7-506c-4482-ac0b-c39a55c0566f",
   "metadata": {
    "tags": []
   },
   "outputs": [
    {
     "data": {
      "text/plain": [
       "SE2LieGroup: SX(@1=0, [@1, @1, @1])"
      ]
     },
     "execution_count": 5,
     "metadata": {},
     "output_type": "execute_result"
    }
   ],
   "source": [
    "G.algebra.elem(ca.vertcat(0, 0, 0)).exp(G)"
   ]
  },
  {
   "cell_type": "code",
   "execution_count": 6,
   "id": "280b0de8-c744-4a03-abf3-539ca388bb55",
   "metadata": {
    "tags": []
   },
   "outputs": [
    {
     "data": {
      "text/plain": [
       "SE2LieGroup: SX(@1=((u/l)*tan(delta)), @2=1e-07, @3=(fabs(@1)<@2), @4=1, @5=(fabs(@1)<@2), [(((@3?((@4+(-0.166667*sq(@1)))+(0.00833333*sq(sq(@1)))):0)+((!@3)?(sin(@1)/@1):0))*u), (((@5?(((0.5*@1)+(-0.0416667*(@1*sq(@1))))+(0.00138889*(@1*sq(sq(@1))))):0)+((!@5)?((@4-cos(@1))/@1):0))*u), @1])"
      ]
     },
     "execution_count": 6,
     "metadata": {},
     "output_type": "execute_result"
    }
   ],
   "source": [
    "v.exp(G)"
   ]
  },
  {
   "cell_type": "code",
   "execution_count": 7,
   "id": "bb6f8e91-b89b-4ac7-9830-15867a25dd0d",
   "metadata": {
    "tags": []
   },
   "outputs": [
    {
     "data": {
      "text/plain": [
       "SE2LieGroup: SX(@1=cos(theta), @2=((u/l)*tan(delta)), @3=1e-07, @4=(fabs(@2)<@3), @5=1, @6=(((@4?((@5+(-0.166667*sq(@2)))+(0.00833333*sq(sq(@2)))):0)+((!@4)?(sin(@2)/@2):0))*u), @7=sin(theta), @8=(fabs(@2)<@3), @9=(((@8?(((0.5*@2)+(-0.0416667*(@2*sq(@2))))+(0.00138889*(@2*sq(sq(@2))))):0)+((!@8)?((@5-cos(@2))/@2):0))*u), [(((@1*@6)-(@7*@9))+x), (((@7*@6)+(@1*@9))+y), (theta+@2)])"
      ]
     },
     "execution_count": 7,
     "metadata": {},
     "output_type": "execute_result"
    }
   ],
   "source": [
    "X + v"
   ]
  },
  {
   "cell_type": "code",
   "execution_count": 8,
   "id": "ad7785d6-7a4d-4f06-bdcf-e36e55204443",
   "metadata": {
    "tags": []
   },
   "outputs": [],
   "source": [
    "X1 = X + v\n",
    "f_predict = ca.Function(\n",
    "    \"predict\", [X.param, delta, u, l], [X1.param], [\"x0\", \"delta\", \"u\", \"l\"], [\"x1\"]\n",
    ")"
   ]
  },
  {
   "cell_type": "code",
   "execution_count": 9,
   "id": "9d8d0e23-7116-4bd6-ad4a-5b0400d0a69c",
   "metadata": {
    "tags": []
   },
   "outputs": [],
   "source": [
    "def simulate():\n",
    "    x = np.array([0, 0, 0])\n",
    "    l = 0.225\n",
    "    dt = 0.01\n",
    "    tf = 10\n",
    "    data = {\n",
    "        \"t\": [],\n",
    "        \"x\": [],\n",
    "        \"u\": [],\n",
    "        \"delta\": [],\n",
    "    }\n",
    "    for t in np.arange(0, tf, dt):\n",
    "        data[\"t\"].append(np.array(t))\n",
    "        data[\"x\"].append(x)\n",
    "        u = np.sin(2 * np.pi * 2 * 0.4 * t) * dt\n",
    "        delta = np.cos(2 * np.pi * 0.1 * t)\n",
    "        x = np.array(f_predict(x, delta, u, l)).reshape(-1)\n",
    "\n",
    "    for k in data.keys():\n",
    "        data[k] = np.array(data[k])\n",
    "\n",
    "    return data\n",
    "\n",
    "\n",
    "data = simulate()"
   ]
  },
  {
   "cell_type": "code",
   "execution_count": 10,
   "id": "4b29759e-28d2-4740-8580-9e0d71f0bc27",
   "metadata": {
    "tags": []
   },
   "outputs": [
    {
     "data": {
      "text/plain": [
       "[<matplotlib.lines.Line2D at 0x7fb3242fa740>]"
      ]
     },
     "execution_count": 10,
     "metadata": {},
     "output_type": "execute_result"
    },
    {
     "data": {
      "image/png": "[encoded data removed]",
      "text/plain": [
       "<Figure size 640x480 with 1 Axes>"
      ]
     },
     "metadata": {},
     "output_type": "display_data"
    }
   ],
   "source": [
    "plt.plot(data[\"x\"][:, 0], data[\"x\"][:, 1], \"-\")"
   ]
  },
  {
   "cell_type": "code",
   "execution_count": 11,
   "id": "5faaae9e-d1ff-447c-a345-072378035fbb",
   "metadata": {
    "tags": []
   },
   "outputs": [],
   "source": [
    "eqs = {\"rover2d\": {\"predict\": f_predict}}"
   ]
  },
  {
   "cell_type": "code",
   "execution_count": 12,
   "id": "5cffcc51-e998-4cd8-9545-bef29cba3012",
   "metadata": {
    "tags": []
   },
   "outputs": [],
   "source": [
    "from pathlib import Path\n",
    "\n",
    "\n",
    "def generate_code(eqs: dict, dest_dir: str, **kwargs):\n",
    "    dest_dir = Path(dest_dir)\n",
    "    p = {\n",
    "        \"verbose\": True,\n",
    "        \"mex\": False,\n",
    "        \"cpp\": False,\n",
    "        \"main\": False,\n",
    "        \"with_header\": True,\n",
    "        \"with_mem\": False,\n",
    "        \"with_export\": False,\n",
    "        \"with_import\": False,\n",
    "        \"include_math\": True,\n",
    "        \"avoid_stack\": True,\n",
    "    }\n",
    "    for k, v in kwargs.items():\n",
    "        assert k in p.keys()\n",
    "        p[k] = v\n",
    "\n",
    "    for name, eqs in eqs.items():\n",
    "        filename = \"{:s}.c\".format(name)\n",
    "        gen = ca.CodeGenerator(filename, p)\n",
    "        for f_name in eqs:\n",
    "            gen.add(eqs[f_name])\n",
    "\n",
    "        dest_dir = pathlib.Path(dest_dir)\n",
    "        dest_dir.mkdir(exist_ok=True)\n",
    "\n",
    "        gen.generate(str(dest_dir) + pathlib.os.sep)"
   ]
  },
  {
   "cell_type": "code",
   "execution_count": 13,
   "id": "09c53189-674c-4cd2-9a52-4598c3c122fb",
   "metadata": {
    "tags": []
   },
   "outputs": [],
   "source": [
    "generate_code(eqs, \"gen\")"
   ]
  }
 ],
 "metadata": {
  "kernelspec": {
   "display_name": "Python 3 (ipykernel)",
   "language": "python",
   "name": "python3"
  },
  "language_info": {
   "codemirror_mode": {
    "name": "ipython",
    "version": 3
   },
   "file_extension": ".py",
   "mimetype": "text/x-python",
   "name": "python",
   "nbconvert_exporter": "python",
   "pygments_lexer": "ipython3",
   "version": "3.10.12"
  }
 },
 "nbformat": 4,
 "nbformat_minor": 5
}
