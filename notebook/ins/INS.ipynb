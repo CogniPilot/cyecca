{
 "cells": [
  {
   "cell_type": "code",
   "execution_count": 1,
   "id": "703b73c5-d483-4cec-b0e9-46ff6935138b",
   "metadata": {
    "tags": []
   },
   "outputs": [],
   "source": [
    "import cyecca.util\n",
    "from cyecca import lie\n",
    "import casadi as ca\n",
    "import numpy as np\n",
    "import cyecca"
   ]
  },
  {
   "cell_type": "code",
   "execution_count": 2,
   "id": "b9da59e9-9602-4c64-a42b-e547419e509b",
   "metadata": {
    "tags": []
   },
   "outputs": [],
   "source": [
    "a = ca.SX.sym(\"a\", 3)\n",
    "omega = ca.SX.sym(\"omega\", 3)\n",
    "\n",
    "std_vel = ca.SX.sym(\"std_vel\")\n",
    "std_acc = ca.SX.sym(\"std_acc\")\n",
    "std_rot = ca.SX.sym(\"std_rot\")\n",
    "\n",
    "W = ca.SX.sym(\"W\", ca.Sparsity.lower(9))\n",
    "nu = lie.se23.elem(ca.vertcat(a, ca.SX.zeros(3, 1), omega))\n",
    "\n",
    "Q = ca.SX.sym(\"Q\", ca.Sparsity.diag(9))\n",
    "Q = ca.diagcat(\n",
    "    std_vel**2,\n",
    "    std_vel**2,\n",
    "    std_vel**2,\n",
    "    std_acc**2,\n",
    "    std_acc**2,\n",
    "    std_acc**2,\n",
    "    std_rot**2,\n",
    "    std_rot**2,\n",
    "    std_rot**2,\n",
    ")\n",
    "F = nu.ad()\n",
    "B = ca.SX.eye(9)\n",
    "W_dot_lt = ca.tril(cyecca.util.sqrt_covariance_predict(W, F, Q))\n",
    "f_W_dot_lt = ca.Function(\n",
    "    \"f_cov_predict\",\n",
    "    [W, a, omega, std_vel, std_acc, std_rot],\n",
    "    [W_dot_lt],\n",
    "    [\"W\", \"a\", \"omega\", \"std_vel\", \"std_acc\", \"std_rot\"],\n",
    "    [\"W_dot_lt\"],\n",
    ")\n",
    "\n",
    "dt = ca.SX.sym(\"dt\")\n",
    "W1 = cyecca.util.rk4(\n",
    "    lambda t, y: f_W_dot_lt(W, a, omega, std_vel, std_acc, std_rot), 0, W, dt\n",
    ")"
   ]
  },
  {
   "cell_type": "code",
   "execution_count": 3,
   "id": "4d8c1e11-daad-4a97-8d5b-94557c43d0aa",
   "metadata": {
    "tags": []
   },
   "outputs": [
    {
     "data": {
      "text/plain": [
       "SO3MrpLieGroup: SX(@1=0, [@1, @1, 0.255342])"
      ]
     },
     "execution_count": 3,
     "metadata": {},
     "output_type": "execute_result"
    }
   ],
   "source": [
    "Xh = lie.SE23Mrp.elem(ca.SX.sym(\"Xh\", 9))\n",
    "y_mag = lie.r3.elem(ca.SX.sym(\"y_mag\", 3))\n",
    "B_w = lie.r3.elem(ca.SX.sym(\"B_w\", 3))\n",
    "\n",
    "\n",
    "y_mag_hat = Xh.R.inverse() @ B_w\n",
    "e_mag = y_mag - y_mag_hat\n",
    "\n",
    "lie.SO3Mrp.from_Euler(lie.SO3EulerB321.elem(ca.vertcat(1, 0, 0)))"
   ]
  },
  {
   "cell_type": "code",
   "execution_count": 4,
   "id": "0a77c398-9e04-46de-9a0a-fb4130e1fac0",
   "metadata": {
    "tags": []
   },
   "outputs": [
    {
     "data": {
      "text/latex": [
       "$\\displaystyle \\left[\\begin{matrix}\\sin{\\left(mag_{decl} \\right)} \\cos{\\left(mag_{incl} \\right)}\\\\\\cos{\\left(mag_{decl} \\right)} \\cos{\\left(mag_{incl} \\right)}\\\\- \\sin{\\left(mag_{incl} \\right)}\\end{matrix}\\right]$"
      ],
      "text/plain": [
       "Matrix([\n",
       "[sin(mag_decl)*cos(mag_incl)],\n",
       "[cos(mag_decl)*cos(mag_incl)],\n",
       "[             -sin(mag_incl)]])"
      ]
     },
     "execution_count": 4,
     "metadata": {},
     "output_type": "execute_result"
    }
   ],
   "source": [
    "mag_incl = ca.SX.sym(\"mag_incl\")\n",
    "mag_decl = ca.SX.sym(\"mag_decl\")\n",
    "\n",
    "# using ENU\n",
    "east_hat = lie.r3.elem(ca.vertcat(1, 0, 0))\n",
    "north_hat = lie.r3.elem(ca.vertcat(0, 1, 0))\n",
    "up_hat = lie.r3.elem(ca.vertcat(0, 0, 1))\n",
    "\n",
    "b_w = lie.SO3EulerB321.elem(ca.vertcat(-mag_decl, 0, -mag_incl)) @ north_hat\n",
    "cyecca.symbolic.casadi_to_sympy(b_w.param)"
   ]
  },
  {
   "cell_type": "code",
   "execution_count": 5,
   "id": "810ad596-f8fe-453b-87c0-cfa0e036c06f",
   "metadata": {
    "tags": []
   },
   "outputs": [
    {
     "data": {
      "text/plain": [
       "SX(@1=1, @2=8, @3=((sq(Xh_6)+sq(Xh_7))+sq(Xh_8)), @4=sq((@1+@3)), @5=(4*(@1-@3)), atan2(((((@1-((@2*(sq(Xh_8)+sq(Xh_7)))/@4))*y_mag_0)+((((@2*(Xh_6*Xh_7))+(@5*Xh_8))/@4)*y_mag_1))+((((@2*(Xh_6*Xh_8))-(@5*Xh_7))/@4)*y_mag_2)),((((((@2*(Xh_7*Xh_6))-(@5*Xh_8))/@4)*y_mag_0)+((@1-((@2*(sq(Xh_8)+sq(Xh_6)))/@4))*y_mag_1))+((((@2*(Xh_7*Xh_8))+(@5*Xh_6))/@4)*y_mag_2))))"
      ]
     },
     "execution_count": 5,
     "metadata": {},
     "output_type": "execute_result"
    }
   ],
   "source": [
    "y_mag_w = Xh.R.inverse() @ y_mag\n",
    "psi_m = ca.atan2(y_mag_w.param[0], y_mag_w.param[1])\n",
    "psi_m"
   ]
  },
  {
   "cell_type": "code",
   "execution_count": 6,
   "id": "adafbf11-f1e7-4809-a842-fe321772543f",
   "metadata": {
    "tags": []
   },
   "outputs": [
    {
     "data": {
      "text/latex": [
       "$\\displaystyle \\operatorname{atan}_{2}{\\left(\\sin{\\left(mag_{decl} \\right)} \\cos{\\left(mag_{incl} \\right)},\\cos{\\left(mag_{decl} \\right)} \\cos{\\left(mag_{incl} \\right)} \\right)}$"
      ],
      "text/plain": [
       "atan2(sin(mag_decl)*cos(mag_incl), cos(mag_decl)*cos(mag_incl))"
      ]
     },
     "execution_count": 6,
     "metadata": {},
     "output_type": "execute_result"
    }
   ],
   "source": [
    "psi_hat = ca.atan2(b_w.param[0], b_w.param[1])\n",
    "import sympy\n",
    "\n",
    "sympy.simplify(\n",
    "    cyecca.symbolic.casadi_to_sympy(psi_hat)\n",
    ")  # just mag_decl, but should use this to figure out uncertainty?"
   ]
  },
  {
   "cell_type": "code",
   "execution_count": 7,
   "id": "a7563f31-bae0-4460-9ab6-e7d3c1da1366",
   "metadata": {
    "tags": []
   },
   "outputs": [
    {
     "data": {
      "text/plain": [
       "SX(@1=1, @2=8, @3=((sq(Xh_6)+sq(Xh_7))+sq(Xh_8)), @4=sq((@1+@3)), @5=(4*(@1-@3)), (atan2(((((@1-((@2*(sq(Xh_8)+sq(Xh_7)))/@4))*y_mag_0)+((((@2*(Xh_6*Xh_7))+(@5*Xh_8))/@4)*y_mag_1))+((((@2*(Xh_6*Xh_8))-(@5*Xh_7))/@4)*y_mag_2)),((((((@2*(Xh_7*Xh_6))-(@5*Xh_8))/@4)*y_mag_0)+((@1-((@2*(sq(Xh_8)+sq(Xh_6)))/@4))*y_mag_1))+((((@2*(Xh_7*Xh_8))+(@5*Xh_6))/@4)*y_mag_2)))-mag_decl))"
      ]
     },
     "execution_count": 7,
     "metadata": {},
     "output_type": "execute_result"
    }
   ],
   "source": [
    "psi_m - mag_decl"
   ]
  },
  {
   "cell_type": "code",
   "execution_count": 8,
   "id": "12c0b7c4-ef57-4922-ab3d-b15bc94dad17",
   "metadata": {
    "tags": []
   },
   "outputs": [
    {
     "data": {
      "text/plain": [
       "DM(0)"
      ]
     },
     "execution_count": 8,
     "metadata": {},
     "output_type": "execute_result"
    }
   ],
   "source": [
    "crz = lie.SO3EulerB321.elem(ca.vertcat(psi_m - mag_decl, 0, 0)).log().param[2]\n",
    "f_crz = ca.Function(\"f_crz\", [Xh.param, y_mag.param, mag_decl], [crz])\n",
    "f_crz([0, 0, 0, 0, 0, 0, 0, 0, 0], [0, 0, 0], 0)"
   ]
  },
  {
   "cell_type": "code",
   "execution_count": 9,
   "id": "862f2fd4-4599-41c7-bb01-4b278f49ddcc",
   "metadata": {
    "tags": []
   },
   "outputs": [
    {
     "data": {
      "text/plain": [
       "SX(@1=2, @2=0, @3=1, @4=8, @5=((sq(Xh_6)+sq(Xh_7))+sq(Xh_8)), @6=sq((@3+@5)), @7=4, @8=(@7*(@3-@5)), @9=(atan2(((((@3-((@4*(sq(Xh_8)+sq(Xh_7)))/@6))*y_mag_0)+((((@4*(Xh_6*Xh_7))+(@8*Xh_8))/@6)*y_mag_1))+((((@4*(Xh_6*Xh_8))-(@8*Xh_7))/@6)*y_mag_2)),((((((@4*(Xh_7*Xh_6))-(@8*Xh_8))/@6)*y_mag_0)+((@3-((@4*(sq(Xh_8)+sq(Xh_6)))/@6))*y_mag_1))+((((@4*(Xh_7*Xh_8))+(@8*Xh_6))/@6)*y_mag_2)))-mag_decl), @10=cos(@9), @11=(@2<((@10+@10)+@3)), @12=(!@11), @13=(@2&&(@3<@10)), @14=(!@13), @15=(@3<@10), @16=nan, @17=(@12?(@13?(@12?(@14?(@15?@16:0):0):0):0):0), @18=0.5, @19=(@18*sqrt((((@3+@10)+@10)+@3))), @20=(!@15), @21=sin(@9), @22=(@18*sqrt((((@3-@10)-@10)+@3))), @23=((@11?@19:0)+(@12?((@13?@16:0)+(@14?((@15?@16:0)+(@20?((@21+@21)/(@7*@22)):0)):0)):0)), @24=((@11?((@21+@21)/(@7*@19)):0)+(@12?((@13?@16:0)+(@14?((@15?@16:0)+(@20?@22:0)):0)):0)), @25=(@23*@24), @26=sq(@23), @27=(@12?(@14?(@15?(@12?(@14?(@15?@16:0):0):0):0):0):0), @28=(@12?(@13?(@12?(@13?@16:0):0):0):0), @29=sq(@24), @30=(((((((@26+@27)-@28)-@29)+(((@26+@28)-@27)-@29))+(((@26+@29)-@27)-@28))-@3)/@1), @31=(@30<-1), @32=((!(@3<@30))?((@31?3.14159:0)+((!@31)?acos(@30):0)):0), @33=(fabs(@32)<0.001), (((@1*(@17+@25))-(@1*(@17-@25)))*(((@33?((@3+(0.166667*sq(@32)))+(0.0194444*sq(sq(@32)))):0)+((!@33)?(@32/sin(@32)):0))/@1)))"
      ]
     },
     "execution_count": 9,
     "metadata": {},
     "output_type": "execute_result"
    }
   ],
   "source": [
    "crz"
   ]
  },
  {
   "cell_type": "code",
   "execution_count": 10,
   "id": "dcc1a27e-dad0-413d-a0c9-6040e8ef5117",
   "metadata": {
    "tags": []
   },
   "outputs": [
    {
     "data": {
      "text/plain": [
       "SX(@1=2, @2=0, @3=1, @4=8, @5=((sq(Xh_6)+sq(Xh_7))+sq(Xh_8)), @6=sq((@3+@5)), @7=4, @8=(@7*(@3-@5)), @9=(atan2(((((@3-((@4*(sq(Xh_8)+sq(Xh_7)))/@6))*y_mag_0)+((((@4*(Xh_6*Xh_7))+(@8*Xh_8))/@6)*y_mag_1))+((((@4*(Xh_6*Xh_8))-(@8*Xh_7))/@6)*y_mag_2)),((((((@4*(Xh_7*Xh_6))-(@8*Xh_8))/@6)*y_mag_0)+((@3-((@4*(sq(Xh_8)+sq(Xh_6)))/@6))*y_mag_1))+((((@4*(Xh_7*Xh_8))+(@8*Xh_6))/@6)*y_mag_2)))-mag_decl), @10=cos(@9), @11=(@2<((@10+@10)+@3)), @12=(!@11), @13=(@2&&(@3<@10)), @14=(!@13), @15=(@3<@10), @16=nan, @17=(@12?(@13?(@12?(@14?(@15?@16:0):0):0):0):0), @18=0.5, @19=(@18*sqrt((((@3+@10)+@10)+@3))), @20=(!@15), @21=sin(@9), @22=(@18*sqrt((((@3-@10)-@10)+@3))), @23=((@11?@19:0)+(@12?((@13?@16:0)+(@14?((@15?@16:0)+(@20?((@21+@21)/(@7*@22)):0)):0)):0)), @24=((@11?((@21+@21)/(@7*@19)):0)+(@12?((@13?@16:0)+(@14?((@15?@16:0)+(@20?@22:0)):0)):0)), @25=(@23*@24), @26=sq(@23), @27=(@12?(@14?(@15?(@12?(@14?(@15?@16:0):0):0):0):0):0), @28=(@12?(@13?(@12?(@13?@16:0):0):0):0), @29=sq(@24), @30=(((((((@26+@27)-@28)-@29)+(((@26+@28)-@27)-@29))+(((@26+@29)-@27)-@28))-@3)/@1), @31=(@30<-1), @32=((!(@3<@30))?((@31?3.14159:0)+((!@31)?acos(@30):0)):0), @33=(fabs(@32)<0.001), (((@1*(@17+@25))-(@1*(@17-@25)))*(((@33?((@3+(0.166667*sq(@32)))+(0.0194444*sq(sq(@32)))):0)+((!@33)?(@32/sin(@32)):0))/@1)))"
      ]
     },
     "execution_count": 10,
     "metadata": {},
     "output_type": "execute_result"
    }
   ],
   "source": [
    "f_crz(Xh.param, y_mag.param, mag_decl)"
   ]
  },
  {
   "cell_type": "code",
   "execution_count": 11,
   "id": "75e4c8f9-074d-4614-8b94-1eb824bc6eac",
   "metadata": {
    "tags": []
   },
   "outputs": [
    {
     "data": {
      "text/plain": [
       "SX(@1=8, @2=1, @3=((sq(Xh_6)+sq(Xh_7))+sq(Xh_8)), @4=(4*(@2-@3)), @5=sq((@2+@3)), @6=asin((-(((@1*(Xh_8*Xh_6))-(@4*Xh_7))/@5))), @7=1.5708, @8=0.001, @9=(fabs((@6-@7))<@8), @10=(((@1*(Xh_7*Xh_8))-(@4*Xh_6))/@5), @11=(((@1*(Xh_6*Xh_8))+(@4*Xh_7))/@5), @12=(fabs((@6+@7))<@8), ((@9?atan2(@10,@11):0)+((!@9)?((@12?atan2((-@10),(-@11)):0)+((!@12)?atan2((((@1*(Xh_7*Xh_6))+(@4*Xh_8))/@5),(@2-((@1*(sq(Xh_8)+sq(Xh_7)))/@5))):0)):0)))"
      ]
     },
     "execution_count": 11,
     "metadata": {},
     "output_type": "execute_result"
    }
   ],
   "source": [
    "psi_h = lie.SO3EulerB321.from_Mrp(Xh.R).param[0]\n",
    "psi_h"
   ]
  },
  {
   "cell_type": "code",
   "execution_count": 12,
   "id": "596670ea-f7cb-4097-837a-f17a6915cbb3",
   "metadata": {
    "tags": []
   },
   "outputs": [
    {
     "data": {
      "text/plain": [
       "SO3MrpLieGroup: SX(@1=0, [@1, @1, 0.255342])"
      ]
     },
     "execution_count": 12,
     "metadata": {},
     "output_type": "execute_result"
    }
   ],
   "source": [
    "lie.SO3Mrp.from_Euler(lie.SO3EulerB321.elem(ca.vertcat(1, 0, 0)))"
   ]
  },
  {
   "cell_type": "code",
   "execution_count": 13,
   "id": "9469ef36-7db2-4604-87d8-80a9b534668e",
   "metadata": {
    "tags": []
   },
   "outputs": [
    {
     "data": {
      "text/plain": [
       "array([[ 0.9357548 , -0.28316496,  0.21019171,  0.        ,  0.        ,\n",
       "         0.        , -0.12698783, -0.25970727,  0.21546746],\n",
       "       [ 0.30293271,  0.95058062, -0.06803132,  0.        ,  0.        ,\n",
       "         0.        ,  0.29878045, -0.09768295, -0.03447152],\n",
       "       [-0.18054008,  0.12733457,  0.97529031,  0.        ,  0.        ,\n",
       "         0.        , -0.15685769,  0.15169105, -0.04884147],\n",
       "       [ 0.        ,  0.        ,  0.        ,  0.9357548 , -0.28316496,\n",
       "         0.21019171,  0.        ,  0.        ,  0.        ],\n",
       "       [ 0.        ,  0.        ,  0.        ,  0.30293271,  0.95058062,\n",
       "        -0.06803132,  0.        ,  0.        ,  0.        ],\n",
       "       [ 0.        ,  0.        ,  0.        , -0.18054008,  0.12733457,\n",
       "         0.97529031,  0.        ,  0.        ,  0.        ],\n",
       "       [ 0.        ,  0.        ,  0.        ,  0.        ,  0.        ,\n",
       "         0.        ,  0.9357548 , -0.28316496,  0.21019171],\n",
       "       [ 0.        ,  0.        ,  0.        ,  0.        ,  0.        ,\n",
       "         0.        ,  0.30293271,  0.95058062, -0.06803132],\n",
       "       [ 0.        ,  0.        ,  0.        ,  0.        ,  0.        ,\n",
       "         0.        , -0.18054008,  0.12733457,  0.97529031]])"
      ]
     },
     "execution_count": 13,
     "metadata": {},
     "output_type": "execute_result"
    }
   ],
   "source": [
    "f_F = ca.Function(\"F\", [a, omega, dt], [(nu * dt).exp(lie.SE23Mrp).Ad()])\n",
    "F = f_F(a, omega, dt)\n",
    "\n",
    "x_00 = ca.SX.sym(\"x_00\", 9, 1)\n",
    "\n",
    "x_10 = F @ x_00\n",
    "\n",
    "np.array(f_F([1, 2, 3], [1, 2, 3], 0.1))"
   ]
  },
  {
   "cell_type": "code",
   "execution_count": 14,
   "id": "44a11cf5-ee88-46af-9036-f89ca191f22e",
   "metadata": {
    "tags": []
   },
   "outputs": [
    {
     "data": {
      "text/plain": [
       "SX(@1=1, @2=8, @3=(dt*omega_1), @4=(dt*omega_0), @5=(dt*omega_2), @6=((sq(@4)+sq(@3))+sq(@5)), @7=0.001, @8=(fabs(@6)<@7), @9=((@8?(((((0.166667+(-0.00833333*@6))+(-2.75573e-06*(@6*sq(@6))))+(-1.6059e-10*(@6*sq(sq(@6)))))+(0.000198413*sq(@6)))+(2.50521e-08*sq(sq(@6)))):0)+((!@8)?(pow(@6,-1.5)*(sqrt(@6)-sin(sqrt(@6)))):0)), @10=(@9*@4), @11=(fabs(@6)<@7), @12=0.5, @13=((@11?(((((@12+(-0.0416667*@6))+(-2.48016e-05*(@6*sq(@6))))+(-2.08768e-09*(@6*sq(sq(@6)))))+(0.00138889*sq(@6)))+(2.75573e-07*sq(sq(@6)))):0)+((!@11)?((@1-cos(sqrt(@6)))/@6):0)), @14=((@10*@5)-(@13*@3)), @15=(@9*@4), @16=((@13*@5)+(@15*@3)), @17=((@3*@14)-(@5*@16)), @18=(@1+@17), @19=(@9*@3), @20=((@19*@4)-(@13*@5)), @21=(@9*@3), @22=((@13*@4)+(@21*@5)), @23=(@1+((@5*@20)-(@4*@22))), @24=(@9*@5), @25=((@24*@3)-(@13*@4)), @26=(@9*@5), @27=((@13*@3)+(@26*@4)), @28=(@1+((@4*@25)-(@3*@27))), @29=(0<((@18+@23)+@28)), @30=(@1-((@24*@5)+(@15*@4))), @31=((@4*@30)-(@3*@20)), @32=(@1-((@21*@3)+(@10*@4))), @33=((@5*@27)-(@4*@32)), @34=4, @35=(@12*sqrt((((@1+@18)+@23)+@28))), @36=(!@29), @37=((@23<@18)&&(@28<@18)), @38=(@12*sqrt((((@1+@18)-@23)-@28))), @39=(!@37), @40=(@28<@23), @41=((@3*@22)-(@5*@30)), @42=(@1-((@26*@5)+(@19*@3))), @43=((@5*@42)-(@4*@14)), @44=(@12*sqrt(((@23-@17)-@28))), @45=(!@40), @46=((@3*@32)-(@5*@25)), @47=((@4*@16)-(@3*@42)), @48=(@12*sqrt((@28-(@17+@23)))), @49=(@1+((@29?@35:0)+(@36?((@37?((@31-@33)/(@34*@38)):0)+(@39?((@40?((@46-@47)/(@34*@44)):0)+(@45?((@43-@41)/(@34*@48)):0)):0)):0))), @50=(((@29?((@31-@33)/(@34*@35)):0)+(@36?((@37?@38:0)+(@39?((@40?((@41+@43)/(@34*@44)):0)+(@45?((@46+@47)/(@34*@48)):0)):0)):0))/@49), @51=(((@29?((@46-@47)/(@34*@35)):0)+(@36?((@37?((@41+@43)/(@34*@38)):0)+(@39?((@40?@44:0)+(@45?((@33+@31)/(@34*@48)):0)):0)):0))/@49), @52=(((@29?((@43-@41)/(@34*@35)):0)+(@36?((@37?((@46+@47)/(@34*@38)):0)+(@39?((@40?((@33+@31)/(@34*@44)):0)+(@45?@48:0)):0)):0))/@49), @53=(@1<((sq(@50)+sq(@51))+sq(@52))), @54=((sq(@50)+sq(@51))+sq(@52)), @55=(!@53), @56=((@53?(-(@52/@54)):0)+(@55?@52:0)), @57=((@53?(-(@51/@54)):0)+(@55?@51:0)), @58=((@53?(-(@50/@54)):0)+(@55?@50:0)), @59=((sq(@58)+sq(@57))+sq(@56)), @60=sq((@1+@59)), @61=(@1-((@2*(sq(@56)+sq(@57)))/@60)), @62=(@34*(@1-@59)), @63=(((@2*(@57*@58))+(@62*@56))/@60), @64=(((@2*(@56*@58))-(@62*@57))/@60), @65=(((@2*(@58*@57))-(@62*@56))/@60), @66=(@1-((@2*(sq(@56)+sq(@58)))/@60)), @67=(((@2*(@56*@57))+(@62*@58))/@60), @68=(((@2*(@58*@56))+(@62*@57))/@60), @69=(((@2*(@57*@56))-(@62*@58))/@60), @70=(@1-((@2*(sq(@57)+sq(@58)))/@60)), @71=(dt*a_0), @72=(dt*a_2), @73=(dt*a_1), @74=((@13*@71)+((@19*@72)-(@26*@73))), @75=((@13*@72)+((@10*@73)-(@21*@71))), @76=(((@5*@74)-(@4*@75))+@73), @77=((@13*@73)+((@24*@71)-(@15*@72))), @78=(((@4*@77)-(@3*@74))+@72), @79=(((@3*@75)-(@5*@77))+@71), \n",
       "[[@61, @65, @68, 00, 00, 00, ((@76*@64)-(@78*@63)), ((@76*@67)-(@78*@66)), ((@76*@70)-(@78*@69))], \n",
       " [@63, @66, @69, 00, 00, 00, ((@78*@61)-(@79*@64)), ((@78*@65)-(@79*@67)), ((@78*@68)-(@79*@70))], \n",
       " [@64, @67, @70, 00, 00, 00, ((@79*@63)-(@76*@61)), ((@79*@66)-(@76*@65)), ((@79*@69)-(@76*@68))], \n",
       " [00, 00, 00, @61, @65, @68, 00, 00, 00], \n",
       " [00, 00, 00, @63, @66, @69, 00, 00, 00], \n",
       " [00, 00, 00, @64, @67, @70, 00, 00, 00], \n",
       " [00, 00, 00, 00, 00, 00, @61, @65, @68], \n",
       " [00, 00, 00, 00, 00, 00, @63, @66, @69], \n",
       " [00, 00, 00, 00, 00, 00, @64, @67, @70]])"
      ]
     },
     "execution_count": 14,
     "metadata": {},
     "output_type": "execute_result"
    }
   ],
   "source": [
    "f_F(a, omega, dt)"
   ]
  },
  {
   "cell_type": "markdown",
   "id": "0cbaa27f-0b98-4d8c-bc47-30cefc2cb085",
   "metadata": {},
   "source": [
    "# Covariance Prediction"
   ]
  },
  {
   "cell_type": "code",
   "execution_count": 15,
   "id": "f121c790-43ba-45bc-b2a9-b949d19a39d8",
   "metadata": {
    "tags": []
   },
   "outputs": [],
   "source": [
    "def derive_cov_sqrt_predict():\n",
    "    a = ca.SX.sym(\"a\", 3)\n",
    "    omega = ca.SX.sym(\"omega\", 3)\n",
    "\n",
    "    std_vel = ca.SX.sym(\"std_vel\")\n",
    "    std_acc = ca.SX.sym(\"std_acc\")\n",
    "    std_rot = ca.SX.sym(\"std_rot\")\n",
    "\n",
    "    W = ca.SX.sym(\"W\", ca.Sparsity.lower(9))\n",
    "    nu = lie.se23.elem(ca.vertcat(a, ca.SX.zeros(3, 1), omega))\n",
    "\n",
    "    Q = ca.SX.sym(\"Q\", ca.Sparsity.diag(9))\n",
    "    Q = ca.diagcat(\n",
    "        std_vel**2,\n",
    "        std_vel**2,\n",
    "        std_vel**2,\n",
    "        std_acc**2,\n",
    "        std_acc**2,\n",
    "        std_acc**2,\n",
    "        std_rot**2,\n",
    "        std_rot**2,\n",
    "        std_rot**2,\n",
    "    )\n",
    "    F = nu.ad()\n",
    "    B = ca.SX.eye(9)\n",
    "    W_dot_lt = ca.tril(cyecca.util.sqrt_covariance_predict(W, F, Q))\n",
    "    f_W_dot_lt = ca.Function(\n",
    "        \"f_cov_predict\",\n",
    "        [W, a, omega, std_vel, std_acc, std_rot],\n",
    "        [W_dot_lt],\n",
    "        [\"W\", \"a\", \"omega\", \"std_vel\", \"std_acc\", \"std_rot\"],\n",
    "        [\"W_dot_lt\"],\n",
    "    )\n",
    "\n",
    "    dt = ca.SX.sym(\"dt\")\n",
    "    W1 = cyecca.util.rk4(\n",
    "        lambda t, y: f_W_dot_lt(W, a, omega, std_vel, std_acc, std_rot), 0, W, dt\n",
    "    )\n",
    "\n",
    "    return ca.Function(\n",
    "        \"cov_sqrt_predict\",\n",
    "        [W, a, omega, std_vel, std_acc, std_rot, dt],\n",
    "        [W1],\n",
    "        [\"W\", \"a\", \"omega\", \"std_vel\", \"std_acc\", \"std_rot\", \"dt\"],\n",
    "        [\"W1\"],\n",
    "    )\n",
    "\n",
    "\n",
    "f_cov_sqrt_predict = derive_cov_sqrt_predict()"
   ]
  },
  {
   "cell_type": "code",
   "execution_count": 16,
   "id": "368b0b80-9977-481b-9d2a-9024ba0c9da6",
   "metadata": {
    "tags": []
   },
   "outputs": [
    {
     "data": {
      "text/plain": [
       "array([[ 7.39164,  0.     ,  0.     ,  0.     ,  0.     ,  0.     ,  0.     ,  0.     ,  0.     ],\n",
       "       [-1.08925,  6.42452,  0.     ,  0.     ,  0.     ,  0.     ,  0.     ,  0.     ,  0.     ],\n",
       "       [-1.63906, -4.05501,  1.74906,  0.     ,  0.     ,  0.     ,  0.     ,  0.     ,  0.     ],\n",
       "       [ 0.     ,  0.     ,  0.     ,  2.23969,  0.     ,  0.     ,  0.     ,  0.     ,  0.     ],\n",
       "       [ 0.     ,  0.     ,  0.     ,  0.     ,  2.23969,  0.     ,  0.     ,  0.     ,  0.     ],\n",
       "       [ 0.     ,  0.     ,  0.     , -0.     ,  0.     ,  2.23969,  0.     ,  0.     ,  0.     ],\n",
       "       [ 0.00022,  2.60619, -0.33359,  0.     ,  0.     ,  0.     ,  1.79103,  0.     ,  0.     ],\n",
       "       [-2.26587, -0.38356,  0.17048,  0.     ,  0.     ,  0.     ,  0.58833,  2.10766,  0.     ],\n",
       "       [ 1.50902, -0.6096 , -0.00283,  0.     ,  0.     ,  0.     ,  0.88303,  1.25367,  2.25231]])"
      ]
     },
     "execution_count": 16,
     "metadata": {},
     "output_type": "execute_result"
    }
   ],
   "source": [
    "def do_cov_sim():\n",
    "    np.set_printoptions(precision=5, linewidth=200, suppress=True)\n",
    "    W = 1 * np.eye(9)\n",
    "    a = np.array([1, 2, 3])\n",
    "    omega = np.array([1, 2, 3])\n",
    "    dt = 0.01\n",
    "    std_vel = 1\n",
    "    std_acc = 2\n",
    "    std_rot = 3\n",
    "    for i in range(100):\n",
    "        W = np.array(f_cov_sqrt_predict(W, a, omega, std_vel, std_acc, std_rot, dt))\n",
    "\n",
    "    return W\n",
    "\n",
    "\n",
    "do_cov_sim()"
   ]
  }
 ],
 "metadata": {
  "kernelspec": {
   "display_name": "cyecca (3.12.3)",
   "language": "python",
   "name": "python3"
  },
  "language_info": {
   "codemirror_mode": {
    "name": "ipython",
    "version": 3
   },
   "file_extension": ".py",
   "mimetype": "text/x-python",
   "name": "python",
   "nbconvert_exporter": "python",
   "pygments_lexer": "ipython3",
   "version": "3.12.3"
  }
 },
 "nbformat": 4,
 "nbformat_minor": 5
}
