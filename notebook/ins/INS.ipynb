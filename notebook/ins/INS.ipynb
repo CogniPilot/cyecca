{
 "cells": [
  {
   "cell_type": "code",
   "execution_count": 1,
   "id": "703b73c5-d483-4cec-b0e9-46ff6935138b",
   "metadata": {
    "tags": []
   },
   "outputs": [],
   "source": [
    "import cyecca.util\n",
    "from cyecca import lie\n",
    "import casadi as ca\n",
    "import numpy as np\n",
    "import cyecca"
   ]
  },
  {
   "cell_type": "code",
   "execution_count": 2,
   "id": "b9da59e9-9602-4c64-a42b-e547419e509b",
   "metadata": {
    "tags": []
   },
   "outputs": [],
   "source": [
    "a = ca.SX.sym(\"a\", 3)\n",
    "omega = ca.SX.sym(\"omega\", 3)\n",
    "\n",
    "std_vel = ca.SX.sym(\"std_vel\")\n",
    "std_acc = ca.SX.sym(\"std_acc\")\n",
    "std_rot = ca.SX.sym(\"std_rot\")\n",
    "\n",
    "W = ca.SX.sym(\"W\", ca.Sparsity_lower(9))\n",
    "nu = lie.se23.elem(ca.vertcat(a, ca.SX.zeros(3, 1), omega))\n",
    "\n",
    "Q = ca.SX.sym(\"Q\", ca.Sparsity_diag(9))\n",
    "Q = ca.diagcat(\n",
    "    std_vel**2,\n",
    "    std_vel**2,\n",
    "    std_vel**2,\n",
    "    std_acc**2,\n",
    "    std_acc**2,\n",
    "    std_acc**2,\n",
    "    std_rot**2,\n",
    "    std_rot**2,\n",
    "    std_rot**2,\n",
    ")\n",
    "F = nu.ad()\n",
    "B = ca.SX.eye(9)\n",
    "W_dot_lt = ca.tril(cyecca.util.sqrt_covariance_predict(W, F, Q))\n",
    "f_W_dot_lt = ca.Function(\n",
    "    \"f_cov_predict\",\n",
    "    [W, a, omega, std_vel, std_acc, std_rot],\n",
    "    [W_dot_lt],\n",
    "    [\"W\", \"a\", \"omega\", \"std_vel\", \"std_acc\", \"std_rot\"],\n",
    "    [\"W_dot_lt\"],\n",
    ")\n",
    "\n",
    "dt = ca.SX.sym(\"dt\")\n",
    "W1 = cyecca.util.rk4(\n",
    "    lambda t, y: f_W_dot_lt(W, a, omega, std_vel, std_acc, std_rot), 0, W, dt\n",
    ")"
   ]
  },
  {
   "cell_type": "code",
   "execution_count": 3,
   "id": "4d8c1e11-daad-4a97-8d5b-94557c43d0aa",
   "metadata": {
    "tags": []
   },
   "outputs": [
    {
     "data": {
      "text/plain": [
       "SO3MrpLieGroup: SX(@1=0, [@1, @1, 0.255342])"
      ]
     },
     "execution_count": 3,
     "metadata": {},
     "output_type": "execute_result"
    }
   ],
   "source": [
    "Xh = lie.SE23Mrp.elem(ca.SX.sym(\"Xh\", 9))\n",
    "y_mag = lie.r3.elem(ca.SX.sym(\"y_mag\", 3))\n",
    "B_w = lie.r3.elem(ca.SX.sym(\"B_w\", 3))\n",
    "\n",
    "\n",
    "y_mag_hat = Xh.R.inverse() @ B_w\n",
    "e_mag = y_mag - y_mag_hat\n",
    "\n",
    "lie.SO3Mrp.from_Euler(lie.SO3EulerB321.elem(ca.vertcat(1, 0, 0)))"
   ]
  },
  {
   "cell_type": "code",
   "execution_count": 4,
   "id": "0a77c398-9e04-46de-9a0a-fb4130e1fac0",
   "metadata": {
    "tags": []
   },
   "outputs": [
    {
     "data": {
      "text/latex": [
       "$\\displaystyle \\left[\\begin{matrix}\\sin{\\left(mag_{decl} \\right)} \\cos{\\left(mag_{incl} \\right)}\\\\\\cos{\\left(mag_{decl} \\right)} \\cos{\\left(mag_{incl} \\right)}\\\\- \\sin{\\left(mag_{incl} \\right)}\\end{matrix}\\right]$"
      ],
      "text/plain": [
       "Matrix([\n",
       "[sin(mag_decl)*cos(mag_incl)],\n",
       "[cos(mag_decl)*cos(mag_incl)],\n",
       "[             -sin(mag_incl)]])"
      ]
     },
     "execution_count": 4,
     "metadata": {},
     "output_type": "execute_result"
    }
   ],
   "source": [
    "mag_incl = ca.SX.sym(\"mag_incl\")\n",
    "mag_decl = ca.SX.sym(\"mag_decl\")\n",
    "\n",
    "# using ENU\n",
    "east_hat = lie.r3.elem(ca.vertcat(1, 0, 0))\n",
    "north_hat = lie.r3.elem(ca.vertcat(0, 1, 0))\n",
    "up_hat = lie.r3.elem(ca.vertcat(0, 0, 1))\n",
    "\n",
    "b_w = lie.SO3EulerB321.elem(ca.vertcat(-mag_decl, 0, -mag_incl)) @ north_hat\n",
    "cyecca.symbolic.casadi_to_sympy(b_w.param)"
   ]
  },
  {
   "cell_type": "code",
   "execution_count": 37,
   "id": "810ad596-f8fe-453b-87c0-cfa0e036c06f",
   "metadata": {
    "tags": []
   },
   "outputs": [
    {
     "data": {
      "text/plain": [
       "SX(@1=1, @2=8, @3=((sq(Xh_6)+sq(Xh_7))+sq(Xh_8)), @4=sq((@1+@3)), @5=(4*(@1-@3)), atan2(((((@1-((@2*(sq(Xh_8)+sq(Xh_7)))/@4))*y_mag_0)+((((@2*(Xh_6*Xh_7))+(@5*Xh_8))/@4)*y_mag_1))+((((@2*(Xh_6*Xh_8))-(@5*Xh_7))/@4)*y_mag_2)),((((((@2*(Xh_7*Xh_6))-(@5*Xh_8))/@4)*y_mag_0)+((@1-((@2*(sq(Xh_8)+sq(Xh_6)))/@4))*y_mag_1))+((((@2*(Xh_7*Xh_8))+(@5*Xh_6))/@4)*y_mag_2))))"
      ]
     },
     "execution_count": 37,
     "metadata": {},
     "output_type": "execute_result"
    }
   ],
   "source": [
    "y_mag_w = Xh.R.inverse() @ y_mag\n",
    "psi_m = ca.atan2(y_mag_w.param[0], y_mag_w.param[1])\n",
    "psi_m"
   ]
  },
  {
   "cell_type": "code",
   "execution_count": 38,
   "id": "adafbf11-f1e7-4809-a842-fe321772543f",
   "metadata": {
    "tags": []
   },
   "outputs": [
    {
     "data": {
      "text/latex": [
       "$\\displaystyle \\operatorname{atan}_{2}{\\left(\\sin{\\left(mag_{decl} \\right)} \\cos{\\left(mag_{incl} \\right)},\\cos{\\left(mag_{decl} \\right)} \\cos{\\left(mag_{incl} \\right)} \\right)}$"
      ],
      "text/plain": [
       "atan2(sin(mag_decl)*cos(mag_incl), cos(mag_decl)*cos(mag_incl))"
      ]
     },
     "execution_count": 38,
     "metadata": {},
     "output_type": "execute_result"
    }
   ],
   "source": [
    "psi_hat = ca.atan2(b_w.param[0], b_w.param[1])\n",
    "import sympy\n",
    "\n",
    "sympy.simplify(\n",
    "    cyecca.symbolic.casadi_to_sympy(psi_hat)\n",
    ")  # just mag_decl, but should use this to figure out uncertainty?"
   ]
  },
  {
   "cell_type": "code",
   "execution_count": 39,
   "id": "a7563f31-bae0-4460-9ab6-e7d3c1da1366",
   "metadata": {
    "tags": []
   },
   "outputs": [
    {
     "data": {
      "text/plain": [
       "SX(@1=1, @2=8, @3=((sq(Xh_6)+sq(Xh_7))+sq(Xh_8)), @4=sq((@1+@3)), @5=(4*(@1-@3)), (atan2(((((@1-((@2*(sq(Xh_8)+sq(Xh_7)))/@4))*y_mag_0)+((((@2*(Xh_6*Xh_7))+(@5*Xh_8))/@4)*y_mag_1))+((((@2*(Xh_6*Xh_8))-(@5*Xh_7))/@4)*y_mag_2)),((((((@2*(Xh_7*Xh_6))-(@5*Xh_8))/@4)*y_mag_0)+((@1-((@2*(sq(Xh_8)+sq(Xh_6)))/@4))*y_mag_1))+((((@2*(Xh_7*Xh_8))+(@5*Xh_6))/@4)*y_mag_2)))-mag_decl))"
      ]
     },
     "execution_count": 39,
     "metadata": {},
     "output_type": "execute_result"
    }
   ],
   "source": [
    "psi_m - mag_decl"
   ]
  },
  {
   "cell_type": "code",
   "execution_count": 40,
   "id": "12c0b7c4-ef57-4922-ab3d-b15bc94dad17",
   "metadata": {
    "tags": []
   },
   "outputs": [
    {
     "data": {
      "text/plain": [
       "DM(0)"
      ]
     },
     "execution_count": 40,
     "metadata": {},
     "output_type": "execute_result"
    }
   ],
   "source": [
    "crz = lie.SO3EulerB321.elem(ca.vertcat(psi_m - mag_decl, 0, 0)).log().param[2]\n",
    "f_crz = ca.Function(\"f_crz\", [Xh.param, y_mag.param, mag_decl], [crz])\n",
    "f_crz([0, 0, 0, 0, 0, 0, 0, 0, 0], [0, 0, 0], 0)"
   ]
  },
  {
   "cell_type": "code",
   "execution_count": 41,
   "id": "862f2fd4-4599-41c7-bb01-4b278f49ddcc",
   "metadata": {
    "tags": []
   },
   "outputs": [
    {
     "data": {
      "text/plain": [
       "SX(@1=2, @2=0, @3=1, @4=8, @5=((sq(Xh_6)+sq(Xh_7))+sq(Xh_8)), @6=sq((@3+@5)), @7=4, @8=(@7*(@3-@5)), @9=(atan2(((((@3-((@4*(sq(Xh_8)+sq(Xh_7)))/@6))*y_mag_0)+((((@4*(Xh_6*Xh_7))+(@8*Xh_8))/@6)*y_mag_1))+((((@4*(Xh_6*Xh_8))-(@8*Xh_7))/@6)*y_mag_2)),((((((@4*(Xh_7*Xh_6))-(@8*Xh_8))/@6)*y_mag_0)+((@3-((@4*(sq(Xh_8)+sq(Xh_6)))/@6))*y_mag_1))+((((@4*(Xh_7*Xh_8))+(@8*Xh_6))/@6)*y_mag_2)))-mag_decl), @10=cos(@9), @11=cos(@9), @12=(@2<((@10+@11)+@3)), @13=(!@12), @14=(@2&&(@3<@10)), @15=(!@14), @16=(@3<@11), @17=nan, @18=(@13?(@14?(@13?(@15?(@16?@17:0):0):0):0):0), @19=0.5, @20=(@19*sqrt((((@3+@10)+@11)+@3))), @21=(!@16), @22=sin(@9), @23=sin(@9), @24=(@19*sqrt((((@3-@10)-@11)+@3))), @25=((@12?@20:0)+(@13?((@14?@17:0)+(@15?((@16?@17:0)+(@21?((@22+@23)/(@7*@24)):0)):0)):0)), @26=((@12?((@22+@23)/(@7*@20)):0)+(@13?((@14?@17:0)+(@15?((@16?@17:0)+(@21?@24:0)):0)):0)), @27=(@25*@26), @28=sq(@25), @29=(@13?(@15?(@16?(@13?(@15?(@16?@17:0):0):0):0):0):0), @30=(@13?(@14?(@13?(@14?@17:0):0):0):0), @31=sq(@26), @32=acos((((((((@28+@29)-@30)-@31)+(((@28+@30)-@29)-@31))+(((@28+@31)-@29)-@30))-@3)/@1)), @33=(fabs(@32)<1e-07), (((@1*(@18+@27))-(@1*(@18-@27)))/(@1*((@33?((@3+(-0.166667*sq(@32)))+(0.00833333*sq(sq(@32)))):0)+((!@33)?(sin(@32)/@32):0)))))"
      ]
     },
     "execution_count": 41,
     "metadata": {},
     "output_type": "execute_result"
    }
   ],
   "source": [
    "crz"
   ]
  },
  {
   "cell_type": "code",
   "execution_count": 42,
   "id": "dcc1a27e-dad0-413d-a0c9-6040e8ef5117",
   "metadata": {
    "tags": []
   },
   "outputs": [
    {
     "data": {
      "text/plain": [
       "SX(@1=2, @2=0, @3=1, @4=8, @5=((sq(Xh_6)+sq(Xh_7))+sq(Xh_8)), @6=sq((@3+@5)), @7=4, @8=(@7*(@3-@5)), @9=(atan2(((((@3-((@4*(sq(Xh_8)+sq(Xh_7)))/@6))*y_mag_0)+((((@4*(Xh_6*Xh_7))+(@8*Xh_8))/@6)*y_mag_1))+((((@4*(Xh_6*Xh_8))-(@8*Xh_7))/@6)*y_mag_2)),((((((@4*(Xh_7*Xh_6))-(@8*Xh_8))/@6)*y_mag_0)+((@3-((@4*(sq(Xh_8)+sq(Xh_6)))/@6))*y_mag_1))+((((@4*(Xh_7*Xh_8))+(@8*Xh_6))/@6)*y_mag_2)))-mag_decl), @10=cos(@9), @11=cos(@9), @12=(@2<((@10+@11)+@3)), @13=(!@12), @14=(@2&&(@3<@10)), @15=(!@14), @16=(@3<@11), @17=nan, @18=(@13?(@14?(@13?(@15?(@16?@17:0):0):0):0):0), @19=0.5, @20=(@19*sqrt((((@3+@10)+@11)+@3))), @21=(!@16), @22=sin(@9), @23=sin(@9), @24=(@19*sqrt((((@3-@10)-@11)+@3))), @25=((@12?@20:0)+(@13?((@14?@17:0)+(@15?((@16?@17:0)+(@21?((@22+@23)/(@7*@24)):0)):0)):0)), @26=((@12?((@22+@23)/(@7*@20)):0)+(@13?((@14?@17:0)+(@15?((@16?@17:0)+(@21?@24:0)):0)):0)), @27=(@25*@26), @28=sq(@25), @29=(@13?(@15?(@16?(@13?(@15?(@16?@17:0):0):0):0):0):0), @30=(@13?(@14?(@13?(@14?@17:0):0):0):0), @31=sq(@26), @32=acos((((((((@28+@29)-@30)-@31)+(((@28+@30)-@29)-@31))+(((@28+@31)-@29)-@30))-@3)/@1)), @33=(fabs(@32)<1e-07), (((@1*(@18+@27))-(@1*(@18-@27)))/(@1*((@33?((@3+(-0.166667*sq(@32)))+(0.00833333*sq(sq(@32)))):0)+((!@33)?(sin(@32)/@32):0)))))"
      ]
     },
     "execution_count": 42,
     "metadata": {},
     "output_type": "execute_result"
    }
   ],
   "source": [
    "f_crz(Xh.param, y_mag.param, mag_decl)"
   ]
  },
  {
   "cell_type": "code",
   "execution_count": 43,
   "id": "75e4c8f9-074d-4614-8b94-1eb824bc6eac",
   "metadata": {
    "tags": []
   },
   "outputs": [
    {
     "data": {
      "text/plain": [
       "SX(@1=8, @2=1, @3=((sq(Xh_6)+sq(Xh_7))+sq(Xh_8)), @4=(4*(@2-@3)), @5=sq((@2+@3)), @6=asin((-(((@1*(Xh_8*Xh_6))-(@4*Xh_7))/@5))), @7=1.5708, @8=0.001, @9=(fabs((@6-@7))<@8), @10=(((@1*(Xh_7*Xh_8))-(@4*Xh_6))/@5), @11=(((@1*(Xh_6*Xh_8))+(@4*Xh_7))/@5), @12=(fabs((@6+@7))<@8), ((@9?atan2(@10,@11):0)+((!@9)?((@12?atan2((-@10),(-@11)):0)+((!@12)?atan2((((@1*(Xh_7*Xh_6))+(@4*Xh_8))/@5),(@2-((@1*(sq(Xh_8)+sq(Xh_7)))/@5))):0)):0)))"
      ]
     },
     "execution_count": 43,
     "metadata": {},
     "output_type": "execute_result"
    }
   ],
   "source": [
    "psi_h = lie.SO3EulerB321.from_Mrp(Xh.R).param[0]\n",
    "psi_h"
   ]
  },
  {
   "cell_type": "code",
   "execution_count": 44,
   "id": "596670ea-f7cb-4097-837a-f17a6915cbb3",
   "metadata": {
    "tags": []
   },
   "outputs": [
    {
     "data": {
      "text/plain": [
       "SO3MrpLieGroup: SX(@1=0, [@1, @1, 0.255342])"
      ]
     },
     "execution_count": 44,
     "metadata": {},
     "output_type": "execute_result"
    }
   ],
   "source": [
    "lie.SO3Mrp.from_Euler(lie.SO3EulerB321.elem(ca.vertcat(1, 0, 0)))"
   ]
  },
  {
   "cell_type": "code",
   "execution_count": 45,
   "id": "9469ef36-7db2-4604-87d8-80a9b534668e",
   "metadata": {
    "tags": []
   },
   "outputs": [
    {
     "data": {
      "text/plain": [
       "array([[ 0.93575, -0.28316,  0.21019,  0.     ,  0.     ,  0.     ,  0.     ,  0.     ,  0.     ],\n",
       "       [ 0.30293,  0.95058, -0.06803,  0.     ,  0.     ,  0.     ,  0.     ,  0.     ,  0.     ],\n",
       "       [-0.18054,  0.12733,  0.97529,  0.     ,  0.     ,  0.     ,  0.     ,  0.     ,  0.     ],\n",
       "       [ 0.     ,  0.     ,  0.     ,  0.93575, -0.28316,  0.21019, -0.12699, -0.25971,  0.21547],\n",
       "       [ 0.     ,  0.     ,  0.     ,  0.30293,  0.95058, -0.06803,  0.29878, -0.09768, -0.03447],\n",
       "       [ 0.     ,  0.     ,  0.     , -0.18054,  0.12733,  0.97529, -0.15686,  0.15169, -0.04884],\n",
       "       [ 0.     ,  0.     ,  0.     ,  0.     ,  0.     ,  0.     ,  0.93575, -0.28316,  0.21019],\n",
       "       [ 0.     ,  0.     ,  0.     ,  0.     ,  0.     ,  0.     ,  0.30293,  0.95058, -0.06803],\n",
       "       [ 0.     ,  0.     ,  0.     ,  0.     ,  0.     ,  0.     , -0.18054,  0.12733,  0.97529]])"
      ]
     },
     "execution_count": 45,
     "metadata": {},
     "output_type": "execute_result"
    }
   ],
   "source": [
    "f_F = ca.Function(\"F\", [a, omega, dt], [(nu * dt).exp(lie.SE23Mrp).Ad()])\n",
    "F = f_F(a, omega, dt)\n",
    "\n",
    "x_00 = ca.SX.sym(\"x_00\", 9, 1)\n",
    "\n",
    "x_10 = F @ x_00\n",
    "\n",
    "np.array(f_F([1, 2, 3], [1, 2, 3], 0.1))"
   ]
  },
  {
   "cell_type": "code",
   "execution_count": 46,
   "id": "44a11cf5-ee88-46af-9036-f89ca191f22e",
   "metadata": {
    "tags": []
   },
   "outputs": [
    {
     "data": {
      "text/plain": [
       "SX(@1=1, @2=8, @3=(dt*omega_0), @4=(dt*omega_1), @5=(dt*omega_2), @6=((sq(@3)+sq(@4))+sq(@5)), @7=sqrt(@6), @8=1e-07, @9=(fabs(@7)<@8), @10=0.5, @11=((@9?((@10+(-0.0416667*@6))+(0.00138889*sq(@6))):0)+((!@9)?((@1-cos(@7))/@6):0)), @12=(sq(@5)+sq(@4)), @13=(fabs(@7)<@8), @14=((@13?((0.166667+(-0.00833333*@6))+(0.000198413*sq(@6))):0)+((!@13)?((@7-sin(@7))/(@7*@6)):0)), @15=(@4*@3), @16=(@5*@3), @17=((@1-(@11*@12))+(@14*((@15*@5)-(@16*@4)))), @18=(sq(@5)+sq(@3)), @19=(@5*@4), @20=(@3*@4), @21=((@1-(@11*@18))+(@14*((@19*@3)-(@20*@5)))), @22=(sq(@4)+sq(@3)), @23=(@3*@5), @24=(@4*@5), @25=((@1-(@11*@22))+(@14*((@23*@4)-(@24*@3)))), @26=(0<((@17+@21)+@25)), @27=((@3+(@11*@24))-(@14*((@23*@5)+(@22*@3)))), @28=(((@11*@19)-@3)+(@14*((@20*@4)+(@18*@3)))), @29=4, @30=(@10*sqrt((((@1+@17)+@21)+@25))), @31=(!@26), @32=((@21<@17)&&(@25<@17)), @33=(@10*sqrt((((@1+@17)-@21)-@25))), @34=(!@32), @35=(@25<@21), @36=(((@11*@15)-@5)+(@14*((@12*@5)+(@16*@3)))), @37=((@5+(@11*@20))-(@14*((@18*@5)+(@19*@4)))), @38=(@10*sqrt((((@1-@17)+@21)-@25))), @39=(!@35), @40=((@4+(@11*@16))-(@14*((@12*@4)+(@15*@3)))), @41=(((@11*@23)-@4)+(@14*((@24*@5)+(@22*@4)))), @42=(@10*sqrt((((@1-@17)-@21)+@25))), @43=(@1+((@26?@30:0)+(@31?((@32?((@27-@28)/(@29*@33)):0)+(@34?((@35?((@40-@41)/(@29*@38)):0)+(@39?((@37-@36)/(@29*@42)):0)):0)):0))), @44=(((@26?((@27-@28)/(@29*@30)):0)+(@31?((@32?@33:0)+(@34?((@35?((@36+@37)/(@29*@38)):0)+(@39?((@40+@41)/(@29*@42)):0)):0)):0))/@43), @45=(((@26?((@40-@41)/(@29*@30)):0)+(@31?((@32?((@36+@37)/(@29*@33)):0)+(@34?((@35?@38:0)+(@39?((@28+@27)/(@29*@42)):0)):0)):0))/@43), @46=(((@26?((@37-@36)/(@29*@30)):0)+(@31?((@32?((@40+@41)/(@29*@33)):0)+(@34?((@35?((@28+@27)/(@29*@38)):0)+(@39?@42:0)):0)):0))/@43), @47=(@1<sqrt(((sq(@44)+sq(@45))+sq(@46)))), @48=((sq(@44)+sq(@45))+sq(@46)), @49=(!@47), @50=((@47?(-(@46/@48)):0)+(@49?@46:0)), @51=((@47?(-(@45/@48)):0)+(@49?@45:0)), @52=((@47?(-(@44/@48)):0)+(@49?@44:0)), @53=((sq(@52)+sq(@51))+sq(@50)), @54=sq((@1+@53)), @55=(@1-((@2*(sq(@50)+sq(@51)))/@54)), @56=(@29*(@1-@53)), @57=(((@2*(@51*@52))+(@56*@50))/@54), @58=(((@2*(@50*@52))-(@56*@51))/@54), @59=(((@2*(@52*@51))-(@56*@50))/@54), @60=(@1-((@2*(sq(@50)+sq(@52)))/@54)), @61=(((@2*(@50*@51))+(@56*@52))/@54), @62=(((@2*(@52*@50))+(@56*@51))/@54), @63=(((@2*(@51*@50))-(@56*@52))/@54), @64=(@1-((@2*(sq(@51)+sq(@52)))/@54)), @65=(dt*a_1), @66=(dt*a_0), @67=(dt*a_2), @68=((@65+(@11*((@5*@66)-(@3*@67))))+(@14*(((@20*@66)-(@18*@65))+(@19*@67)))), @69=((@67+(@11*((@3*@65)-(@4*@66))))+(@14*(((@23*@66)+(@24*@65))-(@22*@67)))), @70=((@66+(@11*((@4*@67)-(@5*@65))))+(@14*(((@15*@65)-(@12*@66))+(@16*@67)))), \n",
       "[[@55, @59, @62, 00, 00, 00, 00, 00, 00], \n",
       " [@57, @60, @63, 00, 00, 00, 00, 00, 00], \n",
       " [@58, @61, @64, 00, 00, 00, 00, 00, 00], \n",
       " [00, 00, 00, @55, @59, @62, ((@68*@58)-(@69*@57)), ((@68*@61)-(@69*@60)), ((@68*@64)-(@69*@63))], \n",
       " [00, 00, 00, @57, @60, @63, ((@69*@55)-(@70*@58)), ((@69*@59)-(@70*@61)), ((@69*@62)-(@70*@64))], \n",
       " [00, 00, 00, @58, @61, @64, ((@70*@57)-(@68*@55)), ((@70*@60)-(@68*@59)), ((@70*@63)-(@68*@62))], \n",
       " [00, 00, 00, 00, 00, 00, @55, @59, @62], \n",
       " [00, 00, 00, 00, 00, 00, @57, @60, @63], \n",
       " [00, 00, 00, 00, 00, 00, @58, @61, @64]])"
      ]
     },
     "execution_count": 46,
     "metadata": {},
     "output_type": "execute_result"
    }
   ],
   "source": [
    "f_F(a, omega, dt)"
   ]
  },
  {
   "cell_type": "markdown",
   "id": "0cbaa27f-0b98-4d8c-bc47-30cefc2cb085",
   "metadata": {},
   "source": [
    "# Covariance Prediction"
   ]
  },
  {
   "cell_type": "code",
   "execution_count": 47,
   "id": "f121c790-43ba-45bc-b2a9-b949d19a39d8",
   "metadata": {
    "tags": []
   },
   "outputs": [],
   "source": [
    "def derive_cov_sqrt_predict():\n",
    "    a = ca.SX.sym(\"a\", 3)\n",
    "    omega = ca.SX.sym(\"omega\", 3)\n",
    "\n",
    "    std_vel = ca.SX.sym(\"std_vel\")\n",
    "    std_acc = ca.SX.sym(\"std_acc\")\n",
    "    std_rot = ca.SX.sym(\"std_rot\")\n",
    "\n",
    "    W = ca.SX.sym(\"W\", ca.Sparsity_lower(9))\n",
    "    nu = lie.se23.elem(ca.vertcat(a, ca.SX.zeros(3, 1), omega))\n",
    "\n",
    "    Q = ca.SX.sym(\"Q\", ca.Sparsity_diag(9))\n",
    "    Q = ca.diagcat(\n",
    "        std_vel**2,\n",
    "        std_vel**2,\n",
    "        std_vel**2,\n",
    "        std_acc**2,\n",
    "        std_acc**2,\n",
    "        std_acc**2,\n",
    "        std_rot**2,\n",
    "        std_rot**2,\n",
    "        std_rot**2,\n",
    "    )\n",
    "    F = nu.ad()\n",
    "    B = ca.SX.eye(9)\n",
    "    W_dot_lt = ca.tril(cyecca.util.sqrt_covariance_predict(W, F, Q))\n",
    "    f_W_dot_lt = ca.Function(\n",
    "        \"f_cov_predict\",\n",
    "        [W, a, omega, std_vel, std_acc, std_rot],\n",
    "        [W_dot_lt],\n",
    "        [\"W\", \"a\", \"omega\", \"std_vel\", \"std_acc\", \"std_rot\"],\n",
    "        [\"W_dot_lt\"],\n",
    "    )\n",
    "\n",
    "    dt = ca.SX.sym(\"dt\")\n",
    "    W1 = cyecca.util.rk4(\n",
    "        lambda t, y: f_W_dot_lt(W, a, omega, std_vel, std_acc, std_rot), 0, W, dt\n",
    "    )\n",
    "\n",
    "    return ca.Function(\n",
    "        \"cov_sqrt_predict\",\n",
    "        [W, a, omega, std_vel, std_acc, std_rot, dt],\n",
    "        [W1],\n",
    "        [\"W\", \"a\", \"omega\", \"std_vel\", \"std_acc\", \"std_rot\", \"dt\"],\n",
    "        [\"W1\"],\n",
    "    )\n",
    "\n",
    "\n",
    "f_cov_sqrt_predict = derive_cov_sqrt_predict()"
   ]
  },
  {
   "cell_type": "code",
   "execution_count": 48,
   "id": "368b0b80-9977-481b-9d2a-9024ba0c9da6",
   "metadata": {
    "tags": []
   },
   "outputs": [
    {
     "data": {
      "text/plain": [
       "array([[ 1.41483,  0.     ,  0.     ,  0.     ,  0.     ,  0.     ,  0.     ,  0.     ,  0.     ],\n",
       "       [ 0.     ,  1.41483,  0.     ,  0.     ,  0.     ,  0.     ,  0.     ,  0.     ,  0.     ],\n",
       "       [ 0.     ,  0.     ,  1.41483,  0.     ,  0.     ,  0.     ,  0.     ,  0.     ,  0.     ],\n",
       "       [ 0.     ,  0.     ,  0.     ,  7.58644,  0.     ,  0.     ,  0.     ,  0.     ,  0.     ],\n",
       "       [ 0.     ,  0.     ,  0.     , -1.06175,  6.6539 ,  0.     ,  0.     ,  0.     ,  0.     ],\n",
       "       [ 0.     ,  0.     ,  0.     , -1.59375, -3.89601,  2.73283,  0.     ,  0.     ,  0.     ],\n",
       "       [ 0.     ,  0.     ,  0.     , -0.00012,  2.51248, -0.49401,  1.88238,  0.     ,  0.     ],\n",
       "       [ 0.     ,  0.     ,  0.     , -2.20385, -0.35123,  0.24918,  0.53239,  2.18226,  0.     ],\n",
       "       [ 0.     ,  0.     ,  0.     ,  1.46866, -0.60115, -0.00184,  0.79898,  1.18259,  2.3485 ]])"
      ]
     },
     "execution_count": 48,
     "metadata": {},
     "output_type": "execute_result"
    }
   ],
   "source": [
    "def do_cov_sim():\n",
    "    np.set_printoptions(precision=5, linewidth=200, suppress=True)\n",
    "    W = 1 * np.eye(9)\n",
    "    a = np.array([1, 2, 3])\n",
    "    omega = np.array([1, 2, 3])\n",
    "    dt = 0.01\n",
    "    std_vel = 1\n",
    "    std_acc = 2\n",
    "    std_rot = 3\n",
    "    for i in range(100):\n",
    "        W = np.array(f_cov_sqrt_predict(W, a, omega, std_vel, std_acc, std_rot, dt))\n",
    "\n",
    "    return W\n",
    "\n",
    "\n",
    "do_cov_sim()"
   ]
  }
 ],
 "metadata": {
  "kernelspec": {
   "display_name": "Python 3 (ipykernel)",
   "language": "python",
   "name": "python3"
  },
  "language_info": {
   "codemirror_mode": {
    "name": "ipython",
    "version": 3
   },
   "file_extension": ".py",
   "mimetype": "text/x-python",
   "name": "python",
   "nbconvert_exporter": "python",
   "pygments_lexer": "ipython3",
   "version": "3.12.3"
  }
 },
 "nbformat": 4,
 "nbformat_minor": 5
}
