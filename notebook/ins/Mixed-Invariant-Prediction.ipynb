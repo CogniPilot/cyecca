{
 "cells": [
  {
   "cell_type": "code",
   "execution_count": 40,
   "id": "7d21b13b-1567-4552-9254-3f7ceb7196ad",
   "metadata": {
    "tags": []
   },
   "outputs": [],
   "source": [
    "import sympy"
   ]
  },
  {
   "cell_type": "raw",
   "id": "486d4e0a-74be-4234-a224-c3bae5850587",
   "metadata": {},
   "source": [
    "\\usepackage{amsmath}"
   ]
  },
  {
   "cell_type": "markdown",
   "id": "1f19f1d5-fa9f-4055-9afa-41613c5d3554",
   "metadata": {},
   "source": [
    "We are looking to predict the evolution of mixed invariant vector fields exactly:\n",
    "    \n",
    "$\\dot{X} = r X + X l$\n",
    "\n",
    "Which has the solution:\n",
    "    \n",
    "$X(t) = e^{rt} X(0) e^{lt}$\n",
    "\n",
    "However, r and l are not necessary in so(3). It is required that $Ad_X r + l$ and $Ad_X l + r$ are in so(3).\n",
    "\n",
    "We can easily find the exponential for the right sided vector field for the mixed invariant system. The exponential of this, will not be a group element due to element (3, 4) becoming 1. However, this is cancelled by the $l$ matrix of the mixed-invariant system, and the evolution remains on the manifold."
   ]
  },
  {
   "cell_type": "code",
   "execution_count": 41,
   "id": "0e75a213-3f9b-4c5b-a6ae-b10d49164783",
   "metadata": {
    "tags": []
   },
   "outputs": [
    {
     "data": {
      "text/latex": [
       "$\\displaystyle \\left[\\begin{matrix}1 & 0 & 0 & 0 & 0\\\\0 & 1 & 0 & 0 & 0\\\\0 & 0 & 1 & g & - \\frac{g}{2}\\\\0 & 0 & 0 & 1 & -1\\\\0 & 0 & 0 & 0 & 1\\end{matrix}\\right]$"
      ],
      "text/plain": [
       "Matrix([\n",
       "[1, 0, 0, 0,    0],\n",
       "[0, 1, 0, 0,    0],\n",
       "[0, 0, 1, g, -g/2],\n",
       "[0, 0, 0, 1,   -1],\n",
       "[0, 0, 0, 0,    1]])"
      ]
     },
     "execution_count": 41,
     "metadata": {},
     "output_type": "execute_result"
    }
   ],
   "source": [
    "g = sympy.symbols(\"g\")\n",
    "r = sympy.Matrix(\n",
    "    [\n",
    "        [0, 0, 0, 0, 0],\n",
    "        [0, 0, 0, 0, 0],\n",
    "        [0, 0, 0, g, 0],\n",
    "        [0, 0, 0, 0, -1],\n",
    "        [0, 0, 0, 0, 0],\n",
    "    ]\n",
    ")\n",
    "sympy.exp(r)"
   ]
  },
  {
   "cell_type": "markdown",
   "id": "47f854d9-f9c0-418b-afda-ac86ce12c89c",
   "metadata": {
    "tags": []
   },
   "source": [
    "The $l$ matrix is not trivial to find a closed form exponential for."
   ]
  },
  {
   "cell_type": "code",
   "execution_count": 43,
   "id": "ee5ab031-651e-4b2a-b762-3ff506acfdc8",
   "metadata": {
    "tags": []
   },
   "outputs": [
    {
     "data": {
      "text/latex": [
       "$\\displaystyle \\left[\\begin{matrix}0 & - \\omega_{z} & \\omega_{y} & 0 & 0\\\\\\omega_{z} & 0 & - \\omega_{x} & 0 & 0\\\\- \\omega_{y} & \\omega_{x} & 0 & 0 & 0\\\\0 & 0 & 0 & 0 & -1\\\\0 & 0 & 0 & 0 & 0\\end{matrix}\\right]$"
      ],
      "text/plain": [
       "Matrix([\n",
       "[       0, -omega_z,  omega_y, 0,  0],\n",
       "[ omega_z,        0, -omega_x, 0,  0],\n",
       "[-omega_y,  omega_x,        0, 0,  0],\n",
       "[       0,        0,        0, 0, -1],\n",
       "[       0,        0,        0, 0,  0]])"
      ]
     },
     "execution_count": 43,
     "metadata": {},
     "output_type": "execute_result"
    }
   ],
   "source": [
    "omega_x, omega_y, omega_z, a_x, a_y, a_z = sympy.symbols(\n",
    "    \"omega_x, omega_y, omega_z, a_x, a_y, a_z\"\n",
    ")\n",
    "l = sympy.Matrix(\n",
    "    [\n",
    "        [0, -omega_z, omega_y, 0, 0],\n",
    "        [omega_z, 0, -omega_x, 0, 0],\n",
    "        [-omega_y, omega_x, 0, 0, 0],\n",
    "        [0, 0, 0, 0, -1],\n",
    "        [0, 0, 0, 0, 0],\n",
    "    ]\n",
    ")\n",
    "l"
   ]
  },
  {
   "cell_type": "markdown",
   "id": "a00d22e0-1362-4f83-9288-f6de41b2b95c",
   "metadata": {},
   "source": [
    "We will analyze this matrix using block matrices. Notice that B is nilpotent. $B^2=0$, $B^3=0$."
   ]
  },
  {
   "cell_type": "code",
   "execution_count": 44,
   "id": "f7d705fd-9876-4306-9b2a-d85294a40eb9",
   "metadata": {
    "tags": []
   },
   "outputs": [
    {
     "data": {
      "text/latex": [
       "$\\displaystyle \\left[\\begin{matrix}\\Omega & A\\\\0 & B\\end{matrix}\\right]$"
      ],
      "text/plain": [
       "Matrix([\n",
       "[Omega, A],\n",
       "[    0, B]])"
      ]
     },
     "execution_count": 44,
     "metadata": {},
     "output_type": "execute_result"
    }
   ],
   "source": [
    "A = sympy.MatrixSymbol(\"A\", 3, 2)\n",
    "B = sympy.MatrixSymbol(\"B\", 2, 2)\n",
    "Omega = sympy.MatrixSymbol(\"Omega\", 3, 3)\n",
    "S = sympy.BlockMatrix([[Omega, A], [sympy.ZeroMatrix(2, 3), B]])\n",
    "S"
   ]
  },
  {
   "cell_type": "markdown",
   "id": "fbe9506a-b87c-4109-9ac5-66f852a628f4",
   "metadata": {
    "tags": []
   },
   "source": [
    "We can solve this, since B is nilpotent. To spot the series pattern, we will print several terms."
   ]
  },
  {
   "cell_type": "code",
   "execution_count": 54,
   "id": "37644f94-bf94-472f-a744-6fdb63fee0bf",
   "metadata": {
    "tags": []
   },
   "outputs": [],
   "source": [
    "def find_term(n):\n",
    "    sub_B_nilpotent = {B**k: sympy.ZeroMatrix(2, 2) for k in range(2, n + 1)}\n",
    "    return sympy.block_collapse(\n",
    "        sympy.block_collapse(S**n / sympy.factorial(n)).expand().subs(sub_B_nilpotent)\n",
    "    )"
   ]
  },
  {
   "cell_type": "code",
   "execution_count": 53,
   "id": "9a6603c4-b5e1-444b-8764-a1ead7a5e1f6",
   "metadata": {
    "tags": []
   },
   "outputs": [
    {
     "data": {
      "text/latex": [
       "$\\displaystyle \\left[\\begin{matrix}\\Omega & A\\\\0 & B\\end{matrix}\\right]$"
      ],
      "text/plain": [
       "Matrix([\n",
       "[Omega, A],\n",
       "[    0, B]])"
      ]
     },
     "execution_count": 53,
     "metadata": {},
     "output_type": "execute_result"
    }
   ],
   "source": [
    "find_term(1)"
   ]
  },
  {
   "cell_type": "code",
   "execution_count": 55,
   "id": "7cac7fbc-71d9-4e42-a4ed-fdda9c7eccbe",
   "metadata": {
    "tags": []
   },
   "outputs": [
    {
     "data": {
      "text/latex": [
       "$\\displaystyle \\left[\\begin{matrix}\\left(\\frac{1}{2}\\right) \\Omega^{2} & \\left(\\frac{1}{2}\\right) A B + \\left(\\frac{1}{2}\\right) \\Omega A\\\\0 & 0\\end{matrix}\\right]$"
      ],
      "text/plain": [
       "Matrix([\n",
       "[(1/2)*Omega**2, (1/2)*A*B + (1/2)*Omega*A],\n",
       "[             0,                         0]])"
      ]
     },
     "execution_count": 55,
     "metadata": {},
     "output_type": "execute_result"
    }
   ],
   "source": [
    "find_term(2)"
   ]
  },
  {
   "cell_type": "code",
   "execution_count": 56,
   "id": "17fb06f0-d142-4c51-9e7d-3670c38b3c46",
   "metadata": {
    "tags": []
   },
   "outputs": [
    {
     "data": {
      "text/latex": [
       "$\\displaystyle \\left[\\begin{matrix}\\left(\\frac{1}{6}\\right) \\Omega^{3} & \\left(\\frac{1}{6}\\right) \\Omega^{2} A + \\left(\\frac{1}{6}\\right) \\Omega A B\\\\0 & 0\\end{matrix}\\right]$"
      ],
      "text/plain": [
       "Matrix([\n",
       "[(1/6)*Omega**3, (1/6)*Omega**2*A + (1/6)*Omega*A*B],\n",
       "[             0,                                  0]])"
      ]
     },
     "execution_count": 56,
     "metadata": {},
     "output_type": "execute_result"
    }
   ],
   "source": [
    "find_term(3)"
   ]
  },
  {
   "cell_type": "code",
   "execution_count": 57,
   "id": "a5e7b7a1-9018-40b1-a539-892fbcb3bfc8",
   "metadata": {
    "tags": []
   },
   "outputs": [
    {
     "data": {
      "text/latex": [
       "$\\displaystyle \\left[\\begin{matrix}\\left(\\frac{1}{24}\\right) \\Omega^{4} & \\left(\\frac{1}{24}\\right) \\Omega^{2} A B + \\left(\\frac{1}{24}\\right) \\Omega^{3} A\\\\0 & 0\\end{matrix}\\right]$"
      ],
      "text/plain": [
       "Matrix([\n",
       "[(1/24)*Omega**4, (1/24)*Omega**2*A*B + (1/24)*Omega**3*A],\n",
       "[              0,                                       0]])"
      ]
     },
     "execution_count": 57,
     "metadata": {},
     "output_type": "execute_result"
    }
   ],
   "source": [
    "find_term(4)"
   ]
  },
  {
   "cell_type": "code",
   "execution_count": 52,
   "id": "5dc3638e-2095-4d0f-89a5-5db31b0f47b6",
   "metadata": {
    "tags": []
   },
   "outputs": [
    {
     "data": {
      "text/latex": [
       "$\\displaystyle \\left[\\begin{matrix}\\mathbb{I} + \\left(\\frac{1}{2}\\right) \\Omega^{2} + \\left(\\frac{1}{6}\\right) \\Omega^{3} + \\left(\\frac{1}{24}\\right) \\Omega^{4} + \\Omega & \\left(\\frac{1}{6}\\right) \\Omega^{2} A + \\left(\\frac{1}{24}\\right) \\Omega^{2} A B + \\left(\\frac{1}{24}\\right) \\Omega^{3} A + A + \\left(\\frac{1}{2}\\right) A B + \\left(\\frac{1}{2}\\right) \\Omega A + \\left(\\frac{1}{6}\\right) \\Omega A B\\\\0 & \\mathbb{I} + B\\end{matrix}\\right]$"
      ],
      "text/plain": [
       "Matrix([\n",
       "[I + (1/2)*Omega**2 + (1/6)*Omega**3 + (1/24)*Omega**4 + Omega, (1/6)*Omega**2*A + (1/24)*Omega**2*A*B + (1/24)*Omega**3*A + A + (1/2)*A*B + (1/2)*Omega*A + (1/6)*Omega*A*B],\n",
       "[                                                            0,                                                                                                        I + B]])"
      ]
     },
     "execution_count": 52,
     "metadata": {},
     "output_type": "execute_result"
    }
   ],
   "source": [
    "T = sympy.ZeroMatrix(5, 5)\n",
    "for i in range(5):\n",
    "    T += find_term(i)\n",
    "T = sympy.block_collapse(T)\n",
    "T"
   ]
  },
  {
   "cell_type": "markdown",
   "id": "87835e40-2292-4932-b3a9-7ebb251a5f2f",
   "metadata": {},
   "source": [
    "We now create a series for the top right term."
   ]
  },
  {
   "cell_type": "code",
   "execution_count": 58,
   "id": "1664753d-79f0-447e-8308-cd96a017c7b4",
   "metadata": {
    "tags": []
   },
   "outputs": [
    {
     "data": {
      "text/latex": [
       "$\\displaystyle \\frac{1}{k!} \\left(\\Omega^{k - 2} A B + \\Omega^{k - 1} A\\right)$"
      ],
      "text/plain": [
       "1/factorial(k)*(Omega**(k - 2)*A*B + Omega**(k - 1)*A)"
      ]
     },
     "execution_count": 58,
     "metadata": {},
     "output_type": "execute_result"
    }
   ],
   "source": [
    "n = sympy.symbols(\"n\", integer=True)\n",
    "k = sympy.symbols(\"k\", integer=True)\n",
    "theta = sympy.symbols(\"theta\")\n",
    "\n",
    "expr = (Omega ** (k - 1) * A + Omega ** (k - 2) * A * B) / sympy.factorial(k)\n",
    "expr"
   ]
  },
  {
   "cell_type": "markdown",
   "id": "97619f6a-3972-493b-8a3a-031034266c4a",
   "metadata": {},
   "source": [
    "The series is only valid after k=2"
   ]
  },
  {
   "cell_type": "code",
   "execution_count": 59,
   "id": "5ac712ee-7b05-45d0-9f62-f57c99f1cf1c",
   "metadata": {
    "tags": []
   },
   "outputs": [
    {
     "data": {
      "text/latex": [
       "$\\displaystyle \\left(\\frac{1}{2}\\right) A B + \\left(\\frac{1}{2}\\right) \\Omega A$"
      ],
      "text/plain": [
       "(1/2)*A*B + (1/2)*Omega*A"
      ]
     },
     "execution_count": 59,
     "metadata": {},
     "output_type": "execute_result"
    }
   ],
   "source": [
    "sympy.block_collapse(expr.subs(k, 2))"
   ]
  },
  {
   "cell_type": "code",
   "execution_count": 60,
   "id": "52d4592f-a530-40e5-951e-383aa937e30f",
   "metadata": {
    "tags": []
   },
   "outputs": [
    {
     "data": {
      "text/latex": [
       "$\\displaystyle \\left(\\frac{1}{6}\\right) \\Omega^{2} A + \\left(\\frac{1}{6}\\right) \\Omega A B$"
      ],
      "text/plain": [
       "(1/6)*Omega**2*A + (1/6)*Omega*A*B"
      ]
     },
     "execution_count": 60,
     "metadata": {},
     "output_type": "execute_result"
    }
   ],
   "source": [
    "sympy.block_collapse(expr.subs(k, 3))"
   ]
  },
  {
   "cell_type": "code",
   "execution_count": 61,
   "id": "9d1304e0-1499-4349-a89f-ac5f97d1820a",
   "metadata": {
    "tags": []
   },
   "outputs": [
    {
     "data": {
      "text/latex": [
       "$\\displaystyle \\left(\\frac{1}{24}\\right) \\Omega^{2} A B + \\left(\\frac{1}{24}\\right) \\Omega^{3} A$"
      ],
      "text/plain": [
       "(1/24)*Omega**2*A*B + (1/24)*Omega**3*A"
      ]
     },
     "execution_count": 61,
     "metadata": {},
     "output_type": "execute_result"
    }
   ],
   "source": [
    "sympy.block_collapse(expr.subs(k, 4))"
   ]
  },
  {
   "cell_type": "markdown",
   "id": "7d5436cc-4fbc-4910-b1f9-13b2e3534dc1",
   "metadata": {},
   "source": [
    "$ l = \\begin{bmatrix} \\Omega && A \\\\ 0 && B \\end{bmatrix} $\n"
   ]
  },
  {
   "cell_type": "code",
   "execution_count": null,
   "id": "83b8ea8e-455d-474f-ac30-8484c9871de8",
   "metadata": {},
   "outputs": [],
   "source": []
  }
 ],
 "metadata": {
  "kernelspec": {
   "display_name": "Python 3 (ipykernel)",
   "language": "python",
   "name": "python3"
  },
  "language_info": {
   "codemirror_mode": {
    "name": "ipython",
    "version": 3
   },
   "file_extension": ".py",
   "mimetype": "text/x-python",
   "name": "python",
   "nbconvert_exporter": "python",
   "pygments_lexer": "ipython3",
   "version": "3.12.3"
  }
 },
 "nbformat": 4,
 "nbformat_minor": 5
}
