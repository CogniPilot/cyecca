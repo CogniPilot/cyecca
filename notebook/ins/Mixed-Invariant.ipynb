{
 "cells": [
  {
   "cell_type": "code",
   "execution_count": 58,
   "id": "48c58e8e-c44b-4654-9e63-3f8f02ecf114",
   "metadata": {
    "tags": []
   },
   "outputs": [],
   "source": [
    "import sympy"
   ]
  },
  {
   "cell_type": "markdown",
   "id": "2afdaa8d-0fa8-46f1-9499-898b5b72c677",
   "metadata": {},
   "source": [
    "We are looking to predict the evolution of mixed invariant vector fields exactly:\n",
    "    \n",
    "$\\dot{X} = r X + X l$\n",
    "\n",
    "Which has the solution:\n",
    "    \n",
    "$X(t) = e^{rt} X(0) e^{lt}$\n",
    "\n",
    "However, r and l are not necessary in so(3). It is required that $Ad_X r + l$ and $Ad_X l + r$ are in so(3).\n",
    "\n",
    "We can easily find the exponential for the right sided vector field for the mixed invariant system. The exponential of this, will not be a group element due to element (3, 4) becoming 1. However, this is cancelled by the $l$ matrix of the mixed-invariant system, and the evolution remains on the manifold."
   ]
  },
  {
   "cell_type": "code",
   "execution_count": 59,
   "id": "bec3615c-b29d-44e7-b71c-6b9a068cda17",
   "metadata": {
    "tags": []
   },
   "outputs": [
    {
     "data": {
      "text/latex": [
       "$\\displaystyle \\left[\\begin{matrix}1 & 0 & 0 & 0 & 0\\\\0 & 1 & 0 & 0 & 0\\\\0 & 0 & 1 & g & - \\frac{g}{2}\\\\0 & 0 & 0 & 1 & -1\\\\0 & 0 & 0 & 0 & 1\\end{matrix}\\right]$"
      ],
      "text/plain": [
       "Matrix([\n",
       "[1, 0, 0, 0,    0],\n",
       "[0, 1, 0, 0,    0],\n",
       "[0, 0, 1, g, -g/2],\n",
       "[0, 0, 0, 1,   -1],\n",
       "[0, 0, 0, 0,    1]])"
      ]
     },
     "execution_count": 59,
     "metadata": {},
     "output_type": "execute_result"
    }
   ],
   "source": [
    "g = sympy.symbols(\"g\")\n",
    "r = sympy.Matrix(\n",
    "    [\n",
    "        [0, 0, 0, 0, 0],\n",
    "        [0, 0, 0, 0, 0],\n",
    "        [0, 0, 0, g, 0],\n",
    "        [0, 0, 0, 0, -1],\n",
    "        [0, 0, 0, 0, 0],\n",
    "    ]\n",
    ")\n",
    "sympy.exp(r)"
   ]
  },
  {
   "cell_type": "markdown",
   "id": "b69c26bc-ee7a-442f-8179-313e9f956207",
   "metadata": {},
   "source": [
    "The $l$ matrix is not trivial to find a closed form exponential for."
   ]
  },
  {
   "cell_type": "code",
   "execution_count": 60,
   "id": "a6ab8de3-4485-4792-8a2b-bfdf5664e631",
   "metadata": {
    "tags": []
   },
   "outputs": [
    {
     "data": {
      "text/latex": [
       "$\\displaystyle \\left[\\begin{matrix}0 & - \\omega_{z} & \\omega_{y} & 0 & 0\\\\\\omega_{z} & 0 & - \\omega_{x} & 0 & 0\\\\- \\omega_{y} & \\omega_{x} & 0 & 0 & 0\\\\0 & 0 & 0 & 0 & -1\\\\0 & 0 & 0 & 0 & 0\\end{matrix}\\right]$"
      ],
      "text/plain": [
       "Matrix([\n",
       "[       0, -omega_z,  omega_y, 0,  0],\n",
       "[ omega_z,        0, -omega_x, 0,  0],\n",
       "[-omega_y,  omega_x,        0, 0,  0],\n",
       "[       0,        0,        0, 0, -1],\n",
       "[       0,        0,        0, 0,  0]])"
      ]
     },
     "execution_count": 60,
     "metadata": {},
     "output_type": "execute_result"
    }
   ],
   "source": [
    "omega_x, omega_y, omega_z, a_x, a_y, a_z = sympy.symbols(\n",
    "    \"omega_x, omega_y, omega_z, a_x, a_y, a_z\"\n",
    ")\n",
    "l = sympy.Matrix(\n",
    "    [\n",
    "        [0, -omega_z, omega_y, 0, 0],\n",
    "        [omega_z, 0, -omega_x, 0, 0],\n",
    "        [-omega_y, omega_x, 0, 0, 0],\n",
    "        [0, 0, 0, 0, -1],\n",
    "        [0, 0, 0, 0, 0],\n",
    "    ]\n",
    ")\n",
    "l"
   ]
  },
  {
   "cell_type": "markdown",
   "id": "5aa65b11-d35f-40f7-8273-e8ace70f33c8",
   "metadata": {},
   "source": [
    "We will analyze this matrix using block matrices. Notice that B is nilpotent. $B^2=0$, $B^3=0$."
   ]
  },
  {
   "cell_type": "code",
   "execution_count": 61,
   "id": "86f0df5f-0e9a-4105-b172-cd6fdbfa68a8",
   "metadata": {
    "tags": []
   },
   "outputs": [
    {
     "data": {
      "text/latex": [
       "$\\displaystyle \\left[\\begin{matrix}\\Omega & A\\\\0 & B\\end{matrix}\\right]$"
      ],
      "text/plain": [
       "Matrix([\n",
       "[Omega, A],\n",
       "[    0, B]])"
      ]
     },
     "execution_count": 61,
     "metadata": {},
     "output_type": "execute_result"
    }
   ],
   "source": [
    "A = sympy.MatrixSymbol(\"A\", 3, 2)\n",
    "B = sympy.MatrixSymbol(\"B\", 2, 2)\n",
    "Omega = sympy.MatrixSymbol(\"Omega\", 3, 3)\n",
    "S = sympy.BlockMatrix([[Omega, A], [sympy.ZeroMatrix(2, 3), B]])\n",
    "S"
   ]
  },
  {
   "cell_type": "markdown",
   "id": "7ecfa673-478a-459c-81c1-cca8840dea41",
   "metadata": {},
   "source": [
    "We can solve this, since B is nilpotent. To spot the series pattern, we will print several terms."
   ]
  },
  {
   "cell_type": "code",
   "execution_count": 62,
   "id": "ef966939-50b3-4da8-bc04-2ab4070cd42b",
   "metadata": {
    "tags": []
   },
   "outputs": [
    {
     "data": {
      "text/latex": [
       "$\\displaystyle \\mathbb{I}$"
      ],
      "text/plain": [
       "I"
      ]
     },
     "execution_count": 62,
     "metadata": {},
     "output_type": "execute_result"
    }
   ],
   "source": [
    "def find_term(n):\n",
    "    sub_B_nilpotent = {B**k: sympy.ZeroMatrix(2, 2) for k in range(2, n + 1)}\n",
    "    return sympy.block_collapse(\n",
    "        sympy.block_collapse(S**n / sympy.factorial(n)).expand().subs(sub_B_nilpotent)\n",
    "    )\n",
    "\n",
    "\n",
    "find_term(0)"
   ]
  },
  {
   "cell_type": "code",
   "execution_count": 63,
   "id": "110d15da-d42b-4a08-9b32-a21d4a3ea9d3",
   "metadata": {
    "tags": []
   },
   "outputs": [
    {
     "data": {
      "text/latex": [
       "$\\displaystyle A$"
      ],
      "text/plain": [
       "A"
      ]
     },
     "execution_count": 63,
     "metadata": {},
     "output_type": "execute_result"
    }
   ],
   "source": [
    "find_term(1).blocks[0, 1]"
   ]
  },
  {
   "cell_type": "code",
   "execution_count": 64,
   "id": "41392062-5dcb-4804-96ef-e3a11b71f014",
   "metadata": {
    "tags": []
   },
   "outputs": [
    {
     "data": {
      "text/latex": [
       "$\\displaystyle \\left(\\frac{1}{2}\\right) A B + \\left(\\frac{1}{2}\\right) \\Omega A$"
      ],
      "text/plain": [
       "(1/2)*A*B + (1/2)*Omega*A"
      ]
     },
     "execution_count": 64,
     "metadata": {},
     "output_type": "execute_result"
    }
   ],
   "source": [
    "find_term(2).blocks[0, 1]"
   ]
  },
  {
   "cell_type": "code",
   "execution_count": 65,
   "id": "55dfa137-2fac-4b5e-9f46-55cd90616c94",
   "metadata": {
    "tags": []
   },
   "outputs": [
    {
     "data": {
      "text/latex": [
       "$\\displaystyle \\left(\\frac{1}{6}\\right) \\Omega^{2} A + \\left(\\frac{1}{6}\\right) \\Omega A B$"
      ],
      "text/plain": [
       "(1/6)*Omega**2*A + (1/6)*Omega*A*B"
      ]
     },
     "execution_count": 65,
     "metadata": {},
     "output_type": "execute_result"
    }
   ],
   "source": [
    "find_term(3).blocks[0, 1]"
   ]
  },
  {
   "cell_type": "code",
   "execution_count": 66,
   "id": "de9e6dc2-652f-4e1b-8e73-c7a7eb00f2c7",
   "metadata": {
    "tags": []
   },
   "outputs": [
    {
     "data": {
      "text/latex": [
       "$\\displaystyle \\left(\\frac{1}{24}\\right) \\Omega^{2} A B + \\left(\\frac{1}{24}\\right) \\Omega^{3} A$"
      ],
      "text/plain": [
       "(1/24)*Omega**2*A*B + (1/24)*Omega**3*A"
      ]
     },
     "execution_count": 66,
     "metadata": {},
     "output_type": "execute_result"
    }
   ],
   "source": [
    "find_term(4).blocks[0, 1]"
   ]
  },
  {
   "cell_type": "code",
   "execution_count": 67,
   "id": "55912c1a-db0c-44cf-b89c-d1cfe3f4c904",
   "metadata": {
    "tags": []
   },
   "outputs": [
    {
     "data": {
      "text/latex": [
       "$\\displaystyle \\left[\\begin{matrix}\\mathbb{I} + \\left(\\frac{1}{2}\\right) \\Omega^{2} + \\left(\\frac{1}{6}\\right) \\Omega^{3} + \\left(\\frac{1}{24}\\right) \\Omega^{4} + \\Omega & \\left(\\frac{1}{6}\\right) \\Omega^{2} A + \\left(\\frac{1}{24}\\right) \\Omega^{2} A B + \\left(\\frac{1}{24}\\right) \\Omega^{3} A + A + \\left(\\frac{1}{2}\\right) A B + \\left(\\frac{1}{2}\\right) \\Omega A + \\left(\\frac{1}{6}\\right) \\Omega A B\\\\0 & \\mathbb{I} + B\\end{matrix}\\right]$"
      ],
      "text/plain": [
       "Matrix([\n",
       "[I + (1/2)*Omega**2 + (1/6)*Omega**3 + (1/24)*Omega**4 + Omega, (1/6)*Omega**2*A + (1/24)*Omega**2*A*B + (1/24)*Omega**3*A + A + (1/2)*A*B + (1/2)*Omega*A + (1/6)*Omega*A*B],\n",
       "[                                                            0,                                                                                                        I + B]])"
      ]
     },
     "execution_count": 67,
     "metadata": {},
     "output_type": "execute_result"
    }
   ],
   "source": [
    "T = sympy.ZeroMatrix(5, 5)\n",
    "for i in range(5):\n",
    "    T += find_term(i)\n",
    "T = sympy.block_collapse(T)\n",
    "T"
   ]
  },
  {
   "cell_type": "markdown",
   "id": "5d878821-525e-4e77-9f45-f1524e37e35e",
   "metadata": {},
   "source": [
    "We now create a series for the top right term."
   ]
  },
  {
   "cell_type": "code",
   "execution_count": 68,
   "id": "a6407276-e5d9-4168-8c8f-4139603c8837",
   "metadata": {
    "tags": []
   },
   "outputs": [
    {
     "data": {
      "text/latex": [
       "$\\displaystyle \\frac{1}{k!} \\left(\\Omega^{k - 2} A B + \\Omega^{k - 1} A\\right)$"
      ],
      "text/plain": [
       "1/factorial(k)*(Omega**(k - 2)*A*B + Omega**(k - 1)*A)"
      ]
     },
     "execution_count": 68,
     "metadata": {},
     "output_type": "execute_result"
    }
   ],
   "source": [
    "n = sympy.symbols(\"n\", integer=True)\n",
    "k = sympy.symbols(\"k\", integer=True)\n",
    "theta = sympy.symbols(\"theta\")\n",
    "\n",
    "expr = (Omega ** (k - 1) * A + Omega ** (k - 2) * A * B) / sympy.factorial(k)\n",
    "expr"
   ]
  },
  {
   "cell_type": "markdown",
   "id": "167b00da-6ebc-4bc9-b6f9-d31248729006",
   "metadata": {
    "tags": []
   },
   "source": [
    "The series is only valid after k=2"
   ]
  },
  {
   "cell_type": "code",
   "execution_count": 69,
   "id": "f2ea7b27-9f2e-4d60-9677-f7acd367490d",
   "metadata": {
    "tags": []
   },
   "outputs": [
    {
     "data": {
      "text/latex": [
       "$\\displaystyle \\left(\\frac{1}{2}\\right) A B + \\left(\\frac{1}{2}\\right) \\Omega A$"
      ],
      "text/plain": [
       "(1/2)*A*B + (1/2)*Omega*A"
      ]
     },
     "execution_count": 69,
     "metadata": {},
     "output_type": "execute_result"
    }
   ],
   "source": [
    "sympy.block_collapse(expr.subs(k, 2))"
   ]
  },
  {
   "cell_type": "code",
   "execution_count": 70,
   "id": "38ae3c86-9bd5-4ff6-ada3-784f7ebd9f3e",
   "metadata": {
    "tags": []
   },
   "outputs": [
    {
     "data": {
      "text/latex": [
       "$\\displaystyle \\left(\\frac{1}{6}\\right) \\Omega^{2} A + \\left(\\frac{1}{6}\\right) \\Omega A B$"
      ],
      "text/plain": [
       "(1/6)*Omega**2*A + (1/6)*Omega*A*B"
      ]
     },
     "execution_count": 70,
     "metadata": {},
     "output_type": "execute_result"
    }
   ],
   "source": [
    "sympy.block_collapse(expr.subs(k, 3))"
   ]
  },
  {
   "cell_type": "code",
   "execution_count": 71,
   "id": "93bf6b54-fc3c-46db-9355-d73061eac332",
   "metadata": {
    "tags": []
   },
   "outputs": [
    {
     "data": {
      "text/latex": [
       "$\\displaystyle \\left(\\frac{1}{24}\\right) \\Omega^{2} A B + \\left(\\frac{1}{24}\\right) \\Omega^{3} A$"
      ],
      "text/plain": [
       "(1/24)*Omega**2*A*B + (1/24)*Omega**3*A"
      ]
     },
     "execution_count": 71,
     "metadata": {},
     "output_type": "execute_result"
    }
   ],
   "source": [
    "sympy.block_collapse(expr.subs(k, 4))"
   ]
  },
  {
   "cell_type": "markdown",
   "id": "ab3e8d13-1d4f-43ab-ac6a-a8fd67160e78",
   "metadata": {},
   "source": [
    "Since Omega is skew symmetric we have that:"
   ]
  },
  {
   "cell_type": "code",
   "execution_count": 110,
   "id": "dec9c374-8f91-4404-947d-db4b7b506f21",
   "metadata": {
    "tags": []
   },
   "outputs": [
    {
     "data": {
      "text/plain": [
       "{Omega**(2*k): ((-1)**(k - 1)*theta**(2*k - 2))*Omega**2,\n",
       " Omega**(2*k + 1): ((-1)**k*theta**(2*k))*Omega,\n",
       " Omega**(2*k + 2): ((-1)**k*theta**(2*k))*Omega**2,\n",
       " Omega**(2*k + 3): ((-1)**(k + 1)*theta**(2*k + 2))*Omega}"
      ]
     },
     "execution_count": 110,
     "metadata": {},
     "output_type": "execute_result"
    }
   ],
   "source": [
    "sub_omega_powers = {\n",
    "    Omega ** (2 * k): (-1) ** (k - 1) * theta ** (2 * (k - 1)) * Omega**2,\n",
    "    Omega ** (2 * k + 1): (-1) ** k * theta ** (2 * k) * Omega,\n",
    "    Omega ** (2 * k + 2): (-1) ** k * theta ** (2 * k) * Omega**2,\n",
    "    Omega ** (2 * k + 3): (-1) ** (k + 1) * theta ** (2 * (k + 1)) * Omega,\n",
    "}\n",
    "sub_omega_powers"
   ]
  },
  {
   "cell_type": "code",
   "execution_count": 111,
   "id": "ab6bcbc0-92e3-4e7f-974d-c9c520ab63f7",
   "metadata": {
    "tags": []
   },
   "outputs": [
    {
     "data": {
      "text/latex": [
       "$\\displaystyle \\frac{1}{k!} \\Omega^{k - 2} A B + \\frac{1}{k!} \\Omega^{k - 1} A$"
      ],
      "text/plain": [
       "1/factorial(k)*Omega**(k - 2)*A*B + 1/factorial(k)*Omega**(k - 1)*A"
      ]
     },
     "execution_count": 111,
     "metadata": {},
     "output_type": "execute_result"
    }
   ],
   "source": [
    "expr.expand()"
   ]
  },
  {
   "cell_type": "code",
   "execution_count": 112,
   "id": "f36d6ef5-666a-40fe-b94d-5beb879cd857",
   "metadata": {
    "tags": []
   },
   "outputs": [
    {
     "data": {
      "text/latex": [
       "$\\displaystyle \\frac{\\left(-1\\right)^{k} \\theta^{2 k}}{\\left(2 k + 4\\right)!} \\Omega^{2} A B + - \\frac{\\left(-1\\right)^{k} \\theta^{2 k + 2}}{\\left(2 k + 4\\right)!} \\Omega A$"
      ],
      "text/plain": [
       "((-1)**k*theta**(2*k)/factorial(2*k + 4))*Omega**2*A*B + (-(-1)**k*theta**(2*k + 2)/factorial(2*k + 4))*Omega*A"
      ]
     },
     "execution_count": 112,
     "metadata": {},
     "output_type": "execute_result"
    }
   ],
   "source": [
    "even_expr = expr.subs(k, 2 * k + 4).subs(sub_omega_powers).expand()\n",
    "even_expr"
   ]
  },
  {
   "cell_type": "code",
   "execution_count": 113,
   "id": "1ce6844a-918d-44a8-8718-ca64f55907cf",
   "metadata": {
    "tags": []
   },
   "outputs": [
    {
     "data": {
      "text/latex": [
       "$\\displaystyle - \\frac{\\left(-1\\right)^{k} \\theta^{2 k + 2}}{\\left(2 k + 4\\right)!}$"
      ],
      "text/plain": [
       "-(-1)**k*theta**(2*k + 2)/factorial(2*k + 4)"
      ]
     },
     "execution_count": 113,
     "metadata": {},
     "output_type": "execute_result"
    }
   ],
   "source": [
    "even_expr.args[0].args[0]"
   ]
  },
  {
   "cell_type": "code",
   "execution_count": 114,
   "id": "cddc4d6f-bd38-496c-a499-73d8e0e4fb73",
   "metadata": {
    "tags": []
   },
   "outputs": [
    {
     "data": {
      "text/latex": [
       "$\\displaystyle \\frac{- \\frac{\\theta^{2}}{2} - \\cos{\\left(\\theta \\right)} + 1}{\\theta^{2}}$"
      ],
      "text/plain": [
       "(-theta**2/2 - cos(theta) + 1)/theta**2"
      ]
     },
     "execution_count": 114,
     "metadata": {},
     "output_type": "execute_result"
    }
   ],
   "source": [
    "even_t1 = sympy.summation(even_expr.args[0].args[0], (k, 0, sympy.oo)).simplify()\n",
    "even_t1"
   ]
  },
  {
   "cell_type": "code",
   "execution_count": 115,
   "id": "e843623c-242e-4445-a3df-00935c95b18c",
   "metadata": {
    "tags": []
   },
   "outputs": [
    {
     "data": {
      "text/latex": [
       "$\\displaystyle - \\frac{\\theta^{2}}{24} + \\frac{\\theta^{4}}{720} + O\\left(\\theta^{6}\\right)$"
      ],
      "text/plain": [
       "-theta**2/24 + theta**4/720 + O(theta**6)"
      ]
     },
     "execution_count": 115,
     "metadata": {},
     "output_type": "execute_result"
    }
   ],
   "source": [
    "sympy.series(even_t1, theta)"
   ]
  },
  {
   "cell_type": "code",
   "execution_count": 116,
   "id": "f0a8bbc7-a45f-44c4-8b31-19d36098627f",
   "metadata": {
    "tags": []
   },
   "outputs": [
    {
     "data": {
      "text/latex": [
       "$\\displaystyle \\frac{\\left(-1\\right)^{k} \\theta^{2 k}}{\\left(2 k + 4\\right)!}$"
      ],
      "text/plain": [
       "(-1)**k*theta**(2*k)/factorial(2*k + 4)"
      ]
     },
     "execution_count": 116,
     "metadata": {},
     "output_type": "execute_result"
    }
   ],
   "source": [
    "even_expr.args[1].args[0]"
   ]
  },
  {
   "cell_type": "code",
   "execution_count": 133,
   "id": "cb9bb846-2bee-4270-a1af-09b011d422d7",
   "metadata": {
    "tags": []
   },
   "outputs": [
    {
     "data": {
      "text/latex": [
       "$\\displaystyle \\frac{- \\frac{\\theta^{4}}{24} + \\frac{\\theta^{2}}{2} + \\cos{\\left(\\theta \\right)} - 1}{\\theta^{4}}$"
      ],
      "text/plain": [
       "(-theta**4/24 + theta**2/2 + cos(theta) - 1)/theta**4"
      ]
     },
     "execution_count": 133,
     "metadata": {},
     "output_type": "execute_result"
    }
   ],
   "source": [
    "even_t2 = (\n",
    "    sympy.summation(even_expr.args[1].args[0], (k, 1, sympy.oo)).simplify().simplify()\n",
    ")\n",
    "even_t2"
   ]
  },
  {
   "cell_type": "code",
   "execution_count": 134,
   "id": "5dd5e3e5-1047-45ca-84f6-de112fac73a6",
   "metadata": {
    "tags": []
   },
   "outputs": [
    {
     "data": {
      "text/latex": [
       "$\\displaystyle - \\frac{\\theta^{2}}{720} + \\frac{\\theta^{4}}{40320} + O\\left(\\theta^{6}\\right)$"
      ],
      "text/plain": [
       "-theta**2/720 + theta**4/40320 + O(theta**6)"
      ]
     },
     "execution_count": 134,
     "metadata": {},
     "output_type": "execute_result"
    }
   ],
   "source": [
    "sympy.series(even_t2, theta)"
   ]
  },
  {
   "cell_type": "code",
   "execution_count": 216,
   "id": "943fbe2d-5b30-44c2-a732-7d8a76d49319",
   "metadata": {
    "tags": []
   },
   "outputs": [
    {
     "data": {
      "text/latex": [
       "$\\displaystyle C_{1} \\Omega A + C_{2} \\Omega^{2} A B$"
      ],
      "text/plain": [
       "C_1*Omega*A + C_2*Omega**2*A*B"
      ]
     },
     "execution_count": 216,
     "metadata": {},
     "output_type": "execute_result"
    }
   ],
   "source": [
    "C_1, C_2 = sympy.symbols(\"C_1, C_2\")\n",
    "C_1_eq = even_t1\n",
    "C_2_eq = even_t2\n",
    "even_series_sol = C_1 * Omega * A + C_2 * Omega**2 * A * B\n",
    "even_series_sol"
   ]
  },
  {
   "cell_type": "code",
   "execution_count": 217,
   "id": "f1900fd4-9614-440b-adf5-1dabbed4d82b",
   "metadata": {
    "tags": []
   },
   "outputs": [
    {
     "data": {
      "text/latex": [
       "$\\displaystyle \\frac{\\left(-1\\right)^{k} \\theta^{2 k}}{\\left(2 k + 3\\right)!} \\Omega^{2} A + \\frac{\\left(-1\\right)^{k} \\theta^{2 k}}{\\left(2 k + 3\\right)!} \\Omega A B$"
      ],
      "text/plain": [
       "((-1)**k*theta**(2*k)/factorial(2*k + 3))*Omega**2*A + ((-1)**k*theta**(2*k)/factorial(2*k + 3))*Omega*A*B"
      ]
     },
     "execution_count": 217,
     "metadata": {},
     "output_type": "execute_result"
    }
   ],
   "source": [
    "odd_expr = expr.subs(k, 2 * k + 3).subs(sub_omega_powers).expand()\n",
    "odd_expr"
   ]
  },
  {
   "cell_type": "code",
   "execution_count": 218,
   "id": "fd3c86f9-5fdd-4df4-972a-d3f84f6b1f1f",
   "metadata": {
    "tags": []
   },
   "outputs": [
    {
     "data": {
      "text/latex": [
       "$\\displaystyle \\frac{\\left(-1\\right)^{k} \\theta^{2 k}}{\\left(2 k + 3\\right)!}$"
      ],
      "text/plain": [
       "(-1)**k*theta**(2*k)/factorial(2*k + 3)"
      ]
     },
     "execution_count": 218,
     "metadata": {},
     "output_type": "execute_result"
    }
   ],
   "source": [
    "odd_expr.args[0].args[0]"
   ]
  },
  {
   "cell_type": "code",
   "execution_count": 219,
   "id": "00b14a56-654c-4aa2-8d7c-5bef3f5d07a7",
   "metadata": {
    "tags": []
   },
   "outputs": [
    {
     "data": {
      "text/latex": [
       "$\\displaystyle \\frac{\\theta - \\sin{\\left(\\theta \\right)}}{\\theta^{3}}$"
      ],
      "text/plain": [
       "(theta - sin(theta))/theta**3"
      ]
     },
     "execution_count": 219,
     "metadata": {},
     "output_type": "execute_result"
    }
   ],
   "source": [
    "odd_t1 = sympy.summation(odd_expr.args[0].args[0], (k, 0, sympy.oo)).simplify()\n",
    "odd_t1"
   ]
  },
  {
   "cell_type": "code",
   "execution_count": 220,
   "id": "3032004c-58a4-45b1-9850-98cfbc8c42f0",
   "metadata": {
    "tags": []
   },
   "outputs": [
    {
     "data": {
      "text/latex": [
       "$\\displaystyle \\frac{\\left(-1\\right)^{k} \\theta^{2 k}}{\\left(2 k + 3\\right)!}$"
      ],
      "text/plain": [
       "(-1)**k*theta**(2*k)/factorial(2*k + 3)"
      ]
     },
     "execution_count": 220,
     "metadata": {},
     "output_type": "execute_result"
    }
   ],
   "source": [
    "odd_expr.args[1].args[0]"
   ]
  },
  {
   "cell_type": "code",
   "execution_count": 221,
   "id": "f87d8602-0655-43eb-95a1-cf1e869dacae",
   "metadata": {
    "tags": []
   },
   "outputs": [
    {
     "data": {
      "text/latex": [
       "$\\displaystyle \\frac{\\theta - \\sin{\\left(\\theta \\right)}}{\\theta^{3}}$"
      ],
      "text/plain": [
       "(theta - sin(theta))/theta**3"
      ]
     },
     "execution_count": 221,
     "metadata": {},
     "output_type": "execute_result"
    }
   ],
   "source": [
    "odd_t2 = sympy.summation(odd_expr.args[1].args[0], (k, 0, sympy.oo)).simplify()\n",
    "odd_t2"
   ]
  },
  {
   "cell_type": "code",
   "execution_count": 247,
   "id": "def93dbf-840e-48fb-bf7e-5f63d1af3227",
   "metadata": {
    "tags": []
   },
   "outputs": [
    {
     "data": {
      "text/latex": [
       "$\\displaystyle C_{3} \\Omega^{2} A + C_{3} \\Omega A B$"
      ],
      "text/plain": [
       "C_3*Omega**2*A + C_3*Omega*A*B"
      ]
     },
     "execution_count": 247,
     "metadata": {},
     "output_type": "execute_result"
    }
   ],
   "source": [
    "C_3 = sympy.symbols(\"C_3\")\n",
    "C_3_eq = odd_t1\n",
    "odd_series_sol = C_3 * Omega**2 * A + C_3 * Omega * A * B\n",
    "odd_series_sol"
   ]
  },
  {
   "cell_type": "code",
   "execution_count": 248,
   "id": "3724e612-6cf2-4f32-8bba-42e0ed9d0d22",
   "metadata": {
    "tags": []
   },
   "outputs": [
    {
     "data": {
      "text/latex": [
       "$\\displaystyle \\left(\\frac{1}{6}\\right) \\Omega^{2} A + \\left(\\frac{1}{6}\\right) \\Omega A B$"
      ],
      "text/plain": [
       "(1/6)*Omega**2*A + (1/6)*Omega*A*B"
      ]
     },
     "execution_count": 248,
     "metadata": {},
     "output_type": "execute_result"
    }
   ],
   "source": [
    "find_term(3).blocks[0, 1]"
   ]
  },
  {
   "cell_type": "code",
   "execution_count": 249,
   "id": "51f76aef-f34c-4b2a-8273-7eb2a2a96fdd",
   "metadata": {
    "tags": []
   },
   "outputs": [
    {
     "data": {
      "text/latex": [
       "$\\displaystyle N = C_{2} \\Omega^{2} A B + \\left(C_{1} + \\frac{1}{2}\\right) \\Omega A + \\left(C_{3} + \\frac{1}{6}\\right) \\Omega^{2} A + \\left(C_{3} + \\frac{1}{6}\\right) \\Omega A B + A + \\left(\\frac{1}{2}\\right) A B$"
      ],
      "text/plain": [
       "Eq(N, C_2*Omega**2*A*B + (C_1 + 1/2)*Omega*A + (C_3 + 1/6)*Omega**2*A + (C_3 + 1/6)*Omega*A*B + A + (1/2)*A*B)"
      ]
     },
     "execution_count": 249,
     "metadata": {},
     "output_type": "execute_result"
    }
   ],
   "source": [
    "N = sympy.block_collapse(\n",
    "    find_term(1).blocks[0, 1]\n",
    "    + find_term(2).blocks[0, 1]\n",
    "    + find_term(3).blocks[0, 1]\n",
    "    + even_series_sol\n",
    "    + odd_series_sol\n",
    ")\n",
    "sympy.Eq(sympy.MatrixSymbol(\"N\", 3, 2), N)"
   ]
  },
  {
   "cell_type": "markdown",
   "id": "a411e7eb-cba3-40c4-86d6-5771d98f0447",
   "metadata": {},
   "source": [
    "This gives us the form of the exponential necessary for mixed-invariant vector fields."
   ]
  },
  {
   "cell_type": "markdown",
   "id": "4ec5a0e9-92ab-42d0-aef6-eb3660f2edb6",
   "metadata": {},
   "source": [
    "$$ l = \\begin{bmatrix} \\Omega && A \\\\ 0 && B \\end{bmatrix} $$\n",
    "\n",
    "$$ exp(l) = \\begin{bmatrix} e^{\\Omega} && N_l \\\\ 0 && I + B \\end{bmatrix} $$"
   ]
  },
  {
   "cell_type": "markdown",
   "id": "50c62ea5-43cb-41f8-8f35-ea9ed564daa4",
   "metadata": {
    "tags": []
   },
   "source": [
    "The r vector also fits this form:\n",
    "    \n",
    "$$r = \\begin{bmatrix} 0 && C \\\\ 0 && -B \\end{bmatrix}$$\n",
    "\n",
    "$$exp(r) = \\begin{bmatrix}\n",
    "I && \n",
    "N_r  \\\\\n",
    "0 && I - B\n",
    "\\end{bmatrix}\n",
    "$$"
   ]
  },
  {
   "cell_type": "markdown",
   "id": "de0878b3-aa71-41c6-838b-2bda5e8b3ae4",
   "metadata": {
    "tags": []
   },
   "source": [
    "$$ X(t) = e^{rt} X(0) e^{lt}$$\n",
    "\n",
    "$$ N_l \\equiv N(\\Omega, A, B)$$\n",
    "\n",
    "$$ N_r \\equiv N(0, C, -B)$$\n",
    "\n",
    "$$ X(t) = \\begin{bmatrix}\n",
    "e^{\\Omega_r} && \n",
    "N_r  \\\\\n",
    "0 && I - B\n",
    "\\end{bmatrix}\n",
    "\\begin{bmatrix}\n",
    "R && \n",
    "P  \\\\\n",
    "0 && I\n",
    "\\end{bmatrix}\n",
    "\\begin{bmatrix}\n",
    "e^{\\Omega_l} && \n",
    "N_l  \\\\\n",
    "0 && I + B\n",
    "\\end{bmatrix} \n",
    "$$"
   ]
  },
  {
   "cell_type": "markdown",
   "id": "52866964-813a-498c-b953-974487259e60",
   "metadata": {
    "tags": []
   },
   "source": [
    "$$ X(t) = \\begin{bmatrix}\n",
    "e^{\\Omega_r} R && \n",
    "e^{\\Omega_r}P  + N_r  \\\\\n",
    "0 && I - B\n",
    "\\end{bmatrix} \\begin{bmatrix}\n",
    "e^{\\Omega_l} && \n",
    "N_l  \\\\\n",
    "0 && I + B\n",
    "\\end{bmatrix} \n",
    "$$"
   ]
  },
  {
   "cell_type": "markdown",
   "id": "6a9e6312-1a04-4402-bba8-194b58d8595a",
   "metadata": {
    "tags": []
   },
   "source": [
    "$$ X(t) = \\begin{bmatrix}\n",
    "e^{\\Omega_r }R e^{\\Omega_l} && \n",
    "e^{\\Omega_r}R N_l + (e^{\\Omega_r} P + N_r)(I + B)\\\\\n",
    "0 && I\n",
    "\\end{bmatrix}\n",
    "$$\n",
    "\n",
    "Note here that B^2 is nilpotent so that $(I+B)(I-B) = I$."
   ]
  },
  {
   "cell_type": "code",
   "execution_count": 262,
   "id": "f9be431d-5061-4075-a732-ede605d23b9e",
   "metadata": {
    "tags": []
   },
   "outputs": [
    {
     "data": {
      "text/plain": [
       "{C_1: theta**4/720 - theta**2/24,\n",
       " C_2: theta**4/40320 - theta**2/720,\n",
       " C_3: theta**4/5040 - theta**2/120 + 1/6}"
      ]
     },
     "execution_count": 262,
     "metadata": {},
     "output_type": "execute_result"
    }
   ],
   "source": [
    "sub_series = {\n",
    "    A: sympy.series(A_eq, theta).removeO()\n",
    "    for A, A_eq in [(C_1, C_1_eq), (C_2, C_2_eq), (C_3, C_3_eq)]\n",
    "}\n",
    "sub_series"
   ]
  },
  {
   "cell_type": "code",
   "execution_count": 263,
   "id": "7a15ee41-f108-4cde-88dd-4ad37d588455",
   "metadata": {
    "tags": []
   },
   "outputs": [
    {
     "data": {
      "text/latex": [
       "$\\displaystyle \\left[\\begin{matrix}0 & 0\\\\0 & 0\\\\g & 0\\end{matrix}\\right]$"
      ],
      "text/plain": [
       "Matrix([\n",
       "[0, 0],\n",
       "[0, 0],\n",
       "[g, 0]])"
      ]
     },
     "execution_count": 263,
     "metadata": {},
     "output_type": "execute_result"
    }
   ],
   "source": [
    "sympy.block_collapse(\n",
    "    N.subs(sub_series)\n",
    "    .subs(theta, 0)\n",
    "    .subs(\n",
    "        {\n",
    "            Omega: sympy.ZeroMatrix(3, 3),\n",
    "            B: sympy.Matrix([[0, 0], [0, 1]]),\n",
    "            A: sympy.Matrix([[0, 0], [0, 0], [g, 0]]),\n",
    "        }\n",
    "    )\n",
    ")"
   ]
  },
  {
   "cell_type": "code",
   "execution_count": 264,
   "id": "0390fe5c-a757-4ff4-b7ad-f6fff9e771f8",
   "metadata": {
    "tags": []
   },
   "outputs": [
    {
     "data": {
      "text/latex": [
       "$\\displaystyle - \\frac{\\theta^{2}}{720} + \\frac{\\theta^{4}}{40320} + O\\left(\\theta^{6}\\right)$"
      ],
      "text/plain": [
       "-theta**2/720 + theta**4/40320 + O(theta**6)"
      ]
     },
     "execution_count": 264,
     "metadata": {},
     "output_type": "execute_result"
    }
   ],
   "source": [
    "even_t2.series()"
   ]
  },
  {
   "cell_type": "code",
   "execution_count": 265,
   "id": "4f0e31af-7c59-4ec1-be9a-0b0cbece974e",
   "metadata": {
    "tags": []
   },
   "outputs": [
    {
     "data": {
      "text/latex": [
       "$\\displaystyle C_{2} \\Omega^{2} A B + \\left(C_{1} + \\frac{1}{2}\\right) \\Omega A + \\left(C_{3} + \\frac{1}{6}\\right) \\Omega^{2} A + \\left(C_{3} + \\frac{1}{6}\\right) \\Omega A B + A + \\left(\\frac{1}{2}\\right) A B$"
      ],
      "text/plain": [
       "C_2*Omega**2*A*B + (C_1 + 1/2)*Omega*A + (C_3 + 1/6)*Omega**2*A + (C_3 + 1/6)*Omega*A*B + A + (1/2)*A*B"
      ]
     },
     "execution_count": 265,
     "metadata": {},
     "output_type": "execute_result"
    }
   ],
   "source": [
    "N.series(theta)"
   ]
  },
  {
   "cell_type": "code",
   "execution_count": null,
   "id": "67c51cdf-481c-470b-83f6-f652b5f186a2",
   "metadata": {},
   "outputs": [],
   "source": []
  }
 ],
 "metadata": {
  "kernelspec": {
   "display_name": "Python 3 (ipykernel)",
   "language": "python",
   "name": "python3"
  },
  "language_info": {
   "codemirror_mode": {
    "name": "ipython",
    "version": 3
   },
   "file_extension": ".py",
   "mimetype": "text/x-python",
   "name": "python",
   "nbconvert_exporter": "python",
   "pygments_lexer": "ipython3",
   "version": "3.12.3"
  }
 },
 "nbformat": 4,
 "nbformat_minor": 5
}
