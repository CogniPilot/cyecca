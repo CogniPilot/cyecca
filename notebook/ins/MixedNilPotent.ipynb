{
 "cells": [
  {
   "cell_type": "markdown",
   "id": "d38d1a5f",
   "metadata": {},
   "source": [
    "\\begin{align*}\n",
    "P(\\Omega, A, B, l) &= A + \\sum\\limits_{k=0}^{\\infty} \\sum\\limits_{m=0}^{k + 1} \\dfrac{\\Omega^{k - m + 1}A B^m}{(k + 2)!}\n",
    "\\end{align*}"
   ]
  },
  {
   "cell_type": "markdown",
   "id": "a16c5538",
   "metadata": {},
   "source": [
    "We can split this series into the terms with omega and those without."
   ]
  },
  {
   "cell_type": "markdown",
   "id": "e51e36a7",
   "metadata": {},
   "source": [
    "\\begin{align*}\n",
    "P(\\Omega, A, B, l) = A + \\sum\\limits_{k=0}^{\\infty}\\dfrac{A B^{k+1}}{(k + 2)!} + \\sum\\limits_{k=0}^{\\infty} \\sum\\limits_{m=0}^{k} \\dfrac{\\Omega^{k - m + 1}A B^m}{(k + 2)!} \n",
    "\\end{align*}\n",
    "\n",
    "\\begin{align*}\n",
    "P_0(\\Omega, A, B, l) = A + \\sum\\limits_{k=0}^{\\infty}\\dfrac{A B^{k+1}}{(k + 2)!} \n",
    "\\end{align*}\n",
    "\n",
    "\\begin{align*}\n",
    "P_1(\\Omega, A, B, l) = \\sum\\limits_{k=0}^{\\infty} \\sum\\limits_{m=0}^{k} \\dfrac{\\Omega^{k - m + 1}A B^m}{(k + 2)!} \n",
    "\\end{align*}\n",
    "\n",
    "\\begin{align*}\n",
    "P(\\Omega, A, B, l)  = P_0(\\Omega, A, B, l) + P_1(\\Omega, A, B, l)\n",
    "\\end{align*}"
   ]
  },
  {
   "cell_type": "markdown",
   "id": "0e8b4faf",
   "metadata": {},
   "source": [
    "Since $$B^l = 0$$"
   ]
  },
  {
   "cell_type": "markdown",
   "id": "db195f3c",
   "metadata": {},
   "source": [
    "\n",
    "\\begin{align*}\n",
    "P_0(\\Omega, A, B, l) = A + \\sum\\limits_{k=0}^{l-2}\\dfrac{A B^{k+1}}{(k + 2)!} \n",
    "\\end{align*}\n"
   ]
  },
  {
   "cell_type": "markdown",
   "id": "4cbe0202",
   "metadata": {},
   "source": [
    "\n",
    "\\begin{align*}\n",
    "P_0(\\Omega, A, B, l) = A \\sum\\limits_{m=0}^{l-1}\\dfrac{B^{m}}{(m + 1)!} \n",
    "\\end{align*}"
   ]
  },
  {
   "cell_type": "markdown",
   "id": "fbae0a75",
   "metadata": {},
   "source": [
    "We can reoder the indices of the last term so that the powers of B are in the outer summation:  $$ k' = k = m$$"
   ]
  },
  {
   "cell_type": "markdown",
   "id": "0cc51db4",
   "metadata": {},
   "source": [
    "\\begin{align*}\n",
    " P_1(\\Omega, A, B, l)\n",
    "    &=   \\sum\\limits_{m=0}^{\\infty} \\left[ \\sum\\limits_{k'=0}^{\\infty} \\dfrac{\\Omega^{k' + 1}}{(k' + m + 2)!} \\right] A B^m\n",
    "\\end{align*}"
   ]
  },
  {
   "cell_type": "markdown",
   "id": "175a9152",
   "metadata": {},
   "source": [
    "Since $$B^{l + 1} = 0$$"
   ]
  },
  {
   "cell_type": "markdown",
   "id": "ba4fd2d0",
   "metadata": {},
   "source": [
    "\\begin{align*}\n",
    " P_1(\\Omega, A, B, l)\n",
    "    &=   \\sum\\limits_{m=0}^{l-1} \\left[ \\sum\\limits_{k=0}^{\\infty} \\dfrac{\\Omega^{k + 1}}{(k + m + 2)!} \\right] A B^m\n",
    "\\end{align*}"
   ]
  },
  {
   "cell_type": "markdown",
   "id": "48210392",
   "metadata": {},
   "source": [
    "$k = 2k'$\n",
    "\n",
    "$k = 2k''$"
   ]
  },
  {
   "cell_type": "markdown",
   "id": "1884da05",
   "metadata": {},
   "source": [
    "\\begin{align*}\n",
    " P_1(\\Omega, A, B, l)\n",
    "    &=   \\sum\\limits_{m=0}^{l-1} \\left[ \\sum\\limits_{k'=0}^{\\infty} \\dfrac{\\Omega^{2k' + 1}}{(2k' + m + 2)!} \n",
    "    + \\sum\\limits_{k'=0}^{\\infty} \\dfrac{\\Omega^{2k'' + 2}}{(2k'' + m + 3)!}\n",
    "     \\right] A B^m \n",
    "\\end{align*}"
   ]
  },
  {
   "cell_type": "markdown",
   "id": "39375efc",
   "metadata": {},
   "source": [
    "\\begin{align*}\n",
    " P_1(\\Omega, A, B, l)\n",
    "    &=   \\sum\\limits_{m=0}^{l-1} \\left[  \\sum\\limits_{k'=0}^{\\infty} \\dfrac{(-1)^k \\theta^{2k}\\Omega}{(2k' + m + 2)!} \n",
    "    +  \\sum\\limits_{k'=0}^{\\infty} \\dfrac{(-1)^k \\theta^{2k}\\Omega^2}{(2k'' + m + 3)!}\n",
    "     \\right] A B^m \\\\\n",
    "\\end{align*}"
   ]
  },
  {
   "cell_type": "markdown",
   "id": "1454a826",
   "metadata": {},
   "source": [
    "\\begin{align*}\n",
    "c_m(\\theta) &= \\sum\\limits_{k=0}^{\\infty} \\dfrac{(-1)^k \\theta^{2k} }{(2k + m + 2)!} \\\\\n",
    "\\end{align*}"
   ]
  },
  {
   "cell_type": "markdown",
   "id": "6a95ba79",
   "metadata": {},
   "source": [
    "\\begin{align*}\n",
    " P_1(\\Omega, A, B, l)\n",
    "    &=   \\Omega A \\sum\\limits_{m=0}^{l-1} c_m(\\theta) B^m \n",
    "    + \\Omega^2  A \\sum\\limits_{m=0}^{l-1} c_{m+1}(\\theta) B^m \n",
    "\\end{align*}"
   ]
  },
  {
   "cell_type": "markdown",
   "id": "b7528dec",
   "metadata": {},
   "source": [
    "\\begin{align*}\n",
    "P(\\Omega, A, B, l) = A \\sum\\limits_{m=0}^{l-1}\\dfrac{B^{m}}{(m + 1)!}    + \\Omega A \\sum\\limits_{m=0}^{l-1} c_m(\\theta) B^m \n",
    "    + \\Omega^2  A \\sum\\limits_{m=0}^{l-1} c_{m+1}(\\theta) B^m \n",
    "\\end{align*}\n",
    "\n",
    "\\begin{align*}\n",
    "c_m(\\theta) &= \\sum\\limits_{k=0}^{\\infty} \\dfrac{(-1)^k \\theta^{2k} }{(2k + m + 2)!} \\\\\n",
    "\\end{align*}"
   ]
  },
  {
   "cell_type": "code",
   "execution_count": 1,
   "id": "3ad7cf1b",
   "metadata": {},
   "outputs": [
    {
     "name": "stdout",
     "output_type": "stream",
     "text": [
      "P = \n",
      "[[0.0768327, 0.682552, 0.625768], \n",
      " [0.299501, 0.587554, 0.480925], \n",
      " [0.0887573, 0.910165, 0.960526]]\n"
     ]
    }
   ],
   "source": [
    "import math\n",
    "import casadi as ca\n",
    "import numpy as np\n",
    "\n",
    "def nilpotent_degree(B, tol=1e-12, max_power=None):\n",
    "    \"\"\"\n",
    "    Compute the nilpotency degree of a square matrix B.\n",
    "\n",
    "    Parameters\n",
    "    ----------\n",
    "    B : (n,n) array‑like\n",
    "        The matrix to test (NumPy ndarray, casadi.DM, etc.).\n",
    "    tol : float, optional\n",
    "        Numerical tolerance: ‖B^k‖_F ≤ tol  ⇒  treat as zero.  Default 1e‑12.\n",
    "    max_power : int, optional\n",
    "        Maximum power to test.  Default is n (matrix size); if the\n",
    "        nilpotency index is larger, the function returns None.\n",
    "\n",
    "    Returns\n",
    "    -------\n",
    "    int  or  None\n",
    "        ν  – smallest k ≥ 1 with  B^k ≈ 0,\n",
    "        or None if the matrix is not nilpotent up to max_power.\n",
    "    \"\"\"\n",
    "    B = np.asarray(B)\n",
    "    assert B.shape[0] == B.shape[1], \"B must be square\"\n",
    "    n = B.shape[0]\n",
    "    if max_power is None:\n",
    "        max_power = n          # Cayley‑Hamilton ⇒ ν ≤ n for nilpotent matrices\n",
    "\n",
    "    Pk = B.copy()              # B¹\n",
    "    for k in range(1, max_power + 1):\n",
    "        if np.linalg.norm(Pk, ord='fro') <= tol:\n",
    "            return k\n",
    "        Pk = Pk @ B            # next power\n",
    "    return None\n",
    "\n",
    "\n",
    "# ----------------------------------------------------------------------\n",
    "# 1.  tiny‑angle Maclaurin (degree 6 ⇒ O(θ⁸) remainder)\n",
    "# ----------------------------------------------------------------------\n",
    "def _cm_maclaurin(theta, m):\n",
    "    \"\"\"\n",
    "    Return c_m(θ) by summing terms up to θ⁶.\n",
    "    Works with SX because the loop is unrolled at Python level.\n",
    "    \"\"\"\n",
    "    theta2 = theta * theta\n",
    "    term = 1.0 / math.factorial(m + 2)   # k = 0\n",
    "    acc  = term\n",
    "\n",
    "    # k = 1 … 3   (adds θ², θ⁴, θ⁶ terms)\n",
    "    for k in range(1, 4):\n",
    "        term *= -theta2 / ((2*k + m + 1) * (2*k + m + 2))\n",
    "        acc  += term\n",
    "    return acc\n",
    "\n",
    "\n",
    "# ----------------------------------------------------------------------\n",
    "# 2.  closed‑form remainder (unchanged from before)\n",
    "# ----------------------------------------------------------------------\n",
    "def _taylor_trunc(theta, p: int, odd: bool):\n",
    "    r = 1 if odd else 0\n",
    "    poly = ((-1)**p) / math.factorial(2*p + r)\n",
    "    for j in range(p-1, -1, -1):\n",
    "        poly = poly * theta**2 + ((-1)**j) / math.factorial(2*j + r)\n",
    "    return poly * (theta if odd else 1)\n",
    "\n",
    "def _c_m_closed(theta, m: int):\n",
    "    p, r = divmod(m, 2)\n",
    "    if r == 0:\n",
    "        rem = ca.cos(theta) - _taylor_trunc(theta, p, odd=False)\n",
    "    else:\n",
    "        rem = ca.sin(theta) - _taylor_trunc(theta, p, odd=True)\n",
    "    return ((-1)**(p + 1) / theta**(m + 2)) * rem\n",
    "\n",
    "\n",
    "def c_m_safe(theta, m, eps=1e-4):\n",
    "    \"\"\"\n",
    "    Symbolic run‑time switch:\n",
    "       |θ| < eps → Maclaurin   (high relative accuracy)\n",
    "       else       → closed form\n",
    "    \"\"\"\n",
    "    return ca.if_else(ca.fabs(theta) < eps,\n",
    "                      _cm_maclaurin(theta, m),\n",
    "                      _c_m_closed(theta, m))\n",
    "\n",
    "\n",
    "def cm_table(theta, l, eps=1e-4):\n",
    "    \"\"\"Vector [c₀ … c_{l+1}]ᵀ using the safe formula.\"\"\"\n",
    "    return ca.vcat([c_m_safe(theta, m, eps) for m in range(l + 2)])\n",
    "\n",
    "\n",
    "# -----------------------------------------------------------------------------\n",
    "# 2.  factory for  P(Ω, A)  with truncation index nil_deg   (SX symbols only)\n",
    "# -----------------------------------------------------------------------------\n",
    "def P(omega, A, B, nil_deg):\n",
    "    \"\"\"\n",
    "    Parameters\n",
    "    ----------\n",
    "    B : nil-potent square matrix\n",
    "    nil_deg: nilpotency degree of B\n",
    "    Returns\n",
    "    -------\n",
    "    ca.Function   P(theta, Omega, A, B) -> n×n SX matrix\n",
    "    \"\"\"\n",
    "\n",
    "\n",
    "    # ---------- symbolic inputs ----------\n",
    "    Omega = ca.skew(omega)\n",
    "    theta = ca.norm_2(omega)\n",
    "    n = B.shape[0]\n",
    "\n",
    "    # ---------- scalar coefficient tables ----------\n",
    "    alpha = [1.0 / math.factorial(m + 1) for m in range(nil_deg)]   # 1/(m+1)!\n",
    "    cm = cm_table(theta, nil_deg)                                  # [c₀ … c_{l+1}]\n",
    "\n",
    "    # ---------- shared‑power loop ----------\n",
    "    S0 = ca.SX.zeros(n, n)\n",
    "    S1 = ca.SX.zeros(n, n)\n",
    "    S2 = ca.SX.zeros(n, n)\n",
    "    T  = ca.SX.eye(n) # B⁰\n",
    "\n",
    "    for m in range(nil_deg):\n",
    "        S0 += alpha[m] * T\n",
    "        S1 += cm[m] * T\n",
    "        S2 += cm[m+1] * T\n",
    "        T = T @ B\n",
    "\n",
    "    OmegaA = Omega@A\n",
    "\n",
    "    # ---------- assemble P ----------\n",
    "    return A @ S0 + OmegaA @ S1 + Omega @ OmegaA @ S2\n",
    "\n",
    "# -----------------------------------------------------------------------------\n",
    "# 3.  quick demo\n",
    "# -----------------------------------------------------------------------------\n",
    "if __name__ == '__main__':\n",
    "    omega = np.array([0.1, 0.2, 0.3], float)\n",
    "    B     = np.array([[0,1,0],[0,0,0],[0,0,0]], float)\n",
    "    A     = np.random.rand(3, B.shape[0])\n",
    "    P0 = P(omega, A, B, 1)\n",
    "    print(\"P =\", P0)"
   ]
  },
  {
   "cell_type": "code",
   "execution_count": 2,
   "id": "00629456",
   "metadata": {},
   "outputs": [],
   "source": [
    "from cyecca import lie\n",
    "\n",
    "def exp_mixed_old(\n",
    "    self,\n",
    "    X0: lie.group_se23.SE23LieGroupElement,\n",
    "    l: lie.group_se23.SE23LieAlgebraElement,\n",
    "    r: lie.group_se23.SE23LieAlgebraElement,\n",
    "    B: ca.SX,\n",
    ") -> lie.group_se23.SE23LieGroupElement:\n",
    "    n = B.shape[0]\n",
    "    P0 = ca.horzcat(X0.v.param, X0.p.param)\n",
    "    Pl = self.calculate_N(l, B)\n",
    "    Pr = self.calculate_N(r, -B)\n",
    "    R0 = X0.R\n",
    "    Rl = (l).Omega.exp(self.SO3)\n",
    "    Rr = (r).Omega.exp(self.SO3)\n",
    "    Rr0 = Rr * R0\n",
    "    R1 = Rr0 * Rl\n",
    "\n",
    "    I = ca.SX.eye(n)\n",
    "    P1 = Rr0.to_Matrix() @ Pl + (Rr.to_Matrix() @ P0 + Pr) @ (I + B)\n",
    "    return self.elem(ca.vertcat(P1[:, 1], P1[:, 0], R1.param))\n",
    "\n",
    "def exp_mixed_new(\n",
    "    self,\n",
    "    X0: lie.group_se23.SE23LieGroupElement,\n",
    "    l: lie.group_se23.SE23LieAlgebraElement,\n",
    "    r: lie.group_se23.SE23LieAlgebraElement,\n",
    "    B: ca.SX,\n",
    "    nil_deg: int,\n",
    ") -> lie.group_se23.SE23LieGroupElement:\n",
    "    n = B.shape[0]\n",
    "    P0 = ca.horzcat(X0.v.param, X0.p.param)\n",
    "    \n",
    "    Al = ca.horzcat(l.param[3:6], l.param[6:9])\n",
    "    Ar = ca.horzcat(r.param[3:6], r.param[6:9])\n",
    "\n",
    "    Pl = P(l.param[:3], Al, B, nil_deg)\n",
    "    Pr = P(r.param[:3], Ar, -B, nil_deg)\n",
    "\n",
    "    R0 = X0.R\n",
    "    Rl = (l).Omega.exp(self.SO3)\n",
    "    Rr = (r).Omega.exp(self.SO3)\n",
    "    Rr0 = Rr * R0\n",
    "    R1 = Rr0 * Rl\n",
    "\n",
    "    I = ca.SX.eye(n)\n",
    "    P1 = Rr0.to_Matrix() @ Pl + (Rr.to_Matrix() @ P0 + Pr) @ (I + B)\n",
    "\n",
    "    return self.elem(ca.vertcat(P1[:, 1], P1[:, 0], R1.param))\n",
    "\n",
    "def find_flops(op_dict):\n",
    "    flops = 0\n",
    "    for k, v in op_dict.items():\n",
    "        if k not in [\"OP_PARAMETER\", \"OP_CONST\"]:\n",
    "            flops += v\n",
    "    return flops"
   ]
  },
  {
   "cell_type": "code",
   "execution_count": 3,
   "id": "dfc31df4",
   "metadata": {},
   "outputs": [
    {
     "data": {
      "text/plain": [
       "SE23LieGroup: SX(@1=1, @2=8, @3=((sq(X0_6)+sq(X0_7))+sq(X0_8)), @4=sq((@1+@3)), @5=(@1-((@2*(sq(X0_8)+sq(X0_7)))/@4)), @6=(dt*a_b_0), @7=0.5, @8=(@7*dt), @9=(dt*omega_b_0), @10=((@6*@8)+@9), @11=(4*(@1-@3)), @12=(((@2*(X0_6*X0_7))-(@11*X0_8))/@4), @13=(dt*a_b_1), @14=(dt*omega_b_1), @15=((@13*@8)+@14), @16=(((@2*(X0_6*X0_8))+(@11*X0_7))/@4), @17=(dt*a_b_2), @18=(dt*omega_b_2), @19=((@17*@8)+@18), @20=(((@2*(X0_7*X0_6))+(@11*X0_8))/@4), @21=(@1-((@2*(sq(X0_8)+sq(X0_6)))/@4)), @22=(((@2*(X0_7*X0_8))-(@11*X0_6))/@4), @23=(((@2*(X0_8*X0_6))-(@11*X0_7))/@4), @24=(((@2*(X0_8*X0_7))+(@11*X0_6))/@4), @25=(@1-((@2*(sq(X0_7)+sq(X0_6)))/@4)), @26=(dt*g), @27=(X0_5+@26), @28=((sq(X0_6)+sq(X0_7))+sq(X0_8)), @29=(@1-@28), @30=((sq(@9)+sq(@14))+sq(@18)), @31=(fabs(@30)<0.001), @32=0.25, @33=((@31?(((((@32+(0.00520833*@30))+(0.000130208*sq(@30)))+(3.29396e-06*(@30*sq(@30))))+(8.34255e-08*sq(sq(@30))))+(2.11316e-09*(@30*sq(sq(@30))))):0)+((!@31)?(pow(@30,-0.5)*tan((@32*sqrt(@30)))):0)), @34=(@33*@9), @35=(@33*@14), @36=(@33*@18), @37=(@1<((sq(@34)+sq(@35))+sq(@36))), @38=((sq(@34)+sq(@35))+sq(@36)), @39=(!@37), @40=((@37?(-(@34/@38)):0)+(@39?@34:0)), @41=((@37?(-(@35/@38)):0)+(@39?@35:0)), @42=((@37?(-(@36/@38)):0)+(@39?@36:0)), @43=((sq(@40)+sq(@41))+sq(@42)), @44=(@1-@43), @45=2, @46=((@1+(@28*@43))-(@45*(((@40*X0_6)+(@41*X0_7))+(@42*X0_8)))), [((((@5*@10)+(@12*@15))+(@16*@19))+((X0_3*dt)+X0_0)), ((((@20*@10)+(@21*@15))+(@22*@19))+((X0_4*dt)+X0_1)), ((((@23*@10)+(@24*@15))+(@25*@19))+((@27*dt)+(X0_2-(@26*(@7*dt))))), ((((@5*@6)+(@12*@13))+(@16*@17))+X0_3), ((((@20*@6)+(@21*@13))+(@22*@17))+X0_4), ((((@23*@6)+(@24*@13))+(@25*@17))+@27), ((((@29*@40)+(@44*X0_6))-(@45*((@41*X0_8)-(@42*X0_7))))/@46), ((((@29*@41)+(@44*X0_7))-(@45*((@42*X0_6)-(@40*X0_8))))/@46), ((((@29*@42)+(@44*X0_8))-(@45*((@40*X0_7)-(@41*X0_6))))/@46)])"
      ]
     },
     "execution_count": 3,
     "metadata": {},
     "output_type": "execute_result"
    }
   ],
   "source": [
    "dt = ca.SX.sym(\"dt\")\n",
    "X0 = lie.SE23Mrp.elem(ca.SX.sym(\"X0\", 9))\n",
    "a_b = ca.SX.sym(\"a_b\", 3)\n",
    "g = ca.SX.sym(\"g\")\n",
    "omega_b = ca.SX.sym(\"omega_b\", 3)\n",
    "l = lie.se23.elem(ca.vertcat(0, 0, 0, a_b, omega_b))\n",
    "r = lie.se23.elem(ca.vertcat(0, 0, 0, 0, 0, g, 0, 0, 0))\n",
    "B = ca.sparsify(ca.SX([[0, 1], [0, 0]]))\n",
    "\n",
    "#X1 = exp_mixed_old(lie.SE23Mrp, X0, l * dt, r * dt, B * dt)\n",
    "#X1\n",
    "\n",
    "X1 = exp_mixed_new(lie.SE23Mrp, X0, l * dt, r * dt, B * dt, 2)\n",
    "X1\n"
   ]
  },
  {
   "cell_type": "code",
   "execution_count": 4,
   "id": "1d3dfc5f",
   "metadata": {},
   "outputs": [],
   "source": [
    "from cyecca import lie\n",
    "\n",
    "def derive_strapdown_ins_propagation_old():\n",
    "    dt = ca.SX.sym(\"dt\")\n",
    "    X0 = lie.SE23Mrp.elem(ca.SX.sym(\"X0\", 9))\n",
    "    a_b = ca.SX.sym(\"a_b\", 3)\n",
    "    g = ca.SX.sym(\"g\")\n",
    "    omega_b = ca.SX.sym(\"omega_b\", 3)\n",
    "    l = lie.se23.elem(ca.vertcat(0, 0, 0, a_b, omega_b))\n",
    "    r = lie.se23.elem(ca.vertcat(0, 0, 0, 0, 0, g, 0, 0, 0))\n",
    "    B = ca.sparsify(ca.SX([[0, 1], [0, 0]]))\n",
    "    X1 = exp_mixed_old(lie.SE23Mrp, X0, l * dt, r * dt, B * dt)\n",
    "    r1 = lie.SO3Mrp.elem(X1.param[6:9])\n",
    "    lie.SO3Mrp.shadow_if_necessary(r1)\n",
    "    X1.param[6:9] = r1.param\n",
    "    return ca.Function(\n",
    "        \"strapdown_ins_propagate\",\n",
    "        [X0.param, a_b, omega_b, g, dt],\n",
    "        [X1.param],\n",
    "        [\"x0\", \"a_b\", \"omega_b\", \"g\", \"dt\"],\n",
    "        [\"x1\"],\n",
    "    )\n",
    "\n",
    "def derive_strapdown_ins_propagation_new():\n",
    "    dt = ca.SX.sym(\"dt\")\n",
    "    X0 = lie.SE23Mrp.elem(ca.SX.sym(\"X0\", 9))\n",
    "    a_b = ca.SX.sym(\"a_b\", 3)\n",
    "    g = ca.SX.sym(\"g\")\n",
    "    omega_b = ca.SX.sym(\"omega_b\", 3)\n",
    "    l = lie.se23.elem(ca.vertcat(0, 0, 0, a_b, omega_b))\n",
    "    r = lie.se23.elem(ca.vertcat(0, 0, 0, 0, 0, g, 0, 0, 0))\n",
    "    B = ca.sparsify(ca.SX([[0, 1], [0, 0]]))\n",
    "    X1 = exp_mixed_new(lie.SE23Mrp, X0, l * dt, r * dt, B * dt, 2)\n",
    "    r1 = lie.SO3Mrp.elem(X1.param[6:9])\n",
    "    lie.SO3Mrp.shadow_if_necessary(r1)\n",
    "    X1.param[6:9] = r1.param\n",
    "    return ca.Function(\n",
    "        \"strapdown_ins_propagate\",\n",
    "        [X0.param, a_b, omega_b, g, dt],\n",
    "        [X1.param],\n",
    "        [\"x0\", \"a_b\", \"omega_b\", \"g\", \"dt\"],\n",
    "        [\"x1\"],\n",
    "    )\n",
    "\n",
    "sins_old = derive_strapdown_ins_propagation_old()\n",
    "sins_new = derive_strapdown_ins_propagation_new()"
   ]
  },
  {
   "cell_type": "code",
   "execution_count": 5,
   "id": "9f34bb2b",
   "metadata": {},
   "outputs": [],
   "source": [
    "from cyecca.util import count_ops\n",
    "omega = ca.SX.sym('omega', 3)\n",
    "A = ca.SX.sym('A', 3, B.shape[0])\n",
    "\n",
    "sins_sym_old = sins_old(\n",
    "    ca.SX.sym(\"x0\", 9),\n",
    "    ca.SX.sym(\"a_b\", 3),\n",
    "    ca.SX.sym(\"omega_b\", 3),\n",
    "    ca.SX.sym(\"g\", 1),\n",
    "    ca.SX.sym(\"dt\", 1),\n",
    ")\n",
    "\n",
    "sins_sym_new = sins_new(\n",
    "    ca.SX.sym(\"x0\", 9),\n",
    "    ca.SX.sym(\"a_b\", 3),\n",
    "    ca.SX.sym(\"omega_b\", 3),\n",
    "    ca.SX.sym(\"g\", 1),\n",
    "    ca.SX.sym(\"dt\", 1),\n",
    ")\n"
   ]
  },
  {
   "cell_type": "code",
   "execution_count": 6,
   "id": "a0e7fde1",
   "metadata": {},
   "outputs": [
    {
     "name": "stdout",
     "output_type": "stream",
     "text": [
      "building dependency graph...done\n"
     ]
    },
    {
     "data": {
      "text/plain": [
       "414"
      ]
     },
     "execution_count": 6,
     "metadata": {},
     "output_type": "execute_result"
    }
   ],
   "source": [
    "op_dict_old = count_ops(sins_sym_old)\n",
    "flops_old = find_flops(op_dict_old)\n",
    "flops_old"
   ]
  },
  {
   "cell_type": "code",
   "execution_count": 7,
   "id": "2596c673",
   "metadata": {},
   "outputs": [
    {
     "name": "stdout",
     "output_type": "stream",
     "text": [
      "building dependency graph...done\n"
     ]
    },
    {
     "data": {
      "text/plain": [
       "256"
      ]
     },
     "execution_count": 7,
     "metadata": {},
     "output_type": "execute_result"
    }
   ],
   "source": [
    "op_dict_new = count_ops(sins_sym_new)\n",
    "flops_new = find_flops(op_dict_new)\n",
    "flops_new"
   ]
  },
  {
   "cell_type": "code",
   "execution_count": 60,
   "id": "d9343aa0",
   "metadata": {},
   "outputs": [
    {
     "data": {
      "text/plain": [
       "DM([1.04, 2.05, 3.06049, 4, 5, 6.098, -0.0360825, -0.0412371, -0.0463918])"
      ]
     },
     "execution_count": 60,
     "metadata": {},
     "output_type": "execute_result"
    }
   ],
   "source": [
    "x0 = np.array([1, 2, 3, 4, 5, 6, 7, 8, 9])\n",
    "a_b = np.array([0, 0, 0])\n",
    "omega_b = np.array([0, 0, 0])\n",
    "g = 9.8\n",
    "dt = 0.01\n",
    "sins_old(x0, a_b, omega_b, g, dt)"
   ]
  },
  {
   "cell_type": "code",
   "execution_count": 61,
   "id": "3872c45e",
   "metadata": {},
   "outputs": [
    {
     "data": {
      "text/plain": [
       "DM([1.04, 2.05, 3.06049, 4, 5, 6.098, -0.0360825, -0.0412371, -0.0463918])"
      ]
     },
     "execution_count": 61,
     "metadata": {},
     "output_type": "execute_result"
    }
   ],
   "source": [
    "sins_new(x0, a_b, omega_b, g, dt)"
   ]
  }
 ],
 "metadata": {
  "kernelspec": {
   "display_name": ".venv",
   "language": "python",
   "name": "python3"
  },
  "language_info": {
   "codemirror_mode": {
    "name": "ipython",
    "version": 3
   },
   "file_extension": ".py",
   "mimetype": "text/x-python",
   "name": "python",
   "nbconvert_exporter": "python",
   "pygments_lexer": "ipython3",
   "version": "3.12.3"
  }
 },
 "nbformat": 4,
 "nbformat_minor": 5
}
