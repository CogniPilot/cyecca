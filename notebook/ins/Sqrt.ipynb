{
 "cells": [
  {
   "cell_type": "code",
   "execution_count": 1,
   "id": "c9c1d1b5-2475-4433-b3dc-c56f56cb3a77",
   "metadata": {
    "tags": []
   },
   "outputs": [],
   "source": [
    "import casadi as ca\n",
    "import numpy as np\n",
    "from cyecca.symbolic import casadi_to_sympy\n",
    "from cyecca.util import ldl_symmetric_decomposition, udu_symmetric_decomposition"
   ]
  },
  {
   "cell_type": "code",
   "execution_count": 2,
   "id": "0738cb4e-ce79-469d-9ffa-586c046c98b4",
   "metadata": {
    "tags": []
   },
   "outputs": [
    {
     "data": {
      "text/plain": [
       "(DM(\n",
       " [[1, 00, 00, 00, 00, 00], \n",
       "  [0.5, 1, 00, 00, 00, 00], \n",
       "  [0.5, 0.333333, 1, 00, 00, 00], \n",
       "  [0.5, 0.333333, 0.25, 1, 00, 00], \n",
       "  [0.5, 0.333333, 0.25, 0.2, 1, 00], \n",
       "  [0.5, 0.333333, 0.25, 0.2, 0.166667, 1]]),\n",
       " DM(\n",
       " [[2, 00, 00, 00, 00, 00], \n",
       "  [00, 1.5, 00, 00, 00, 00], \n",
       "  [00, 00, 1.33333, 00, 00, 00], \n",
       "  [00, 00, 00, 1.25, 00, 00], \n",
       "  [00, 00, 00, 00, 1.2, 00], \n",
       "  [00, 00, 00, 00, 00, 1.16667]]),\n",
       " DM(\n",
       " [[2, 1, 1, 1, 1, 1], \n",
       "  [1, 2, 1, 1, 1, 1], \n",
       "  [1, 1, 2, 1, 1, 1], \n",
       "  [1, 1, 1, 2, 1, 1], \n",
       "  [1, 1, 1, 1, 2, 1], \n",
       "  [1, 1, 1, 1, 1, 2]]),\n",
       " DM(\n",
       " [[2, 1, 1, 1, 1, 1], \n",
       "  [1, 2, 1, 1, 1, 1], \n",
       "  [1, 1, 2, 1, 1, 1], \n",
       "  [1, 1, 1, 2, 1, 1], \n",
       "  [1, 1, 1, 1, 2, 1], \n",
       "  [1, 1, 1, 1, 1, 2]]))"
      ]
     },
     "execution_count": 2,
     "metadata": {},
     "output_type": "execute_result"
    }
   ],
   "source": [
    "P = np.eye(6) + np.ones((6, 6))\n",
    "L, D = ldl_symmetric_decomposition(P)\n",
    "ca.DM(L), ca.DM(D), ca.DM(L @ D @ L.T), ca.DM(P)"
   ]
  },
  {
   "cell_type": "code",
   "execution_count": 3,
   "id": "016d9f17-d2b3-4677-af27-7088b38a455a",
   "metadata": {
    "tags": []
   },
   "outputs": [
    {
     "data": {
      "text/plain": [
       "(DM(\n",
       " [[1, 0.166667, 0.2, 0.25, 0.333333, 0.5], \n",
       "  [00, 1, 0.2, 0.25, 0.333333, 0.5], \n",
       "  [00, 00, 1, 0.25, 0.333333, 0.5], \n",
       "  [00, 00, 00, 1, 0.333333, 0.5], \n",
       "  [00, 00, 00, 00, 1, 0.5], \n",
       "  [00, 00, 00, 00, 00, 1]]),\n",
       " DM(\n",
       " [[1.16667, 00, 00, 00, 00, 00], \n",
       "  [00, 1.2, 00, 00, 00, 00], \n",
       "  [00, 00, 1.25, 00, 00, 00], \n",
       "  [00, 00, 00, 1.33333, 00, 00], \n",
       "  [00, 00, 00, 00, 1.5, 00], \n",
       "  [00, 00, 00, 00, 00, 2]]),\n",
       " DM(\n",
       " [[2, 1, 1, 1, 1, 1], \n",
       "  [1, 2, 1, 1, 1, 1], \n",
       "  [1, 1, 2, 1, 1, 1], \n",
       "  [1, 1, 1, 2, 1, 1], \n",
       "  [1, 1, 1, 1, 2, 1], \n",
       "  [1, 1, 1, 1, 1, 2]]),\n",
       " array([[2., 1., 1., 1., 1., 1.],\n",
       "        [1., 2., 1., 1., 1., 1.],\n",
       "        [1., 1., 2., 1., 1., 1.],\n",
       "        [1., 1., 1., 2., 1., 1.],\n",
       "        [1., 1., 1., 1., 2., 1.],\n",
       "        [1., 1., 1., 1., 1., 2.]]))"
      ]
     },
     "execution_count": 3,
     "metadata": {},
     "output_type": "execute_result"
    }
   ],
   "source": [
    "U, D = udu_symmetric_decomposition(P)\n",
    "ca.DM(U), ca.DM(D), ca.DM(U @ D @ U.T), P"
   ]
  }
 ],
 "metadata": {
  "kernelspec": {
   "display_name": "cyecca (3.12.3)",
   "language": "python",
   "name": "python3"
  },
  "language_info": {
   "codemirror_mode": {
    "name": "ipython",
    "version": 3
   },
   "file_extension": ".py",
   "mimetype": "text/x-python",
   "name": "python",
   "nbconvert_exporter": "python",
   "pygments_lexer": "ipython3",
   "version": "3.12.3"
  }
 },
 "nbformat": 4,
 "nbformat_minor": 5
}
