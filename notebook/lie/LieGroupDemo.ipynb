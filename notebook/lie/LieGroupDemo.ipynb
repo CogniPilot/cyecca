{
 "cells": [
  {
   "cell_type": "code",
   "execution_count": 1,
   "id": "2b00fa2d-b72b-4084-a7f8-750c5a74e516",
   "metadata": {
    "tags": []
   },
   "outputs": [],
   "source": [
    "%load_ext autoreload\n",
    "%autoreload 2\n",
    "\n",
    "from cyecca import lie\n",
    "import numpy as np\n",
    "import scipy\n",
    "import casadi as ca"
   ]
  },
  {
   "cell_type": "markdown",
   "id": "af854276-0869-4cc9-a96b-5dc6a1466d5f",
   "metadata": {
    "tags": []
   },
   "source": [
    "# SO(2) Example"
   ]
  },
  {
   "cell_type": "code",
   "execution_count": 2,
   "id": "31befae9-0caf-4285-8580-83cf67f414fa",
   "metadata": {
    "tags": []
   },
   "outputs": [
    {
     "data": {
      "text/plain": [
       "SO2LieAlgebra: SX(1.2)"
      ]
     },
     "execution_count": 2,
     "metadata": {},
     "output_type": "execute_result"
    }
   ],
   "source": [
    "theta = ca.SX([1.2])\n",
    "g1 = lie.so2.elem(param=theta)\n",
    "g1"
   ]
  },
  {
   "cell_type": "code",
   "execution_count": 3,
   "id": "a1dc8ec9-4875-4425-b3a3-5ab2005738ad",
   "metadata": {
    "tags": []
   },
   "outputs": [
    {
     "name": "stdout",
     "output_type": "stream",
     "text": [
      "<class 'casadi.casadi.SX'>\n"
     ]
    },
    {
     "data": {
      "text/plain": [
       "SX(\n",
       "[[00, -1.2], \n",
       " [1.2, 00]])"
      ]
     },
     "execution_count": 3,
     "metadata": {},
     "output_type": "execute_result"
    }
   ],
   "source": [
    "g1.to_Matrix()"
   ]
  },
  {
   "cell_type": "code",
   "execution_count": 4,
   "id": "8681aa5f-dad7-47e7-b9b9-8ec02eaada71",
   "metadata": {
    "tags": []
   },
   "outputs": [
    {
     "data": {
      "text/plain": [
       "SX(00)"
      ]
     },
     "execution_count": 4,
     "metadata": {},
     "output_type": "execute_result"
    }
   ],
   "source": [
    "g1.ad()"
   ]
  },
  {
   "cell_type": "code",
   "execution_count": 5,
   "id": "df3c8bb4-b419-42c6-84da-b5db856fb1c3",
   "metadata": {
    "tags": []
   },
   "outputs": [
    {
     "data": {
      "text/plain": [
       "SO2LieAlgebra: SX(1.2)"
      ]
     },
     "execution_count": 5,
     "metadata": {},
     "output_type": "execute_result"
    }
   ],
   "source": [
    "lie.so2.wedge(theta)"
   ]
  },
  {
   "cell_type": "code",
   "execution_count": 6,
   "id": "7b991b84-de25-4193-81f8-0c3ac6aca70b",
   "metadata": {
    "tags": []
   },
   "outputs": [
    {
     "data": {
      "text/plain": [
       "SX(1.2)"
      ]
     },
     "execution_count": 6,
     "metadata": {},
     "output_type": "execute_result"
    }
   ],
   "source": [
    "g1.vee()"
   ]
  },
  {
   "cell_type": "code",
   "execution_count": 7,
   "id": "3c1a2e12-4fff-47b5-be6a-473ce3517d47",
   "metadata": {
    "tags": []
   },
   "outputs": [
    {
     "data": {
      "text/plain": [
       "SO2LieGroup: SX(1.2)"
      ]
     },
     "execution_count": 7,
     "metadata": {},
     "output_type": "execute_result"
    }
   ],
   "source": [
    "G1 = g1.exp(lie.SO2)\n",
    "G1"
   ]
  },
  {
   "cell_type": "code",
   "execution_count": 8,
   "id": "1539f95b-e185-401a-89ef-731d3eead10b",
   "metadata": {
    "tags": []
   },
   "outputs": [
    {
     "data": {
      "text/plain": [
       "SX(@1=0.362358, \n",
       "[[@1, -0.932039], \n",
       " [0.932039, @1]])"
      ]
     },
     "execution_count": 8,
     "metadata": {},
     "output_type": "execute_result"
    }
   ],
   "source": [
    "G1.to_Matrix()"
   ]
  },
  {
   "cell_type": "code",
   "execution_count": 9,
   "id": "dafe91d5-f429-46c0-a69d-fb8099dce957",
   "metadata": {
    "tags": []
   },
   "outputs": [
    {
     "data": {
      "text/plain": [
       "SX(@1=0.362358, \n",
       "[[@1, 0.932039], \n",
       " [-0.932039, @1]])"
      ]
     },
     "execution_count": 9,
     "metadata": {},
     "output_type": "execute_result"
    }
   ],
   "source": [
    "G1_inv = G1.inverse()\n",
    "G1_inv.to_Matrix()"
   ]
  },
  {
   "cell_type": "code",
   "execution_count": 10,
   "id": "4971f999-ddc0-46b1-803c-f5059949c7b4",
   "metadata": {
    "tags": []
   },
   "outputs": [
    {
     "data": {
      "text/plain": [
       "SX(@1=1, @2=0, \n",
       "[[@1, @2], \n",
       " [@2, @1]])"
      ]
     },
     "execution_count": 10,
     "metadata": {},
     "output_type": "execute_result"
    }
   ],
   "source": [
    "(G1 * G1_inv).to_Matrix()"
   ]
  },
  {
   "cell_type": "code",
   "execution_count": 11,
   "id": "3f42f1b7-3240-45f8-b2ed-a0b29b7c6c3b",
   "metadata": {
    "tags": []
   },
   "outputs": [
    {
     "data": {
      "text/plain": [
       "SX(1)"
      ]
     },
     "execution_count": 11,
     "metadata": {},
     "output_type": "execute_result"
    }
   ],
   "source": [
    "G1.Ad()"
   ]
  },
  {
   "cell_type": "code",
   "execution_count": 12,
   "id": "d0d6612f-f65a-45e1-a170-5f42c079c44c",
   "metadata": {
    "tags": []
   },
   "outputs": [
    {
     "data": {
      "text/plain": [
       "array([[1.]])"
      ]
     },
     "execution_count": 12,
     "metadata": {},
     "output_type": "execute_result"
    }
   ],
   "source": [
    "scipy.linalg.expm(ca.DM(g1.ad()))"
   ]
  },
  {
   "cell_type": "code",
   "execution_count": 13,
   "id": "d9905f3f-c91b-46a9-a1e7-7028ae406d98",
   "metadata": {
    "tags": []
   },
   "outputs": [
    {
     "data": {
      "text/plain": [
       "SX(1.2)"
      ]
     },
     "execution_count": 13,
     "metadata": {},
     "output_type": "execute_result"
    }
   ],
   "source": [
    "G1.log().param"
   ]
  },
  {
   "cell_type": "markdown",
   "id": "9e65b700-c035-4f6b-9b8b-336bbc3a7d48",
   "metadata": {
    "tags": []
   },
   "source": [
    "# SE(2) Example"
   ]
  },
  {
   "cell_type": "code",
   "execution_count": 14,
   "id": "99dfe6fa-810c-4c44-8331-4d40a4541194",
   "metadata": {
    "tags": []
   },
   "outputs": [
    {
     "data": {
      "text/plain": [
       "SE2LieAlgebra: SX([1, 2, 0.5])"
      ]
     },
     "execution_count": 14,
     "metadata": {},
     "output_type": "execute_result"
    }
   ],
   "source": [
    "p = ca.SX([1.0, 2.0, 0.5])\n",
    "g2 = lie.se2.elem(p)\n",
    "g2"
   ]
  },
  {
   "cell_type": "code",
   "execution_count": 15,
   "id": "bbc03306-7ebf-448c-9a8a-7d71b4c9dd0f",
   "metadata": {
    "tags": []
   },
   "outputs": [
    {
     "data": {
      "text/plain": [
       "SX(\n",
       "[[00, -0.5, 2], \n",
       " [0.5, 00, -1], \n",
       " [00, 00, 00]])"
      ]
     },
     "execution_count": 15,
     "metadata": {},
     "output_type": "execute_result"
    }
   ],
   "source": [
    "g2.ad()"
   ]
  },
  {
   "cell_type": "code",
   "execution_count": 16,
   "id": "b3c961c5-f9fb-4316-8ebc-38869699b5e2",
   "metadata": {
    "tags": []
   },
   "outputs": [
    {
     "name": "stdout",
     "output_type": "stream",
     "text": [
      "<class 'casadi.casadi.SX'>\n"
     ]
    },
    {
     "data": {
      "text/plain": [
       "SX(\n",
       "[[00, -0.5, 1], \n",
       " [0.5, 00, 2], \n",
       " [00, 00, 00]])"
      ]
     },
     "execution_count": 16,
     "metadata": {},
     "output_type": "execute_result"
    }
   ],
   "source": [
    "g2.to_Matrix()"
   ]
  },
  {
   "cell_type": "code",
   "execution_count": 17,
   "id": "a1d8e980-e2e0-47fe-94e7-43961d5c5516",
   "metadata": {
    "tags": []
   },
   "outputs": [
    {
     "data": {
      "text/plain": [
       "SE2LieAlgebra: SX([1, 2, 0.5])"
      ]
     },
     "execution_count": 17,
     "metadata": {},
     "output_type": "execute_result"
    }
   ],
   "source": [
    "lie.se2.wedge(p)"
   ]
  },
  {
   "cell_type": "code",
   "execution_count": 18,
   "id": "0fceec64-df38-453b-bb06-4946ec1d4e52",
   "metadata": {
    "tags": []
   },
   "outputs": [
    {
     "data": {
      "text/plain": [
       "SX([1, 2, 0.5])"
      ]
     },
     "execution_count": 18,
     "metadata": {},
     "output_type": "execute_result"
    }
   ],
   "source": [
    "g2.vee()"
   ]
  },
  {
   "cell_type": "code",
   "execution_count": 19,
   "id": "7b8b6740-38d9-4cdc-8650-ef568642acae",
   "metadata": {
    "tags": []
   },
   "outputs": [
    {
     "data": {
      "text/plain": [
       "SE2LieGroup: SX([0.469181, 2.16254, 0.5])"
      ]
     },
     "execution_count": 19,
     "metadata": {},
     "output_type": "execute_result"
    }
   ],
   "source": [
    "G2 = g2.exp(lie.SE2)\n",
    "G2"
   ]
  },
  {
   "cell_type": "code",
   "execution_count": 20,
   "id": "2dea5f0b-629f-4675-82ee-1dd74fd823b7",
   "metadata": {
    "tags": []
   },
   "outputs": [
    {
     "data": {
      "text/plain": [
       "SX(@1=0.877583, \n",
       "[[@1, -0.479426, 0.469181], \n",
       " [0.479426, @1, 2.16254], \n",
       " [00, 00, 1]])"
      ]
     },
     "execution_count": 20,
     "metadata": {},
     "output_type": "execute_result"
    }
   ],
   "source": [
    "G2.to_Matrix()"
   ]
  },
  {
   "cell_type": "code",
   "execution_count": 21,
   "id": "8a8b9e3d-ef71-491b-a676-c9d628bbd0fc",
   "metadata": {
    "tags": []
   },
   "outputs": [
    {
     "data": {
      "text/plain": [
       "SX(@1=0.877583, \n",
       "[[@1, 0.479426, -1.44852], \n",
       " [-0.479426, @1, -1.67287], \n",
       " [00, 00, 1]])"
      ]
     },
     "execution_count": 21,
     "metadata": {},
     "output_type": "execute_result"
    }
   ],
   "source": [
    "G2_inv = G2.inverse()\n",
    "G2_inv.to_Matrix()"
   ]
  },
  {
   "cell_type": "code",
   "execution_count": 22,
   "id": "7e86a7ad-a67c-4ef6-9c19-54461caba89e",
   "metadata": {
    "tags": []
   },
   "outputs": [
    {
     "data": {
      "text/plain": [
       "SX(@1=1, @2=0, \n",
       "[[@1, @2, 1.11022e-16], \n",
       " [@2, @1, @2], \n",
       " [00, 00, @1]])"
      ]
     },
     "execution_count": 22,
     "metadata": {},
     "output_type": "execute_result"
    }
   ],
   "source": [
    "(G2 * G2_inv).to_Matrix()"
   ]
  },
  {
   "cell_type": "code",
   "execution_count": 23,
   "id": "8da2aac2-d814-4383-8926-97a7ea556ee6",
   "metadata": {
    "tags": []
   },
   "outputs": [
    {
     "data": {
      "text/plain": [
       "SX(@1=0.877583, \n",
       "[[@1, -0.479426, 2.16254], \n",
       " [0.479426, @1, -0.469181], \n",
       " [00, 00, 1]])"
      ]
     },
     "execution_count": 23,
     "metadata": {},
     "output_type": "execute_result"
    }
   ],
   "source": [
    "G2.Ad()"
   ]
  },
  {
   "cell_type": "code",
   "execution_count": 24,
   "id": "fbee1a50-d617-4905-b2f8-cbe3a6c38c3b",
   "metadata": {
    "tags": []
   },
   "outputs": [
    {
     "data": {
      "text/plain": [
       "SX([1, 2, 0.5])"
      ]
     },
     "execution_count": 24,
     "metadata": {},
     "output_type": "execute_result"
    }
   ],
   "source": [
    "G2.log().param"
   ]
  },
  {
   "cell_type": "markdown",
   "id": "a6629baf-6ea8-4909-9362-fac1d8efba95",
   "metadata": {
    "tags": []
   },
   "source": [
    "# SO(3)"
   ]
  },
  {
   "cell_type": "code",
   "execution_count": 25,
   "id": "4aaa5958-52cd-442b-93c4-4ef2eca36679",
   "metadata": {
    "tags": []
   },
   "outputs": [
    {
     "data": {
      "text/plain": [
       "SO3LieAlgebra: SX([0.2, 0.4, 0.3])"
      ]
     },
     "execution_count": 25,
     "metadata": {},
     "output_type": "execute_result"
    }
   ],
   "source": [
    "theta2 = ca.SX([0.2, 0.4, 0.3])\n",
    "g3 = lie.so3.elem(theta2)\n",
    "g3"
   ]
  },
  {
   "cell_type": "code",
   "execution_count": 26,
   "id": "785215b2-f0e7-45ce-a32f-9d8428f81887",
   "metadata": {
    "tags": []
   },
   "outputs": [
    {
     "data": {
      "text/plain": [
       "SX(\n",
       "[[00, -0.3, 0.4], \n",
       " [0.3, 00, -0.2], \n",
       " [-0.4, 0.2, 00]])"
      ]
     },
     "execution_count": 26,
     "metadata": {},
     "output_type": "execute_result"
    }
   ],
   "source": [
    "g3.to_Matrix()"
   ]
  },
  {
   "cell_type": "code",
   "execution_count": 27,
   "id": "bac52f99-e2e6-4d68-866e-e29e1be9e860",
   "metadata": {
    "tags": []
   },
   "outputs": [
    {
     "data": {
      "text/plain": [
       "SO3LieAlgebra: SX([0.2, 0.4, 0.3])"
      ]
     },
     "execution_count": 27,
     "metadata": {},
     "output_type": "execute_result"
    }
   ],
   "source": [
    "lie.so3.wedge(theta2)"
   ]
  },
  {
   "cell_type": "code",
   "execution_count": 28,
   "id": "64247d0c-df64-494e-8182-8be6863e6661",
   "metadata": {
    "tags": []
   },
   "outputs": [
    {
     "data": {
      "text/plain": [
       "SX([0.2, 0.4, 0.3])"
      ]
     },
     "execution_count": 28,
     "metadata": {},
     "output_type": "execute_result"
    }
   ],
   "source": [
    "g3.vee()"
   ]
  },
  {
   "cell_type": "code",
   "execution_count": 29,
   "id": "bd972ced-b0cc-4b5a-8258-3699175952ca",
   "metadata": {
    "tags": []
   },
   "outputs": [
    {
     "data": {
      "text/plain": [
       "SX(\n",
       "[[00, -0.3, 0.4], \n",
       " [0.3, 00, -0.2], \n",
       " [-0.4, 0.2, 00]])"
      ]
     },
     "execution_count": 29,
     "metadata": {},
     "output_type": "execute_result"
    }
   ],
   "source": [
    "g3.ad()"
   ]
  },
  {
   "cell_type": "code",
   "execution_count": 30,
   "id": "a5a10085-ec9e-4358-bb55-85cc75c6b446",
   "metadata": {
    "tags": []
   },
   "outputs": [
    {
     "data": {
      "text/plain": [
       "SO3MrpLieGroup: SX([0.0503043, 0.100609, 0.0754564])"
      ]
     },
     "execution_count": 30,
     "metadata": {},
     "output_type": "execute_result"
    }
   ],
   "source": [
    "G3_mrp = g3.exp(lie.SO3Mrp)\n",
    "G3_mrp"
   ]
  },
  {
   "cell_type": "code",
   "execution_count": 31,
   "id": "5acb4035-1ed5-4e3c-8bea-1d7a2f7ace20",
   "metadata": {
    "tags": []
   },
   "outputs": [
    {
     "data": {
      "text/plain": [
       "SX(\n",
       "[[0.877992, -0.246666, 0.410227], \n",
       " [0.324751, 0.936556, -0.131909], \n",
       " [-0.351663, 0.249036, 0.902393]])"
      ]
     },
     "execution_count": 31,
     "metadata": {},
     "output_type": "execute_result"
    }
   ],
   "source": [
    "G3_mrp.to_Matrix()"
   ]
  },
  {
   "cell_type": "code",
   "execution_count": 32,
   "id": "c0170977-66ea-4a4b-9bf4-4e2797d6c0fa",
   "metadata": {
    "tags": []
   },
   "outputs": [
    {
     "data": {
      "text/plain": [
       "SX(\n",
       "[[0.877992, 0.324751, -0.351663], \n",
       " [-0.246666, 0.936556, 0.249036], \n",
       " [0.410227, -0.131909, 0.902393]])"
      ]
     },
     "execution_count": 32,
     "metadata": {},
     "output_type": "execute_result"
    }
   ],
   "source": [
    "G3_mrp_inv = G3_mrp.inverse()\n",
    "G3_mrp_inv.to_Matrix()"
   ]
  },
  {
   "cell_type": "code",
   "execution_count": 33,
   "id": "d8ce9b19-7554-44b3-a158-327638ddec57",
   "metadata": {
    "tags": []
   },
   "outputs": [
    {
     "data": {
      "text/plain": [
       "SX(@1=1, \n",
       "[[@1, 00, 00], \n",
       " [00, @1, 00], \n",
       " [00, 00, @1]])"
      ]
     },
     "execution_count": 33,
     "metadata": {},
     "output_type": "execute_result"
    }
   ],
   "source": [
    "(G3_mrp * G3_mrp_inv).to_Matrix()"
   ]
  },
  {
   "cell_type": "code",
   "execution_count": 34,
   "id": "9acbb96d-6db9-4885-b3ba-e76c5ffc849f",
   "metadata": {
    "tags": []
   },
   "outputs": [
    {
     "data": {
      "text/plain": [
       "SX(\n",
       "[[0.877992, -0.246666, 0.410227], \n",
       " [0.324751, 0.936556, -0.131909], \n",
       " [-0.351663, 0.249036, 0.902393]])"
      ]
     },
     "execution_count": 34,
     "metadata": {},
     "output_type": "execute_result"
    }
   ],
   "source": [
    "G3_mrp.Ad()"
   ]
  },
  {
   "cell_type": "code",
   "execution_count": 35,
   "id": "f73d3aa3-8062-40c0-a0f5-5deac333facf",
   "metadata": {
    "tags": []
   },
   "outputs": [
    {
     "data": {
      "text/plain": [
       "SX([0.2, 0.4, 0.3])"
      ]
     },
     "execution_count": 35,
     "metadata": {},
     "output_type": "execute_result"
    }
   ],
   "source": [
    "G3_mrp.log().param"
   ]
  },
  {
   "cell_type": "code",
   "execution_count": 36,
   "id": "5ed77d25-6208-4890-b106-b9aa7a4774d8",
   "metadata": {
    "tags": []
   },
   "outputs": [
    {
     "data": {
      "text/plain": [
       "SO3QuatLieGroup: SX([0.963968, 0.098796, 0.197592, 0.148194])"
      ]
     },
     "execution_count": 36,
     "metadata": {},
     "output_type": "execute_result"
    }
   ],
   "source": [
    "G3_Quat = g3.exp(lie.SO3Quat)\n",
    "G3_Quat"
   ]
  },
  {
   "cell_type": "code",
   "execution_count": 37,
   "id": "c711d397-dc23-4891-86a2-0702db55643a",
   "metadata": {
    "tags": []
   },
   "outputs": [
    {
     "data": {
      "text/plain": [
       "SX(\n",
       "[[0.877992, -0.246666, 0.410227], \n",
       " [0.324751, 0.936556, -0.131909], \n",
       " [-0.351663, 0.249036, 0.902393]])"
      ]
     },
     "execution_count": 37,
     "metadata": {},
     "output_type": "execute_result"
    }
   ],
   "source": [
    "G3_Quat.to_Matrix()"
   ]
  },
  {
   "cell_type": "code",
   "execution_count": 38,
   "id": "de7a9f3c-e367-4058-abc5-a3899d04a7f4",
   "metadata": {
    "tags": []
   },
   "outputs": [
    {
     "data": {
      "text/plain": [
       "SX(\n",
       "[[0.877992, 0.324751, -0.351663], \n",
       " [-0.246666, 0.936556, 0.249036], \n",
       " [0.410227, -0.131909, 0.902393]])"
      ]
     },
     "execution_count": 38,
     "metadata": {},
     "output_type": "execute_result"
    }
   ],
   "source": [
    "G3_Quat_inv = G3_Quat.inverse()\n",
    "G3_Quat_inv.to_Matrix()"
   ]
  },
  {
   "cell_type": "code",
   "execution_count": 39,
   "id": "380440bf-2018-4b35-85f0-67546ae08944",
   "metadata": {
    "tags": []
   },
   "outputs": [
    {
     "data": {
      "text/plain": [
       "SX(@1=1, @2=0, \n",
       "[[@1, @2, -1.04083e-17], \n",
       " [@2, @1, @2], \n",
       " [1.04083e-17, @2, @1]])"
      ]
     },
     "execution_count": 39,
     "metadata": {},
     "output_type": "execute_result"
    }
   ],
   "source": [
    "(G3_Quat * G3_Quat_inv).to_Matrix()"
   ]
  },
  {
   "cell_type": "code",
   "execution_count": 40,
   "id": "8b20c3d4-7b40-4b22-aca1-71e2102070cb",
   "metadata": {
    "tags": []
   },
   "outputs": [
    {
     "data": {
      "text/plain": [
       "SX(\n",
       "[[0.877992, -0.246666, 0.410227], \n",
       " [0.324751, 0.936556, -0.131909], \n",
       " [-0.351663, 0.249036, 0.902393]])"
      ]
     },
     "execution_count": 40,
     "metadata": {},
     "output_type": "execute_result"
    }
   ],
   "source": [
    "G3_Quat.Ad()"
   ]
  },
  {
   "cell_type": "code",
   "execution_count": 41,
   "id": "1fc4baa3-c914-4563-8ecf-c1e45beb3bc6",
   "metadata": {
    "tags": []
   },
   "outputs": [
    {
     "data": {
      "text/plain": [
       "SX([0.2, 0.4, 0.3])"
      ]
     },
     "execution_count": 41,
     "metadata": {},
     "output_type": "execute_result"
    }
   ],
   "source": [
    "G3_Quat.log().param"
   ]
  },
  {
   "cell_type": "markdown",
   "id": "7e8281d4-74ac-43ba-8bf5-a272c96e810d",
   "metadata": {
    "tags": []
   },
   "source": [
    "# SO3 Euler\n",
    "For Euler, you have toe define the type and sequence before use it."
   ]
  },
  {
   "cell_type": "code",
   "execution_count": 42,
   "id": "f90ed452-789f-45f9-a3b4-51383816afe3",
   "metadata": {
    "tags": []
   },
   "outputs": [
    {
     "data": {
      "text/plain": [
       "SO3EulerLieGroup: SX([0.354274, 0.359347, 0.269271])"
      ]
     },
     "execution_count": 42,
     "metadata": {},
     "output_type": "execute_result"
    }
   ],
   "source": [
    "G3_Euler = g3.exp(lie.SO3EulerB321)\n",
    "G3_Euler"
   ]
  },
  {
   "cell_type": "code",
   "execution_count": 43,
   "id": "d1356a7f-82d8-431e-8a03-d3917ef78e74",
   "metadata": {
    "tags": []
   },
   "outputs": [
    {
     "data": {
      "text/plain": [
       "SX(\n",
       "[[0.877992, -0.246666, 0.410227], \n",
       " [0.324751, 0.936556, -0.131909], \n",
       " [-0.351663, 0.249036, 0.902393]])"
      ]
     },
     "execution_count": 43,
     "metadata": {},
     "output_type": "execute_result"
    }
   ],
   "source": [
    "G3_Euler.to_Matrix()"
   ]
  },
  {
   "cell_type": "code",
   "execution_count": 44,
   "id": "aa574ded-da98-4390-85fb-5435426e83ab",
   "metadata": {
    "tags": []
   },
   "outputs": [
    {
     "data": {
      "text/plain": [
       "SX(\n",
       "[[0.877992, -0.246666, 0.410227], \n",
       " [0.324751, 0.936556, -0.131909], \n",
       " [-0.351663, 0.249036, 0.902393]])"
      ]
     },
     "execution_count": 44,
     "metadata": {},
     "output_type": "execute_result"
    }
   ],
   "source": [
    "G3_mrp.to_Matrix()"
   ]
  },
  {
   "cell_type": "code",
   "execution_count": 45,
   "id": "ca5df55e-8b1d-4f6e-882f-73674661b86c",
   "metadata": {
    "tags": []
   },
   "outputs": [
    {
     "data": {
      "text/plain": [
       "SO3EulerLieGroup: SX([-0.273883, -0.422703, -0.145148])"
      ]
     },
     "execution_count": 45,
     "metadata": {},
     "output_type": "execute_result"
    }
   ],
   "source": [
    "G3_Euler_inv = G3_Euler.inverse()\n",
    "G3_Euler_inv"
   ]
  },
  {
   "cell_type": "code",
   "execution_count": 46,
   "id": "df348860-e603-4124-88fe-e9f735efd642",
   "metadata": {
    "tags": []
   },
   "outputs": [
    {
     "data": {
      "text/plain": [
       "SX(\n",
       "[[0.877992, 0.324751, -0.351663], \n",
       " [-0.246666, 0.936556, 0.249036], \n",
       " [0.410227, -0.131909, 0.902393]])"
      ]
     },
     "execution_count": 46,
     "metadata": {},
     "output_type": "execute_result"
    }
   ],
   "source": [
    "G3_Euler_inv.to_Matrix()"
   ]
  },
  {
   "cell_type": "code",
   "execution_count": 47,
   "id": "1832d275-eb0f-4b00-83b7-b36818cd8a0d",
   "metadata": {
    "tags": []
   },
   "outputs": [
    {
     "data": {
      "text/plain": [
       "SX(@1=1, \n",
       "[[@1, -2.77556e-17, 5.55112e-17], \n",
       " [2.77556e-17, @1, 1.54074e-33], \n",
       " [-5.55112e-17, 0, @1]])"
      ]
     },
     "execution_count": 47,
     "metadata": {},
     "output_type": "execute_result"
    }
   ],
   "source": [
    "(G3_Euler * G3_Euler_inv).to_Matrix()"
   ]
  },
  {
   "cell_type": "code",
   "execution_count": 48,
   "id": "ac4097cf-959c-4569-a257-f8692c9303b6",
   "metadata": {
    "tags": []
   },
   "outputs": [
    {
     "data": {
      "text/plain": [
       "SX(\n",
       "[[0.877992, -0.246666, 0.410227], \n",
       " [0.324751, 0.936556, -0.131909], \n",
       " [-0.351663, 0.249036, 0.902393]])"
      ]
     },
     "execution_count": 48,
     "metadata": {},
     "output_type": "execute_result"
    }
   ],
   "source": [
    "G3_Euler.Ad()"
   ]
  },
  {
   "cell_type": "code",
   "execution_count": 49,
   "id": "ce6259b2-1400-4459-9a7b-19e146c3e706",
   "metadata": {
    "tags": []
   },
   "outputs": [
    {
     "data": {
      "text/plain": [
       "SX([0.2, 0.4, 0.3])"
      ]
     },
     "execution_count": 49,
     "metadata": {},
     "output_type": "execute_result"
    }
   ],
   "source": [
    "G3_Euler.log().param"
   ]
  },
  {
   "cell_type": "code",
   "execution_count": 50,
   "id": "f4fcb014-520c-4435-9a51-53426f8dd43d",
   "metadata": {
    "tags": []
   },
   "outputs": [],
   "source": [
    "SO3EulerS321 = lie.SO3EulerLieGroup(\n",
    "    euler_type=lie.EulerType.space_fixed, sequence=[lie.Axis.z, lie.Axis.y, lie.Axis.x]\n",
    ")"
   ]
  },
  {
   "cell_type": "code",
   "execution_count": 51,
   "id": "526e5f13-791f-43c9-a003-e720f8fb3c35",
   "metadata": {
    "tags": []
   },
   "outputs": [
    {
     "data": {
      "text/plain": [
       "SX(\n",
       "[[0.877992, -0.246666, 0.410227], \n",
       " [0.324751, 0.936556, -0.131909], \n",
       " [-0.351663, 0.249036, 0.902393]])"
      ]
     },
     "execution_count": 51,
     "metadata": {},
     "output_type": "execute_result"
    }
   ],
   "source": [
    "G3_mrp.to_Matrix()"
   ]
  },
  {
   "cell_type": "markdown",
   "id": "f22a32f5-7cfb-428a-be35-7bd7e45aba32",
   "metadata": {},
   "source": [
    "Test exp and log when $\\theta = \\pi/2$ or $-\\pi/2$ in Euler"
   ]
  },
  {
   "cell_type": "code",
   "execution_count": 52,
   "id": "e5bdded7-55ce-4222-a78a-67cbc7cdf8ef",
   "metadata": {
    "tags": []
   },
   "outputs": [],
   "source": [
    "t = ca.SX([0.1, -np.pi / 2, 0.2])\n",
    "X = lie.SO3EulerB321.elem(t)  # SO3 Euler\n",
    "x = X.log()  # so3\n",
    "X1 = x.exp(lie.SO3EulerB321)"
   ]
  },
  {
   "cell_type": "code",
   "execution_count": 53,
   "id": "0301f8ad-1b0a-4768-aaac-89d1b614376d",
   "metadata": {
    "tags": []
   },
   "outputs": [
    {
     "data": {
      "text/plain": [
       "SX(@1=-0.29552, \n",
       "[[5.84975e-17, @1, -0.955336], \n",
       " [1.80954e-17, 0.955336, @1], \n",
       " [1, 0, 6.12323e-17]])"
      ]
     },
     "execution_count": 53,
     "metadata": {},
     "output_type": "execute_result"
    }
   ],
   "source": [
    "X1.to_Matrix()"
   ]
  },
  {
   "cell_type": "code",
   "execution_count": 54,
   "id": "41c418d8-ed80-444a-920d-70024d10544a",
   "metadata": {
    "tags": []
   },
   "outputs": [
    {
     "data": {
      "text/plain": [
       "SX(@1=-0.29552, \n",
       "[[6.09264e-17, @1, -0.955336], \n",
       " [6.11303e-18, 0.955336, @1], \n",
       " [1, 1.2165e-17, 6.00118e-17]])"
      ]
     },
     "execution_count": 54,
     "metadata": {},
     "output_type": "execute_result"
    }
   ],
   "source": [
    "X.to_Matrix()"
   ]
  },
  {
   "cell_type": "code",
   "execution_count": 55,
   "id": "56019a7e-c984-4320-ac9b-efe487a0bd6c",
   "metadata": {
    "tags": []
   },
   "outputs": [],
   "source": [
    "Y = SO3EulerS321.elem(t)\n",
    "# y = Y.log()\n",
    "# Y1 = y.exp(SO3EulerS321)"
   ]
  },
  {
   "cell_type": "code",
   "execution_count": 56,
   "id": "4ac5f247-ed54-4ae3-a052-02623b8c7a51",
   "metadata": {
    "tags": []
   },
   "outputs": [
    {
     "data": {
      "text/plain": [
       "SX(@1=0.995004, \n",
       "[[6.09264e-17, -6.11303e-18, -1], \n",
       " [-0.0998334, @1, -1.2165e-17], \n",
       " [@1, 0.0998334, 6.00118e-17]])"
      ]
     },
     "execution_count": 56,
     "metadata": {},
     "output_type": "execute_result"
    }
   ],
   "source": [
    "Y.to_Matrix()"
   ]
  },
  {
   "cell_type": "code",
   "execution_count": 57,
   "id": "906327f9-ee00-45e0-9a4f-b1068c469fa4",
   "metadata": {
    "tags": []
   },
   "outputs": [],
   "source": [
    "# Y1.to_Matrix()"
   ]
  },
  {
   "cell_type": "markdown",
   "id": "9384a9ae-716f-4a8f-8b06-89fe9e604e28",
   "metadata": {
    "tags": []
   },
   "source": [
    "# SE(3)\n",
    "\n",
    "For SE3 Lie group, you have to define what group of SO3 you want to use, it should be either MRP or Quat.\n",
    "Defaul is Quat."
   ]
  },
  {
   "cell_type": "code",
   "execution_count": 58,
   "id": "ee2a015b-23cb-4dc8-ad05-65f39f58a5dd",
   "metadata": {
    "tags": []
   },
   "outputs": [
    {
     "data": {
      "text/plain": [
       "SE3LieAlgebra: SX([1, 2, 3, 0.5, 0.02, 0.3])"
      ]
     },
     "execution_count": 58,
     "metadata": {},
     "output_type": "execute_result"
    }
   ],
   "source": [
    "p2 = ca.SX([1, 2, 3, 0.5, 0.02, 0.3])\n",
    "g4 = lie.se3.elem(p2)\n",
    "g4"
   ]
  },
  {
   "cell_type": "code",
   "execution_count": 59,
   "id": "01930ff1-f325-4713-ba0b-9e8ca4aecf5e",
   "metadata": {
    "tags": []
   },
   "outputs": [
    {
     "data": {
      "text/plain": [
       "SX(\n",
       "[[00, -0.3, 0.02, 1], \n",
       " [0.3, 00, -0.5, 2], \n",
       " [-0.02, 0.5, 00, 3], \n",
       " [00, 00, 00, 00]])"
      ]
     },
     "execution_count": 59,
     "metadata": {},
     "output_type": "execute_result"
    }
   ],
   "source": [
    "g4.to_Matrix()"
   ]
  },
  {
   "cell_type": "code",
   "execution_count": 60,
   "id": "473c0b04-98f8-44fe-a6f8-9a3bbda22785",
   "metadata": {
    "tags": []
   },
   "outputs": [
    {
     "data": {
      "text/plain": [
       "SE3LieAlgebra: SX([1, 2, 3, 0.5, 0.02, 0.3])"
      ]
     },
     "execution_count": 60,
     "metadata": {},
     "output_type": "execute_result"
    }
   ],
   "source": [
    "lie.se3.wedge(p2)"
   ]
  },
  {
   "cell_type": "code",
   "execution_count": 61,
   "id": "08f50d04-a2e4-4bf2-af86-810f246fe3f1",
   "metadata": {
    "tags": []
   },
   "outputs": [
    {
     "data": {
      "text/plain": [
       "SX([1, 2, 3, 0.5, 0.02, 0.3])"
      ]
     },
     "execution_count": 61,
     "metadata": {},
     "output_type": "execute_result"
    }
   ],
   "source": [
    "g4.vee()"
   ]
  },
  {
   "cell_type": "code",
   "execution_count": 62,
   "id": "2f36352f-b94e-42e1-ae74-abb2dc333546",
   "metadata": {
    "tags": []
   },
   "outputs": [
    {
     "data": {
      "text/plain": [
       "SX(@1=0.3, @2=-0.02, @3=-0.3, @4=0.5, @5=0.02, @6=-0.5, \n",
       "[[00, @3, @5, 00, -3, 2], \n",
       " [@1, 00, @6, 3, 00, -1], \n",
       " [@2, @4, 00, -2, 1, 00], \n",
       " [00, 00, 00, 00, @3, @5], \n",
       " [00, 00, 00, @1, 00, @6], \n",
       " [00, 00, 00, @2, @4, 00]])"
      ]
     },
     "execution_count": 62,
     "metadata": {},
     "output_type": "execute_result"
    }
   ],
   "source": [
    "g4.ad()"
   ]
  },
  {
   "cell_type": "code",
   "execution_count": 63,
   "id": "ae6a19ce-64a4-463e-b9a7-377353d7baf3",
   "metadata": {
    "tags": []
   },
   "outputs": [
    {
     "data": {
      "text/plain": [
       "SE3LieGroup: SX([0.799771, 1.31, 3.37971, 0.125894, 0.00503576, 0.0755364])"
      ]
     },
     "execution_count": 63,
     "metadata": {},
     "output_type": "execute_result"
    }
   ],
   "source": [
    "G4_mrp = g4.exp(lie.SE3Mrp)\n",
    "G4_mrp"
   ]
  },
  {
   "cell_type": "code",
   "execution_count": 64,
   "id": "3d728bfe-be7d-4e2f-97df-68750c956048",
   "metadata": {
    "tags": []
   },
   "outputs": [
    {
     "data": {
      "text/plain": [
       "SX(\n",
       "[[0.956068, -0.278408, 0.091781, 0.799771], \n",
       " [0.288127, 0.834768, -0.469196, 1.31], \n",
       " [0.054012, 0.475028, 0.878311, 3.37971], \n",
       " [00, 00, 00, 1]])"
      ]
     },
     "execution_count": 64,
     "metadata": {},
     "output_type": "execute_result"
    }
   ],
   "source": [
    "G4_mrp.to_Matrix()"
   ]
  },
  {
   "cell_type": "code",
   "execution_count": 65,
   "id": "8781f3c0-694e-4332-a61a-f7a09814ba2f",
   "metadata": {
    "tags": []
   },
   "outputs": [
    {
     "data": {
      "text/plain": [
       "SX(\n",
       "[[0.956068, 0.288127, 0.054012, -1.32463], \n",
       " [-0.278408, 0.834768, 0.475028, -2.47634], \n",
       " [0.091781, -0.469196, 0.878311, -2.4272], \n",
       " [00, 00, 00, 1]])"
      ]
     },
     "execution_count": 65,
     "metadata": {},
     "output_type": "execute_result"
    }
   ],
   "source": [
    "G4_mrp_inv = G4_mrp.inverse()\n",
    "G4_mrp_inv.to_Matrix()"
   ]
  },
  {
   "cell_type": "code",
   "execution_count": 66,
   "id": "cfc09fa4-ca06-462a-8808-f06a49b0098b",
   "metadata": {
    "tags": []
   },
   "outputs": [
    {
     "data": {
      "text/plain": [
       "SX(@1=1, \n",
       "[[@1, 00, 00, 1.11022e-16], \n",
       " [00, @1, 00, -4.44089e-16], \n",
       " [00, 00, @1, 0], \n",
       " [00, 00, 00, @1]])"
      ]
     },
     "execution_count": 66,
     "metadata": {},
     "output_type": "execute_result"
    }
   ],
   "source": [
    "(G4_mrp * G4_mrp_inv).to_Matrix()"
   ]
  },
  {
   "cell_type": "code",
   "execution_count": 67,
   "id": "98a09b43-b54c-4ba0-bc6a-686869f6fb9b",
   "metadata": {
    "tags": []
   },
   "outputs": [
    {
     "data": {
      "text/plain": [
       "SX(@1=0.956068, @2=0.288127, @3=0.054012, @4=-0.278408, @5=0.834768, @6=0.475028, @7=0.091781, @8=-0.469196, @9=0.878311, \n",
       "[[@1, @4, @7, 00, 0.940938, 0.120233], \n",
       " [@2, @5, @8, 0.973788, 00, 0.37525], \n",
       " [@3, @6, @9, -0.0707555, 0.379914, 00], \n",
       " [00, 00, 00, @1, @4, @7], \n",
       " [00, 00, 00, @2, @5, @8], \n",
       " [00, 00, 00, @3, @6, @9]])"
      ]
     },
     "execution_count": 67,
     "metadata": {},
     "output_type": "execute_result"
    }
   ],
   "source": [
    "G4_mrp.Ad()"
   ]
  },
  {
   "cell_type": "code",
   "execution_count": 68,
   "id": "ad709c2e-5637-4684-9f1d-5a78b56189c8",
   "metadata": {
    "tags": []
   },
   "outputs": [
    {
     "data": {
      "text/plain": [
       "SX([1, 2, 3, 0.5, 0.02, 0.3])"
      ]
     },
     "execution_count": 68,
     "metadata": {},
     "output_type": "execute_result"
    }
   ],
   "source": [
    "G4_mrp.log().param"
   ]
  },
  {
   "cell_type": "code",
   "execution_count": 69,
   "id": "785f582f-e614-4bfe-a9c2-db02f8669c2f",
   "metadata": {
    "tags": []
   },
   "outputs": [
    {
     "data": {
      "text/plain": [
       "SE3LieGroup: SX([0.799771, 1.31, 3.37971, 0.957751, 0.246469, 0.00985877, 0.147882])"
      ]
     },
     "execution_count": 69,
     "metadata": {},
     "output_type": "execute_result"
    }
   ],
   "source": [
    "G4_Quat = g4.exp(lie.SE3Quat)\n",
    "G4_Quat"
   ]
  },
  {
   "cell_type": "code",
   "execution_count": 70,
   "id": "9b9ae700-30bb-4f71-a3b9-1b27eb765b14",
   "metadata": {
    "tags": []
   },
   "outputs": [
    {
     "data": {
      "text/plain": [
       "SX(\n",
       "[[0.956068, -0.278408, 0.091781, 0.799771], \n",
       " [0.288127, 0.834768, -0.469196, 1.31], \n",
       " [0.054012, 0.475028, 0.878311, 3.37971], \n",
       " [00, 00, 00, 1]])"
      ]
     },
     "execution_count": 70,
     "metadata": {},
     "output_type": "execute_result"
    }
   ],
   "source": [
    "G4_Quat.to_Matrix()"
   ]
  },
  {
   "cell_type": "code",
   "execution_count": 71,
   "id": "57158f0f-51ec-4064-bdc2-878b806f288b",
   "metadata": {
    "tags": []
   },
   "outputs": [
    {
     "data": {
      "text/plain": [
       "SX(\n",
       "[[0.956068, 0.288127, 0.054012, -1.32463], \n",
       " [-0.278408, 0.834768, 0.475028, -2.47634], \n",
       " [0.091781, -0.469196, 0.878311, -2.4272], \n",
       " [00, 00, 00, 1]])"
      ]
     },
     "execution_count": 71,
     "metadata": {},
     "output_type": "execute_result"
    }
   ],
   "source": [
    "G4_Quat_inv = G4_Quat.inverse()\n",
    "G4_Quat_inv.to_Matrix()"
   ]
  },
  {
   "cell_type": "code",
   "execution_count": 72,
   "id": "9cadba25-29e9-455a-aee2-95a8a7817292",
   "metadata": {
    "tags": []
   },
   "outputs": [
    {
     "data": {
      "text/plain": [
       "SX(@1=1, @2=0, \n",
       "[[@1, @2, @2, 3.33067e-16], \n",
       " [@2, @1, @2, 2.22045e-16], \n",
       " [@2, @2, @1, 8.88178e-16], \n",
       " [00, 00, 00, 1]])"
      ]
     },
     "execution_count": 72,
     "metadata": {},
     "output_type": "execute_result"
    }
   ],
   "source": [
    "(G4_Quat * G4_Quat_inv).to_Matrix()"
   ]
  },
  {
   "cell_type": "code",
   "execution_count": 73,
   "id": "a0f4ded5-5218-4097-bda7-3e28ad5dabb1",
   "metadata": {
    "tags": []
   },
   "outputs": [
    {
     "data": {
      "text/plain": [
       "SX(@1=0.956068, @2=0.288127, @3=0.054012, @4=-0.278408, @5=0.834768, @6=0.475028, @7=0.091781, @8=-0.469196, @9=0.878311, \n",
       "[[@1, @4, @7, 00, 0.940938, 0.120233], \n",
       " [@2, @5, @8, 0.973788, 00, 0.37525], \n",
       " [@3, @6, @9, -0.0707555, 0.379914, 00], \n",
       " [00, 00, 00, @1, @4, @7], \n",
       " [00, 00, 00, @2, @5, @8], \n",
       " [00, 00, 00, @3, @6, @9]])"
      ]
     },
     "execution_count": 73,
     "metadata": {},
     "output_type": "execute_result"
    }
   ],
   "source": [
    "G4_Quat.Ad()"
   ]
  },
  {
   "cell_type": "code",
   "execution_count": 74,
   "id": "cdcf9a1c-5ea2-49fb-8b23-7f2fa28b7b1c",
   "metadata": {
    "tags": []
   },
   "outputs": [
    {
     "data": {
      "text/plain": [
       "SX([1, 2, 3, 0.5, 0.02, 0.3])"
      ]
     },
     "execution_count": 74,
     "metadata": {},
     "output_type": "execute_result"
    }
   ],
   "source": [
    "G4_Quat.log().param"
   ]
  }
 ],
 "metadata": {
  "kernelspec": {
   "display_name": "Python 3 (ipykernel)",
   "language": "python",
   "name": "python3"
  },
  "language_info": {
   "codemirror_mode": {
    "name": "ipython",
    "version": 3
   },
   "file_extension": ".py",
   "mimetype": "text/x-python",
   "name": "python",
   "nbconvert_exporter": "python",
   "pygments_lexer": "ipython3",
   "version": "3.12.3"
  }
 },
 "nbformat": 4,
 "nbformat_minor": 5
}
