{
 "cells": [
  {
   "cell_type": "code",
   "execution_count": 430,
   "id": "5b56f4d2-f5ae-4894-867a-0e73bac7a1e0",
   "metadata": {
    "tags": []
   },
   "outputs": [
    {
     "name": "stdout",
     "output_type": "stream",
     "text": [
      "The autoreload extension is already loaded. To reload it, use:\n",
      "  %reload_ext autoreload\n"
     ]
    }
   ],
   "source": [
    "%load_ext autoreload\n",
    "%autoreload 2"
   ]
  },
  {
   "cell_type": "code",
   "execution_count": 431,
   "id": "2504edc6-47da-4471-abe5-12b5fb6888fe",
   "metadata": {
    "tags": []
   },
   "outputs": [],
   "source": [
    "from cyecca.ast import sin, cos, Symbol, Float, Integer"
   ]
  },
  {
   "cell_type": "code",
   "execution_count": 432,
   "id": "ab3141b5-7e48-4d9e-bec6-1c77bc08d303",
   "metadata": {
    "tags": []
   },
   "outputs": [
    {
     "data": {
      "text/latex": [
       "$-(\\sin(x)) + 2$"
      ],
      "text/plain": [
       "<cyecca.ast.Add at 0x7f1d5a9ec970>"
      ]
     },
     "execution_count": 432,
     "metadata": {},
     "output_type": "execute_result"
    }
   ],
   "source": [
    "x = Symbol('x')\n",
    "-sin(x) + 2"
   ]
  },
  {
   "cell_type": "code",
   "execution_count": 433,
   "id": "a1f4d14a-fa2e-4e92-b01f-d1b9fb6bf8e0",
   "metadata": {
    "tags": []
   },
   "outputs": [
    {
     "data": {
      "text/latex": [
       "$(3 \\cdot (2 - x)) + ((x \\cdot 2) \\cdot x)$"
      ],
      "text/plain": [
       "<cyecca.ast.Add at 0x7f1d5a9ed990>"
      ]
     },
     "execution_count": 433,
     "metadata": {},
     "output_type": "execute_result"
    }
   ],
   "source": [
    "3*(2 - x) + (x*2)*x"
   ]
  },
  {
   "cell_type": "code",
   "execution_count": 434,
   "id": "bb503671-fd33-4564-94fb-8d7465757406",
   "metadata": {
    "tags": []
   },
   "outputs": [
    {
     "data": {
      "text/latex": [
       "$\\sin(((3 \\cdot (2 - x)) + ((x \\cdot 2) \\cdot x)))$"
      ],
      "text/plain": [
       "<cyecca.ast.Sin at 0x7f1d5a9ed900>"
      ]
     },
     "execution_count": 434,
     "metadata": {},
     "output_type": "execute_result"
    }
   ],
   "source": [
    "sin(3*(2 - x) + (x*2)*x)"
   ]
  },
  {
   "cell_type": "code",
   "execution_count": 450,
   "id": "ae294727-2998-4cce-a238-b76d58689dbb",
   "metadata": {
    "tags": []
   },
   "outputs": [
    {
     "data": {
      "text/plain": [
       "(139764051145152, 139764051136464, 139764051136464)"
      ]
     },
     "execution_count": 450,
     "metadata": {},
     "output_type": "execute_result"
    }
   ],
   "source": [
    "y = 2*x\n",
    "z = 3*y + y\n",
    "id(z.left.left), id(z.left.right), id(z.right)"
   ]
  },
  {
   "cell_type": "code",
   "execution_count": 443,
   "id": "11395e09-66d8-4565-9655-bd39b6654e4b",
   "metadata": {
    "tags": []
   },
   "outputs": [
    {
     "data": {
      "text/plain": [
       "'<cyecca.ast.Multiply object at 0x7f1d5a9ef010>'"
      ]
     },
     "execution_count": 443,
     "metadata": {},
     "output_type": "execute_result"
    }
   ],
   "source": [
    "repr(y)"
   ]
  },
  {
   "cell_type": "code",
   "execution_count": 428,
   "id": "2cb1c906-aa84-4102-894f-7e85e3f996bf",
   "metadata": {
    "tags": []
   },
   "outputs": [
    {
     "data": {
      "text/plain": [
       "'<cyecca.ast.Multiply object at 0x7f1d5a9ecf10>'"
      ]
     },
     "execution_count": 428,
     "metadata": {},
     "output_type": "execute_result"
    }
   ],
   "source": [
    "y.left = Integer(3)\n",
    "repr(y)"
   ]
  },
  {
   "cell_type": "code",
   "execution_count": 429,
   "id": "79d85dcc-41d6-47e2-8459-4b62a1525101",
   "metadata": {
    "tags": []
   },
   "outputs": [
    {
     "data": {
      "text/latex": [
       "$(3 \\cdot (3 \\cdot x)) + 2$"
      ],
      "text/plain": [
       "<cyecca.ast.Add at 0x7f1d5a9eceb0>"
      ]
     },
     "execution_count": 429,
     "metadata": {},
     "output_type": "execute_result"
    }
   ],
   "source": [
    "z"
   ]
  },
  {
   "cell_type": "code",
   "execution_count": 400,
   "id": "ce90f908-a6cb-405f-beb5-303bcc02bbd8",
   "metadata": {
    "tags": []
   },
   "outputs": [],
   "source": [
    "import casadi as ca"
   ]
  },
  {
   "cell_type": "code",
   "execution_count": 392,
   "id": "b6db57e4-a2f4-4fa3-8d3e-b91df102ece3",
   "metadata": {
    "tags": []
   },
   "outputs": [
    {
     "data": {
      "text/plain": [
       "SX(@1=2, @2=((@1*x)+3), (@2+(@1*@2)))"
      ]
     },
     "execution_count": 392,
     "metadata": {},
     "output_type": "execute_result"
    }
   ],
   "source": [
    "x = ca.SX.sym('x')\n",
    "y = 2*x + 3\n",
    "y + 2*y"
   ]
  },
  {
   "cell_type": "code",
   "execution_count": 394,
   "id": "9453d9f8-ddd8-43bd-8183-12a2b4187b8f",
   "metadata": {
    "tags": []
   },
   "outputs": [
    {
     "data": {
      "text/plain": [
       "casadi.casadi.SX"
      ]
     },
     "execution_count": 394,
     "metadata": {},
     "output_type": "execute_result"
    }
   ],
   "source": [
    "type(y)"
   ]
  },
  {
   "cell_type": "code",
   "execution_count": null,
   "id": "c708c59a-ddc1-4974-b72f-8d838a4e584d",
   "metadata": {},
   "outputs": [],
   "source": []
  }
 ],
 "metadata": {
  "kernelspec": {
   "display_name": "Python 3 (ipykernel)",
   "language": "python",
   "name": "python3"
  },
  "language_info": {
   "codemirror_mode": {
    "name": "ipython",
    "version": 3
   },
   "file_extension": ".py",
   "mimetype": "text/x-python",
   "name": "python",
   "nbconvert_exporter": "python",
   "pygments_lexer": "ipython3",
   "version": "3.10.6"
  }
 },
 "nbformat": 4,
 "nbformat_minor": 5
}
