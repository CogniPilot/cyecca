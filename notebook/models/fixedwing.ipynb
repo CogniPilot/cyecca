{
 "cells": [
  {
   "cell_type": "code",
   "execution_count": 1,
   "id": "5de9f740",
   "metadata": {},
   "outputs": [
    {
     "data": {
      "text/plain": [
       "np.float64(1.5707963267948966)"
      ]
     },
     "execution_count": 1,
     "metadata": {},
     "output_type": "execute_result"
    }
   ],
   "source": [
    "import numpy as np\n",
    "\n",
    "np.arctan2(1, 0)"
   ]
  },
  {
   "cell_type": "code",
   "execution_count": 2,
   "id": "487de20c",
   "metadata": {},
   "outputs": [],
   "source": [
    "import cyecca"
   ]
  },
  {
   "cell_type": "code",
   "execution_count": null,
   "id": "d2f7fa2b",
   "metadata": {},
   "outputs": [],
   "source": []
  }
 ],
 "metadata": {
  "kernelspec": {
   "display_name": "cyecca-py3.12 (3.12.3)",
   "language": "python",
   "name": "python3"
  },
  "language_info": {
   "codemirror_mode": {
    "name": "ipython",
    "version": 3
   },
   "file_extension": ".py",
   "mimetype": "text/x-python",
   "name": "python",
   "nbconvert_exporter": "python",
   "pygments_lexer": "ipython3",
   "version": "3.12.3"
  }
 },
 "nbformat": 4,
 "nbformat_minor": 5
}
