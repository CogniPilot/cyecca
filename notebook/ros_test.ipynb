{
 "cells": [
  {
   "cell_type": "code",
   "execution_count": 1,
   "id": "f07c8431-9ba5-4d6f-b303-98802b9f21c4",
   "metadata": {
    "tags": []
   },
   "outputs": [
    {
     "name": "stderr",
     "output_type": "stream",
     "text": [
      "[INFO] [1688959086.763475164] [minimal_publisher]: Publishing: \"Hello World: 0\"\n",
      "[INFO] [1688959087.238237410] [minimal_publisher]: Publishing: \"Hello World: 1\"\n",
      "[INFO] [1688959087.738946334] [minimal_publisher]: Publishing: \"Hello World: 2\"\n",
      "[INFO] [1688959088.239828914] [minimal_publisher]: Publishing: \"Hello World: 3\"\n",
      "[INFO] [1688959088.739704963] [minimal_publisher]: Publishing: \"Hello World: 4\"\n",
      "[INFO] [1688959089.239887578] [minimal_publisher]: Publishing: \"Hello World: 5\"\n",
      "[INFO] [1688959089.740307069] [minimal_publisher]: Publishing: \"Hello World: 6\"\n",
      "[INFO] [1688959090.240319964] [minimal_publisher]: Publishing: \"Hello World: 7\"\n",
      "[INFO] [1688959090.739127629] [minimal_publisher]: Publishing: \"Hello World: 8\"\n",
      "[INFO] [1688959091.239744319] [minimal_publisher]: Publishing: \"Hello World: 9\"\n",
      "[INFO] [1688959091.740021271] [minimal_publisher]: Publishing: \"Hello World: 10\"\n",
      "[INFO] [1688959092.239827789] [minimal_publisher]: Publishing: \"Hello World: 11\"\n",
      "[INFO] [1688959092.740372021] [minimal_publisher]: Publishing: \"Hello World: 12\"\n",
      "[INFO] [1688959093.239716041] [minimal_publisher]: Publishing: \"Hello World: 13\"\n",
      "[INFO] [1688959093.739735008] [minimal_publisher]: Publishing: \"Hello World: 14\"\n",
      "[INFO] [1688959094.240038117] [minimal_publisher]: Publishing: \"Hello World: 15\"\n",
      "[INFO] [1688959094.739866666] [minimal_publisher]: Publishing: \"Hello World: 16\"\n",
      "[INFO] [1688959095.239792408] [minimal_publisher]: Publishing: \"Hello World: 17\"\n",
      "[INFO] [1688959095.740263994] [minimal_publisher]: Publishing: \"Hello World: 18\"\n",
      "[INFO] [1688959096.239879492] [minimal_publisher]: Publishing: \"Hello World: 19\"\n",
      "[INFO] [1688959096.739895433] [minimal_publisher]: Publishing: \"Hello World: 20\"\n",
      "[INFO] [1688959097.240373851] [minimal_publisher]: Publishing: \"Hello World: 21\"\n",
      "[INFO] [1688959097.740360426] [minimal_publisher]: Publishing: \"Hello World: 22\"\n",
      "[INFO] [1688959098.239792619] [minimal_publisher]: Publishing: \"Hello World: 23\"\n",
      "[INFO] [1688959098.739760736] [minimal_publisher]: Publishing: \"Hello World: 24\"\n",
      "[INFO] [1688959099.240318524] [minimal_publisher]: Publishing: \"Hello World: 25\"\n",
      "[INFO] [1688959099.740316568] [minimal_publisher]: Publishing: \"Hello World: 26\"\n",
      "[INFO] [1688959100.240319613] [minimal_publisher]: Publishing: \"Hello World: 27\"\n",
      "[INFO] [1688959100.739701471] [minimal_publisher]: Publishing: \"Hello World: 28\"\n",
      "[INFO] [1688959101.240012374] [minimal_publisher]: Publishing: \"Hello World: 29\"\n",
      "[INFO] [1688959101.739744681] [minimal_publisher]: Publishing: \"Hello World: 30\"\n",
      "[INFO] [1688959102.239909639] [minimal_publisher]: Publishing: \"Hello World: 31\"\n",
      "[INFO] [1688959102.740306201] [minimal_publisher]: Publishing: \"Hello World: 32\"\n",
      "[INFO] [1688959103.239834064] [minimal_publisher]: Publishing: \"Hello World: 33\"\n",
      "[INFO] [1688959103.740327850] [minimal_publisher]: Publishing: \"Hello World: 34\"\n",
      "[INFO] [1688959104.240113015] [minimal_publisher]: Publishing: \"Hello World: 35\"\n"
     ]
    },
    {
     "ename": "KeyboardInterrupt",
     "evalue": "",
     "output_type": "error",
     "traceback": [
      "\u001b[0;31m---------------------------------------------------------------------------\u001b[0m",
      "\u001b[0;31mKeyboardInterrupt\u001b[0m                         Traceback (most recent call last)",
      "Cell \u001b[0;32mIn[1], line 38\u001b[0m\n\u001b[1;32m     34\u001b[0m     minimal_publisher\u001b[38;5;241m.\u001b[39mdestroy_node()\n\u001b[1;32m     35\u001b[0m     rclpy\u001b[38;5;241m.\u001b[39mshutdown()\n\u001b[0;32m---> 38\u001b[0m \u001b[43mmain\u001b[49m\u001b[43m(\u001b[49m\u001b[43m)\u001b[49m\n",
      "Cell \u001b[0;32mIn[1], line 29\u001b[0m, in \u001b[0;36mmain\u001b[0;34m(args)\u001b[0m\n\u001b[1;32m     25\u001b[0m rclpy\u001b[38;5;241m.\u001b[39minit(args\u001b[38;5;241m=\u001b[39margs)\n\u001b[1;32m     27\u001b[0m minimal_publisher \u001b[38;5;241m=\u001b[39m MinimalPublisher()\n\u001b[0;32m---> 29\u001b[0m \u001b[43mrclpy\u001b[49m\u001b[38;5;241;43m.\u001b[39;49m\u001b[43mspin\u001b[49m\u001b[43m(\u001b[49m\u001b[43mminimal_publisher\u001b[49m\u001b[43m)\u001b[49m\n\u001b[1;32m     31\u001b[0m \u001b[38;5;66;03m# Destroy the node explicitly\u001b[39;00m\n\u001b[1;32m     32\u001b[0m \u001b[38;5;66;03m# (optional - otherwise it will be done automatically\u001b[39;00m\n\u001b[1;32m     33\u001b[0m \u001b[38;5;66;03m# when the garbage collector destroys the node object)\u001b[39;00m\n\u001b[1;32m     34\u001b[0m minimal_publisher\u001b[38;5;241m.\u001b[39mdestroy_node()\n",
      "File \u001b[0;32m/opt/ros/humble/local/lib/python3.10/dist-packages/rclpy/__init__.py:222\u001b[0m, in \u001b[0;36mspin\u001b[0;34m(node, executor)\u001b[0m\n\u001b[1;32m    220\u001b[0m     executor\u001b[38;5;241m.\u001b[39madd_node(node)\n\u001b[1;32m    221\u001b[0m     \u001b[38;5;28;01mwhile\u001b[39;00m executor\u001b[38;5;241m.\u001b[39mcontext\u001b[38;5;241m.\u001b[39mok():\n\u001b[0;32m--> 222\u001b[0m         \u001b[43mexecutor\u001b[49m\u001b[38;5;241;43m.\u001b[39;49m\u001b[43mspin_once\u001b[49m\u001b[43m(\u001b[49m\u001b[43m)\u001b[49m\n\u001b[1;32m    223\u001b[0m \u001b[38;5;28;01mfinally\u001b[39;00m:\n\u001b[1;32m    224\u001b[0m     executor\u001b[38;5;241m.\u001b[39mremove_node(node)\n",
      "File \u001b[0;32m/opt/ros/humble/local/lib/python3.10/dist-packages/rclpy/executors.py:705\u001b[0m, in \u001b[0;36mSingleThreadedExecutor.spin_once\u001b[0;34m(self, timeout_sec)\u001b[0m\n\u001b[1;32m    703\u001b[0m \u001b[38;5;28;01mdef\u001b[39;00m \u001b[38;5;21mspin_once\u001b[39m(\u001b[38;5;28mself\u001b[39m, timeout_sec: \u001b[38;5;28mfloat\u001b[39m \u001b[38;5;241m=\u001b[39m \u001b[38;5;28;01mNone\u001b[39;00m) \u001b[38;5;241m-\u001b[39m\u001b[38;5;241m>\u001b[39m \u001b[38;5;28;01mNone\u001b[39;00m:\n\u001b[1;32m    704\u001b[0m     \u001b[38;5;28;01mtry\u001b[39;00m:\n\u001b[0;32m--> 705\u001b[0m         handler, entity, node \u001b[38;5;241m=\u001b[39m \u001b[38;5;28;43mself\u001b[39;49m\u001b[38;5;241;43m.\u001b[39;49m\u001b[43mwait_for_ready_callbacks\u001b[49m\u001b[43m(\u001b[49m\u001b[43mtimeout_sec\u001b[49m\u001b[38;5;241;43m=\u001b[39;49m\u001b[43mtimeout_sec\u001b[49m\u001b[43m)\u001b[49m\n\u001b[1;32m    706\u001b[0m     \u001b[38;5;28;01mexcept\u001b[39;00m ShutdownException:\n\u001b[1;32m    707\u001b[0m         \u001b[38;5;28;01mpass\u001b[39;00m\n",
      "File \u001b[0;32m/opt/ros/humble/local/lib/python3.10/dist-packages/rclpy/executors.py:691\u001b[0m, in \u001b[0;36mExecutor.wait_for_ready_callbacks\u001b[0;34m(self, *args, **kwargs)\u001b[0m\n\u001b[1;32m    688\u001b[0m     \u001b[38;5;28mself\u001b[39m\u001b[38;5;241m.\u001b[39m_cb_iter \u001b[38;5;241m=\u001b[39m \u001b[38;5;28mself\u001b[39m\u001b[38;5;241m.\u001b[39m_wait_for_ready_callbacks(\u001b[38;5;241m*\u001b[39margs, \u001b[38;5;241m*\u001b[39m\u001b[38;5;241m*\u001b[39mkwargs)\n\u001b[1;32m    690\u001b[0m \u001b[38;5;28;01mtry\u001b[39;00m:\n\u001b[0;32m--> 691\u001b[0m     \u001b[38;5;28;01mreturn\u001b[39;00m \u001b[38;5;28;43mnext\u001b[39;49m\u001b[43m(\u001b[49m\u001b[38;5;28;43mself\u001b[39;49m\u001b[38;5;241;43m.\u001b[39;49m\u001b[43m_cb_iter\u001b[49m\u001b[43m)\u001b[49m\n\u001b[1;32m    692\u001b[0m \u001b[38;5;28;01mexcept\u001b[39;00m \u001b[38;5;167;01mStopIteration\u001b[39;00m:\n\u001b[1;32m    693\u001b[0m     \u001b[38;5;66;03m# Generator ran out of work\u001b[39;00m\n\u001b[1;32m    694\u001b[0m     \u001b[38;5;28mself\u001b[39m\u001b[38;5;241m.\u001b[39m_cb_iter \u001b[38;5;241m=\u001b[39m \u001b[38;5;28;01mNone\u001b[39;00m\n",
      "File \u001b[0;32m/opt/ros/humble/local/lib/python3.10/dist-packages/rclpy/executors.py:588\u001b[0m, in \u001b[0;36mExecutor._wait_for_ready_callbacks\u001b[0;34m(self, timeout_sec, nodes, condition)\u001b[0m\n\u001b[1;32m    585\u001b[0m     waitable\u001b[38;5;241m.\u001b[39madd_to_wait_set(wait_set)\n\u001b[1;32m    587\u001b[0m \u001b[38;5;66;03m# Wait for something to become ready\u001b[39;00m\n\u001b[0;32m--> 588\u001b[0m \u001b[43mwait_set\u001b[49m\u001b[38;5;241;43m.\u001b[39;49m\u001b[43mwait\u001b[49m\u001b[43m(\u001b[49m\u001b[43mtimeout_nsec\u001b[49m\u001b[43m)\u001b[49m\n\u001b[1;32m    589\u001b[0m \u001b[38;5;28;01mif\u001b[39;00m \u001b[38;5;28mself\u001b[39m\u001b[38;5;241m.\u001b[39m_is_shutdown:\n\u001b[1;32m    590\u001b[0m     \u001b[38;5;28;01mraise\u001b[39;00m ShutdownException()\n",
      "\u001b[0;31mKeyboardInterrupt\u001b[0m: "
     ]
    }
   ],
   "source": [
    "import rclpy\n",
    "from rclpy.node import Node\n",
    "\n",
    "from std_msgs.msg import String\n",
    "\n",
    "\n",
    "class MinimalPublisher(Node):\n",
    "\n",
    "    def __init__(self):\n",
    "        super().__init__('minimal_publisher')\n",
    "        self.publisher_ = self.create_publisher(String, 'topic', 10)\n",
    "        timer_period = 0.5  # seconds\n",
    "        self.timer = self.create_timer(timer_period, self.timer_callback)\n",
    "        self.i = 0\n",
    "\n",
    "    def timer_callback(self):\n",
    "        msg = String()\n",
    "        msg.data = 'Hello World: %d' % self.i\n",
    "        self.publisher_.publish(msg)\n",
    "        self.get_logger().info('Publishing: \"%s\"' % msg.data)\n",
    "        self.i += 1\n",
    "\n",
    "\n",
    "def main(args=None):\n",
    "    rclpy.init(args=args)\n",
    "\n",
    "    minimal_publisher = MinimalPublisher()\n",
    "\n",
    "    rclpy.spin(minimal_publisher)\n",
    "\n",
    "    # Destroy the node explicitly\n",
    "    # (optional - otherwise it will be done automatically\n",
    "    # when the garbage collector destroys the node object)\n",
    "    minimal_publisher.destroy_node()\n",
    "    rclpy.shutdown()\n",
    "\n",
    "\n",
    "main()"
   ]
  }
 ],
 "metadata": {
  "kernelspec": {
   "display_name": "Python 3 (ipykernel)",
   "language": "python",
   "name": "python3"
  },
  "language_info": {
   "codemirror_mode": {
    "name": "ipython",
    "version": 3
   },
   "file_extension": ".py",
   "mimetype": "text/x-python",
   "name": "python",
   "nbconvert_exporter": "python",
   "pygments_lexer": "ipython3",
   "version": "3.10.6"
  }
 },
 "nbformat": 4,
 "nbformat_minor": 5
}
