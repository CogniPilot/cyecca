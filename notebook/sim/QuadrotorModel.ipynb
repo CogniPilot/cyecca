{
 "cells": [
  {
   "cell_type": "code",
   "execution_count": 1,
   "metadata": {
    "tags": []
   },
   "outputs": [],
   "source": [
    "import numpy as np\n",
    "import quadrotor\n",
    "\n",
    "model = quadrotor.derive_model()\n",
    "\n",
    "t = np.arange(0, 10, 0.001)\n",
    "T_trim = 0.582324\n",
    "u_sim = np.vstack(\n",
    "    [\n",
    "        1.2 * T_trim * np.ones(len(t)),\n",
    "        1.2 * T_trim * np.ones(len(t)),\n",
    "        1.2 * T_trim * np.ones(len(t)),\n",
    "        1.2 * T_trim * np.ones(len(t)),\n",
    "    ]\n",
    ")\n",
    "\n",
    "res = quadrotor.sim(\n",
    "    model=model,\n",
    "    t=t,\n",
    "    u=u_sim,\n",
    "    x0={\n",
    "        \"normalized_motor_0\": T_trim,\n",
    "        \"normalized_motor_1\": T_trim,\n",
    "        \"normalized_motor_2\": T_trim,\n",
    "        \"normalized_motor_3\": T_trim,\n",
    "    },\n",
    ")\n",
    "\n",
    "quadrotor.plotting(model, t, res, \"./fig\")"
   ]
  },
  {
   "cell_type": "code",
   "execution_count": 3,
   "metadata": {
    "tags": []
   },
   "outputs": [
    {
     "ename": "",
     "evalue": "",
     "output_type": "error",
     "traceback": [
      "\u001b[1;31mThe Kernel crashed while executing code in the current cell or a previous cell. \n",
      "\u001b[1;31mPlease review the code in the cell(s) to identify a possible cause of the failure. \n",
      "\u001b[1;31mClick <a href='https://aka.ms/vscodeJupyterKernelCrash'>here</a> for more info. \n",
      "\u001b[1;31mView Jupyter <a href='command:jupyter.viewOutput'>log</a> for further details."
     ]
    }
   ],
   "source": [
    "import rclpy\n",
    "from rclpy.node import Node\n",
    "\n",
    "from geometry_msgs.msg import Pose\n",
    "\n",
    "\n",
    "class MinimalPublisher(Node):\n",
    "\n",
    "    def __init__(self):\n",
    "        super().__init__(\"minimal_publisher\")\n",
    "        self.publisher_ = self.create_publisher(Pose, \"pose\", 10)\n",
    "        timer_period = 0.5  # seconds\n",
    "        self.timer = self.create_timer(timer_period, self.timer_callback)\n",
    "        self.i = 0\n",
    "\n",
    "    def timer_callback(self):\n",
    "        msg = Pose()\n",
    "        msg.position.x = 1\n",
    "        msg.position.y = 1\n",
    "        msg.position.z = 1\n",
    "        self.publisher_.publish(msg)\n",
    "        print(\"hi\")\n",
    "\n",
    "\n",
    "def main(args=None):\n",
    "    rclpy.init(args=args)\n",
    "    minimal_publisher = MinimalPublisher()\n",
    "    rclpy.spin(minimal_publisher)\n",
    "\n",
    "    print(\"exiting\")\n",
    "    rclpy.shutdown()\n",
    "\n",
    "\n",
    "main()"
   ]
  },
  {
   "cell_type": "code",
   "execution_count": null,
   "metadata": {},
   "outputs": [],
   "source": []
  },
  {
   "cell_type": "code",
   "execution_count": 3,
   "metadata": {
    "tags": []
   },
   "outputs": [
    {
     "name": "stdout",
     "output_type": "stream",
     "text": [
      "47.2 ms ± 320 μs per loop (mean ± std. dev. of 7 runs, 10 loops each)\n"
     ]
    }
   ],
   "source": [
    "%%timeit\n",
    "res = quadrotor.sim(\n",
    "    model,\n",
    "    t,\n",
    "    u_sim,\n",
    "    {\n",
    "        \"normalized_motor_0\": T_trim,\n",
    "        \"normalized_motor_1\": T_trim,\n",
    "        \"normalized_motor_2\": T_trim,\n",
    "        \"normalized_motor_3\": T_trim,\n",
    "    },\n",
    ")"
   ]
  },
  {
   "cell_type": "code",
   "execution_count": 5,
   "metadata": {
    "tags": []
   },
   "outputs": [],
   "source": [
    "import rclpy"
   ]
  },
  {
   "cell_type": "code",
   "execution_count": null,
   "metadata": {},
   "outputs": [],
   "source": []
  }
 ],
 "metadata": {
  "kernelspec": {
   "display_name": "Python 3 (ipykernel)",
   "language": "python",
   "name": "python3"
  },
  "language_info": {
   "codemirror_mode": {
    "name": "ipython",
    "version": 3
   },
   "file_extension": ".py",
   "mimetype": "text/x-python",
   "name": "python",
   "nbconvert_exporter": "python",
   "pygments_lexer": "ipython3",
   "version": "3.12.3"
  }
 },
 "nbformat": 4,
 "nbformat_minor": 4
}
