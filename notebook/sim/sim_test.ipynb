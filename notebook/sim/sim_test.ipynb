{
 "cells": [
  {
   "cell_type": "code",
   "execution_count": 6,
   "metadata": {},
   "outputs": [
    {
     "name": "stdout",
     "output_type": "stream",
     "text": [
      "Context.init() must only be called once\n"
     ]
    }
   ],
   "source": [
    "import rclpy\n",
    "from rclpy.node import Node\n",
    "\n",
    "\n",
    "class PosePublisher(Node):\n",
    "    def __init__(self):\n",
    "        super().__init__(\"pose_publisher\")\n",
    "        timer_period = 0.5\n",
    "        self.timer = self.create_timer(timer_period, self.timer_callback)\n",
    "\n",
    "    def timer_callback(self):\n",
    "        print(\"hello\")\n",
    "\n",
    "\n",
    "def main():\n",
    "    try:\n",
    "        rclpy.init()\n",
    "        pose_pub = PosePublisher()\n",
    "        rclpy.spin(pose_pub)\n",
    "    except Exception as e:\n",
    "        print(type(e), e)\n",
    "        rclpy.shutdown()\n",
    "\n",
    "\n",
    "main()"
   ]
  }
 ],
 "metadata": {
  "kernelspec": {
   "display_name": ".venv",
   "language": "python",
   "name": "python3"
  },
  "language_info": {
   "codemirror_mode": {
    "name": "ipython",
    "version": 3
   },
   "file_extension": ".py",
   "mimetype": "text/x-python",
   "name": "python",
   "nbconvert_exporter": "python",
   "pygments_lexer": "ipython3",
   "version": "3.12.3"
  }
 },
 "nbformat": 4,
 "nbformat_minor": 2
}
